{
 "cells": [
  {
   "cell_type": "markdown",
   "id": "40dc4f9d-b6fa-44d4-b72a-567ee1215a66",
   "metadata": {},
   "source": [
    "# Implementing regressions"
   ]
  },
  {
   "cell_type": "markdown",
   "id": "439bf739-6906-4ff9-80ab-02bb6d2b150e",
   "metadata": {},
   "source": [
    "We begin by generating some data to work with. We'll use the same data we used in the previous section."
   ]
  },
  {
   "cell_type": "code",
   "execution_count": 2,
   "id": "5c7b4621-c41f-4ba6-b4df-9ed6fe7e92da",
   "metadata": {},
   "outputs": [],
   "source": [
    "from numpy.random import default_rng\n",
    "rng = default_rng(8675309)\n",
    "N = 100\n",
    "x = rng.uniform(high=10, size=(N,1))\n",
    "ε = rng.normal(0, 7, size=(N,1))\n",
    "y = 2 - 3*x + ε"
   ]
  },
  {
   "cell_type": "markdown",
   "id": "deb054c7-741b-46e9-b397-36f6a1dee617",
   "metadata": {
    "slideshow": {
     "slide_type": "slide"
    }
   },
   "source": [
    "## `statsmodels`"
   ]
  },
  {
   "cell_type": "code",
   "execution_count": 3,
   "id": "82a2081c-c534-428f-819f-48e15b5ca4e5",
   "metadata": {},
   "outputs": [],
   "source": [
    "import statsmodels.api as sm"
   ]
  },
  {
   "cell_type": "markdown",
   "id": "7347afe4-ee7d-4346-8826-ad524785647f",
   "metadata": {},
   "source": [
    "In `statsmodels` we can construct the design matrix simply by calling the `.add_constant()` method. This simply adds a column of ones to the beginning of the $X$ matrix."
   ]
  },
  {
   "cell_type": "code",
   "execution_count": 4,
   "id": "34391dbe-88cb-4369-8845-d2ce07fddb61",
   "metadata": {},
   "outputs": [
    {
     "data": {
      "text/plain": [
       "array([[1.        , 3.78932572],\n",
       "       [1.        , 8.14510763],\n",
       "       [1.        , 6.25815208],\n",
       "       [1.        , 9.06732906],\n",
       "       [1.        , 1.51201567]])"
      ]
     },
     "execution_count": 4,
     "metadata": {},
     "output_type": "execute_result"
    }
   ],
   "source": [
    "X = sm.add_constant(x)\n",
    "\n",
    "X[:5]"
   ]
  },
  {
   "cell_type": "markdown",
   "id": "02cdc1eb-3e76-4e3f-9cd0-433bb6efd98e",
   "metadata": {},
   "source": [
    "We then create our model and *fit* it. The most basic regression model is called the Ordinary Least Squares (OLS) model, which we use here. We store the results object from the `fit()` method in `results`."
   ]
  },
  {
   "cell_type": "code",
   "execution_count": 5,
   "id": "0a19dfe6-430a-4893-8b33-aaa8aa9f521e",
   "metadata": {},
   "outputs": [],
   "source": [
    "model = sm.OLS(y, X)\n",
    "results = model.fit()"
   ]
  },
  {
   "cell_type": "markdown",
   "id": "a6dc26d3-880a-4403-b51f-827576f582b2",
   "metadata": {},
   "source": [
    "We can see the regression output by calling the `summary()` method of this `results` object."
   ]
  },
  {
   "cell_type": "code",
   "execution_count": 6,
   "id": "8add1292-0207-48a9-9b8c-ae94d694ff17",
   "metadata": {
    "slideshow": {
     "slide_type": "subslide"
    }
   },
   "outputs": [
    {
     "name": "stdout",
     "output_type": "stream",
     "text": [
      "                            OLS Regression Results                            \n",
      "==============================================================================\n",
      "Dep. Variable:                      y   R-squared:                       0.672\n",
      "Model:                            OLS   Adj. R-squared:                  0.668\n",
      "Method:                 Least Squares   F-statistic:                     200.6\n",
      "Date:                Wed, 23 Feb 2022   Prob (F-statistic):           1.92e-25\n",
      "Time:                        11:17:51   Log-Likelihood:                -322.88\n",
      "No. Observations:                 100   AIC:                             649.8\n",
      "Df Residuals:                      98   BIC:                             655.0\n",
      "Df Model:                           1                                         \n",
      "Covariance Type:            nonrobust                                         \n",
      "==============================================================================\n",
      "                 coef    std err          t      P>|t|      [0.025      0.975]\n",
      "------------------------------------------------------------------------------\n",
      "const          2.2501      1.394      1.614      0.110      -0.517       5.017\n",
      "x1            -3.2131      0.227    -14.162      0.000      -3.663      -2.763\n",
      "==============================================================================\n",
      "Omnibus:                        1.152   Durbin-Watson:                   2.282\n",
      "Prob(Omnibus):                  0.562   Jarque-Bera (JB):                1.071\n",
      "Skew:                          -0.249   Prob(JB):                        0.585\n",
      "Kurtosis:                       2.904   Cond. No.                         14.2\n",
      "==============================================================================\n",
      "\n",
      "Notes:\n",
      "[1] Standard Errors assume that the covariance matrix of the errors is correctly specified.\n"
     ]
    }
   ],
   "source": [
    "print(results.summary())"
   ]
  },
  {
   "cell_type": "markdown",
   "id": "9056bb19-a868-4e72-aad5-0c87c1b976bd",
   "metadata": {},
   "source": [
    "The output provides information about the model. The main things to focus on are the coefficient estimates for `const` and `x1`. For each coefficient, we see:\n",
    "\n",
    "- The **coefficient estimate**, `coef`. The estimates here match what we calculated above.\n",
    "\n",
    "- The **standard error** of the estimate, `std err`. This is the standard deviation of our estimate. The estimate itself is a random variable, so it has a distribution. If we could run this regression on different data repeatedly, $\\hat\\beta$ would vary across samples. But how much would it vary? The standard error gives an estimate of the standard deviation of that distribution. The smaller is the standard error, the more precise is our estimate, and the more confident we are that the estimate is close to the true value.\n",
    "\n",
    "- The **t-statistic**, `t`. This is simply `coef` divised by `std err`. It tells us how many standard deviations from zero is the coefficient estimate. The more standard deviations from zero is the coefficient, the more confident we can be that the coefficient is not zero (and that the coefficient should therefore be included in our model). Recall that 95% of a Normal pdf lies within 1.96 standard deviations of the mean, so a conventional cutoff value to determine that a result is *statistically significant* is 1.96. To be even more sure, we could use a cutoff of 2.58, corresponding to a 99% confidence level.\n",
    "\n",
    "- The **p-value**, `P>|t|`. This is the probability that, under the *null hypothesis* that $\\beta=0$, we would see a coefficient estimate as large as `coef`. In other words, it is the probability of getting this coefficient estimate even if the true coefficient is zero. The smaller this number is, the more confident we can be that the true value of the coefficient is not zero. Conventional cutoff values for this value are 0.05 or 0.01, meaning we have only a 5% or a 1% chance of incorrectly getting a non-zero estimate. For technical statistical reasons, the $p$-values are calculated from the $t$-distribution with parameter $\\nu$ equal to the $N-K$, shown in `DF Residuals`. As long as this is reasonably large (say, about 100), it is very close to a Normal distribution.\n",
    "\n",
    "- The 95% **confidence interval**, with a 2.5% lower bound (`0.025`) and the 97.5% upper bound (`0.975`). This gives the lower and upper bound for the range in which we expect the true value of $\\beta$ to lie, in 95% of samples. If this range includes zero, we cannot be 95% confident that the true coefficient is not zero."
   ]
  },
  {
   "cell_type": "markdown",
   "id": "ef59e939-442a-4c68-a9d0-085e1e7f1528",
   "metadata": {},
   "source": [
    "Note that the $t$-statistic, $p$-value, and confidence intervals each provide a different way of determining the same thing — whether the coefficient estimate is statistically significant, meaning we are confident that it is not zero. If we do not have significant statistical evidence that the coefficient is *not* zero, we will not reject the null hypothesis, and must conclude that the true coefficient may be zero. (The assumption here is that the *null hypothesis* for the coefficient values are zero. We might choose a different null hypothesis depending on the economic meaning of the regression we are running. For example, a reasonable null hypothesis for the $\\beta$ coefficient in a CAPM regression, which we will discuss later, is that it equals one.)"
   ]
  },
  {
   "cell_type": "markdown",
   "id": "3206d198-c0c0-4038-aae9-4e645a4a92ca",
   "metadata": {},
   "source": [
    "All of the values reported here are available as properties of the `results` object."
   ]
  },
  {
   "cell_type": "code",
   "execution_count": 7,
   "id": "7c25c14a-f4a4-4ce7-9837-7b172e122037",
   "metadata": {},
   "outputs": [
    {
     "data": {
      "text/plain": [
       "array([ 2.25006151, -3.21306049])"
      ]
     },
     "execution_count": 7,
     "metadata": {},
     "output_type": "execute_result"
    }
   ],
   "source": [
    "# coefficient (a.k.a. \"parameter\") estimates\n",
    "results.params"
   ]
  },
  {
   "cell_type": "code",
   "execution_count": 8,
   "id": "e089c8d2-f35e-459c-b360-b82d4965d069",
   "metadata": {},
   "outputs": [
    {
     "data": {
      "text/plain": [
       "array([1.39446419, 0.22687479])"
      ]
     },
     "execution_count": 8,
     "metadata": {},
     "output_type": "execute_result"
    }
   ],
   "source": [
    "# standard errors\n",
    "results.bse"
   ]
  },
  {
   "cell_type": "code",
   "execution_count": 9,
   "id": "ce876f40-547f-49c1-b856-4a8e8ad5030f",
   "metadata": {},
   "outputs": [
    {
     "data": {
      "text/plain": [
       "array([  1.61356708, -14.16226327])"
      ]
     },
     "execution_count": 9,
     "metadata": {},
     "output_type": "execute_result"
    }
   ],
   "source": [
    "results.tvalues"
   ]
  },
  {
   "cell_type": "code",
   "execution_count": 10,
   "id": "9d5905bd-e019-4870-9ccb-e4821794452a",
   "metadata": {},
   "outputs": [
    {
     "data": {
      "text/plain": [
       "array([1.09836933e-01, 1.91579434e-25])"
      ]
     },
     "execution_count": 10,
     "metadata": {},
     "output_type": "execute_result"
    }
   ],
   "source": [
    "results.pvalues"
   ]
  },
  {
   "cell_type": "code",
   "execution_count": 11,
   "id": "ce4aa612-abac-4b12-b4d3-57d2aed899f6",
   "metadata": {},
   "outputs": [
    {
     "data": {
      "text/plain": [
       "array([[-0.51720728,  5.0173303 ],\n",
       "       [-3.66328612, -2.76283485]])"
      ]
     },
     "execution_count": 11,
     "metadata": {},
     "output_type": "execute_result"
    }
   ],
   "source": [
    "results.conf_int()"
   ]
  },
  {
   "cell_type": "markdown",
   "id": "d5a85898-c665-4239-8f73-922cb028cf55",
   "metadata": {},
   "source": [
    "The $R^2$, reported in the top right, matches what we saw previously for these data. (The adjusted $R^2$ makes a small adjustment for now many regressors are in the model.)"
   ]
  },
  {
   "cell_type": "code",
   "execution_count": 12,
   "id": "1e6098c7-57f4-41a9-a1f4-5d980f33a4c9",
   "metadata": {},
   "outputs": [
    {
     "data": {
      "text/plain": [
       "0.6717684356677902"
      ]
     },
     "execution_count": 12,
     "metadata": {},
     "output_type": "execute_result"
    }
   ],
   "source": [
    "results.rsquared"
   ]
  },
  {
   "cell_type": "markdown",
   "id": "f4407fd4-a895-4f68-8d4a-98a7ab25a1ca",
   "metadata": {},
   "source": [
    "The residuals in the model, $y_i - \\hat y_i$, are stored in `results.resid`."
   ]
  },
  {
   "cell_type": "code",
   "execution_count": 13,
   "id": "57954ab2-4ea0-4224-bfe2-f6883861a20b",
   "metadata": {
    "tags": [
     "output_scroll"
    ]
   },
   "outputs": [
    {
     "data": {
      "text/plain": [
       "array([ -5.91397468,   5.07665738,  -6.98873   ,  -4.77994096,\n",
       "         0.49220215,  -3.96302479,  -0.01640861,   0.62167248,\n",
       "        -8.93456945,   4.75380849,  -3.38790079,   0.59063684,\n",
       "         0.56155237,   6.58183194,  -3.48127291,  10.05438448,\n",
       "         3.67793934,   3.3280935 ,   9.33665701,   4.38616836,\n",
       "        11.25593172,   2.368698  ,  -3.61804042,  -2.92435415,\n",
       "        -0.68969778,  -1.83603276,   0.06247803,   0.53630417,\n",
       "         7.08035302,  -6.39939944,   2.32779418,  -1.08186821,\n",
       "         0.83827227,   3.80096487,  -0.13286615, -11.63278491,\n",
       "        12.78918804,   8.64175088,  -6.59585822,   3.59027232,\n",
       "        -4.88406231,   0.86884297,  -9.46777888,   8.00687785,\n",
       "        -5.67446301,  -1.42314026,  -1.11552602,   3.18585992,\n",
       "         6.33387461,   2.61309851,  -2.83416709,  10.72126541,\n",
       "        -3.97561675,   4.27015649,   3.15769668,   6.44483539,\n",
       "         9.20391077,  -6.29658009,  -2.62055196,   1.77883887,\n",
       "       -15.65130528,   5.09749229,   4.16405288,  -3.27092355,\n",
       "         8.5428581 , -12.64911823,   2.86861065,   6.95307436,\n",
       "       -10.06853904,  -1.50939294,   7.99126133,   6.48402135,\n",
       "        -2.77350482,  -0.63466593,  -0.91844545,   3.6306765 ,\n",
       "        -8.48031017,   1.25470168,   9.84338626,  -0.11856589,\n",
       "        -5.05016436,   1.82615412,  -1.07633402,  -0.80554071,\n",
       "        -4.67484153, -14.99787183,  -2.79584693,   5.60637308,\n",
       "        -6.34644129,   0.32560137, -15.13062335,  -4.25759084,\n",
       "        -8.11142115,  -2.16412499,   1.60561356,   2.57238982,\n",
       "         1.67443057,  -4.37752497,  11.98568519,  -5.23354454])"
      ]
     },
     "execution_count": 13,
     "metadata": {},
     "output_type": "execute_result"
    }
   ],
   "source": [
    "results.resid"
   ]
  },
  {
   "cell_type": "markdown",
   "id": "3cfb2f2c-c962-4c75-9c85-b71780533246",
   "metadata": {},
   "source": [
    "Notice also that the skewness and kurtosis of the residuals, reported on the bottom left of the summary table, match what we would expect for a Normally distributed random variable."
   ]
  },
  {
   "cell_type": "code",
   "execution_count": 14,
   "id": "cc828412-3cf5-4ee2-8d0f-63e6e245f807",
   "metadata": {
    "tags": []
   },
   "outputs": [
    {
     "data": {
      "text/plain": [
       "-0.24898612136624373"
      ]
     },
     "execution_count": 14,
     "metadata": {},
     "output_type": "execute_result"
    }
   ],
   "source": [
    "import scipy.stats as scs\n",
    "\n",
    "scs.skew(results.resid)"
   ]
  },
  {
   "cell_type": "code",
   "execution_count": 15,
   "id": "b5291fe0-4ed8-40ec-9919-83666c2541a2",
   "metadata": {
    "tags": []
   },
   "outputs": [
    {
     "data": {
      "text/plain": [
       "2.9041857964065585"
      ]
     },
     "execution_count": 15,
     "metadata": {},
     "output_type": "execute_result"
    }
   ],
   "source": [
    "scs.kurtosis(results.resid) + 3"
   ]
  },
  {
   "cell_type": "markdown",
   "id": "f733d4b0-cf58-47b2-b3c9-34d589a70579",
   "metadata": {},
   "source": [
    "We can calculate predicted values for values of $x$ from using the `results.predict` method. Here, we'll use our model to predict data for $x={-3, -2, \\ldots, 12}$."
   ]
  },
  {
   "cell_type": "code",
   "execution_count": 58,
   "id": "8200b113-a293-48a7-98a4-8b7f069c59df",
   "metadata": {
    "hide_input": false,
    "slideshow": {
     "slide_type": "subslide"
    },
    "tags": [
     "hide-input"
    ]
   },
   "outputs": [
    {
     "data": {
      "image/png": "[encoded data removed]",
      "text/plain": [
       "<Figure size 864x648 with 1 Axes>"
      ]
     },
     "metadata": {
      "needs_background": "light"
     },
     "output_type": "display_data"
    }
   ],
   "source": [
    "fig, ax = plt.subplots(figsize=(12,9))\n",
    "\n",
    "ax.plot(x, y, 'o')\n",
    "\n",
    "# calculate predicted values\n",
    "xvals = np.arange(-3,13)\n",
    "y_hat = results.predict(sm.add_constant(xvals))\n",
    "\n",
    "ax.plot(xvals, y_hat, lw=3)\n",
    "\n",
    "ax.set_xlabel('X')\n",
    "ax.set_ylabel('Y')\n",
    "plt.show()"
   ]
  },
  {
   "cell_type": "markdown",
   "id": "adeabad0-5074-4cfc-aee2-277efdc0ff2e",
   "metadata": {
    "slideshow": {
     "slide_type": "slide"
    }
   },
   "source": [
    "## `sklearn`"
   ]
  },
  {
   "cell_type": "markdown",
   "id": "f3c492d7-ab45-4cf9-8b0e-dac602f68364",
   "metadata": {},
   "source": [
    "Scikit-learn is a module that provides extensive capabilities for machine learning (ML). Since linear regression is one of the tools of ML methods, it is included among many other types of models."
   ]
  },
  {
   "cell_type": "code",
   "execution_count": 59,
   "id": "ea13f5ea-708d-4037-9efd-b907d7b79ce6",
   "metadata": {},
   "outputs": [],
   "source": [
    "from sklearn.linear_model import LinearRegression"
   ]
  },
  {
   "cell_type": "code",
   "execution_count": 60,
   "id": "f7a10343-d4be-48df-b35d-fa6c8d05cda0",
   "metadata": {},
   "outputs": [
    {
     "data": {
      "text/plain": [
       "LinearRegression()"
      ]
     },
     "execution_count": 60,
     "metadata": {},
     "output_type": "execute_result"
    }
   ],
   "source": [
    "lin_reg = LinearRegression()\n",
    "\n",
    "lin_reg.fit(x, y)  # note that we don't pass the X matrix augmented with 1s"
   ]
  },
  {
   "cell_type": "markdown",
   "id": "11346072-ceef-492a-9fed-a07c8f03c5e7",
   "metadata": {},
   "source": [
    "Again, the coefficient estimates are identical to the previous methods."
   ]
  },
  {
   "cell_type": "code",
   "execution_count": 61,
   "id": "873665ea-1899-4e0d-b54b-6f2158579c73",
   "metadata": {},
   "outputs": [
    {
     "data": {
      "text/plain": [
       "array([2.25006151])"
      ]
     },
     "execution_count": 61,
     "metadata": {},
     "output_type": "execute_result"
    }
   ],
   "source": [
    "lin_reg.intercept_"
   ]
  },
  {
   "cell_type": "code",
   "execution_count": 62,
   "id": "c9b6e2a0-57a8-4b5c-8de3-1c0c9c31face",
   "metadata": {},
   "outputs": [
    {
     "data": {
      "text/plain": [
       "array([[-3.21306049]])"
      ]
     },
     "execution_count": 62,
     "metadata": {},
     "output_type": "execute_result"
    }
   ],
   "source": [
    "lin_reg.coef_"
   ]
  },
  {
   "cell_type": "code",
   "execution_count": 63,
   "id": "94d4f596-2904-4241-b1a9-4c16b4d56b71",
   "metadata": {},
   "outputs": [
    {
     "data": {
      "text/plain": [
       "0.6717684356677902"
      ]
     },
     "execution_count": 63,
     "metadata": {},
     "output_type": "execute_result"
    }
   ],
   "source": [
    "# R-squared\n",
    "lin_reg.score(x,y)"
   ]
  },
  {
   "cell_type": "markdown",
   "id": "2a82650d-6f7f-4503-b2a7-a5a0be83c7c1",
   "metadata": {
    "slideshow": {
     "slide_type": "slide"
    }
   },
   "source": [
    "### Standard errors and t-statistics"
   ]
  },
  {
   "cell_type": "markdown",
   "id": "4f6065ec-1829-4bca-9e41-642fdb98437f",
   "metadata": {
    "slideshow": {
     "slide_type": "subslide"
    }
   },
   "source": [
    "`sklearn` doesn't give standard errors but we can calculate them. We simply use the equation for the variance-covariance matrix of the coeffient estimates,\n",
    "\n",
    "$$\\var(\\hat\\beta) = \\hat\\sigma^2(X'X)^{-1}.$$ "
   ]
  },
  {
   "cell_type": "code",
   "execution_count": 64,
   "id": "66ee03e7-24e3-4ad4-85e5-fc784e74551e",
   "metadata": {},
   "outputs": [
    {
     "data": {
      "text/plain": [
       "array([[ 1.92488865, -0.28082839],\n",
       "       [-0.28082839,  0.05095225]])"
      ]
     },
     "execution_count": 64,
     "metadata": {},
     "output_type": "execute_result"
    }
   ],
   "source": [
    "from numpy.linalg import inv\n",
    "\n",
    "RSS = (1 - lin_reg.score(x,y)) * y.var() * N\n",
    "\n",
    "N, K = x.shape\n",
    "\n",
    "varcov = RSS/(N-K) * inv(X.T @ X)\n",
    "\n",
    "varcov"
   ]
  },
  {
   "cell_type": "markdown",
   "id": "95af0862-5c1b-4bae-ae40-bfb8d181f80a",
   "metadata": {},
   "source": [
    "The diagonal elements of this matrix give the estimated variance of each coefficent, which we can use to calculate the standard errors. The calculated values are very similar to the `statsmodels` results, but vary slightly due to different statistical assumptions embedded in the calculation."
   ]
  },
  {
   "cell_type": "code",
   "execution_count": 65,
   "id": "ca9d669f-e226-4402-92b3-e33582b1100a",
   "metadata": {},
   "outputs": [
    {
     "data": {
      "text/plain": [
       "array([1.38740356, 0.22572605])"
      ]
     },
     "execution_count": 65,
     "metadata": {},
     "output_type": "execute_result"
    }
   ],
   "source": [
    "np.sqrt(varcov.diagonal())"
   ]
  },
  {
   "cell_type": "code",
   "execution_count": 66,
   "id": "0e31bfe0-ab9f-4a32-b959-e621fe36ca3c",
   "metadata": {},
   "outputs": [
    {
     "data": {
      "text/plain": [
       "array([[  1.62177867, -14.23433632]])"
      ]
     },
     "execution_count": 66,
     "metadata": {},
     "output_type": "execute_result"
    }
   ],
   "source": [
    "np.c_[(lin_reg.intercept_, lin_reg.coef_)] / np.sqrt(varcov.diagonal())"
   ]
  },
  {
   "cell_type": "markdown",
   "id": "51efca3b-0184-41be-9b0f-8df2e6d19a3e",
   "metadata": {
    "slideshow": {
     "slide_type": "slide"
    }
   },
   "source": [
    "## Nonlinear data\n",
    "\n",
    "What if our data isn't linear?"
   ]
  },
  {
   "cell_type": "code",
   "execution_count": 74,
   "id": "f2207228-4811-442f-b8fa-dd333f11d8b7",
   "metadata": {},
   "outputs": [
    {
     "data": {
      "image/png": "[encoded data removed]",
      "text/plain": [
       "<Figure size 864x432 with 1 Axes>"
      ]
     },
     "metadata": {
      "needs_background": "light"
     },
     "output_type": "display_data"
    }
   ],
   "source": [
    "x = 6 * rng.uniform(size=(N,1)) - 3\n",
    "y = 2 + x + 0.5*x**2 + rng.standard_normal(size=(N, 1))\n",
    "\n",
    "fig, ax = plt.subplots(figsize=(12,6))\n",
    "ax.plot(x, y, 'bo')\n",
    "ax.set_xlabel('x', fontsize=16)\n",
    "ax.set_ylabel('y', rotation=0, fontsize=16)\n",
    "ax.axis([-3, 3, 0, 10])\n",
    "plt.show()"
   ]
  },
  {
   "cell_type": "code",
   "execution_count": 75,
   "id": "53ab84b0-2294-4eed-9ff5-f53f37222594",
   "metadata": {
    "slideshow": {
     "slide_type": "subslide"
    }
   },
   "outputs": [
    {
     "data": {
      "text/plain": [
       "array([[ 1.        ,  0.86551968,  0.74912432],\n",
       "       [ 1.        , -1.33982714,  1.79513677],\n",
       "       [ 1.        , -1.35113649,  1.82556983],\n",
       "       [ 1.        ,  2.89001064,  8.3521615 ],\n",
       "       [ 1.        , -0.57339857,  0.32878593]])"
      ]
     },
     "execution_count": 75,
     "metadata": {},
     "output_type": "execute_result"
    }
   ],
   "source": [
    "X = np.c_[np.ones(N), x, x**2]\n",
    "X[:5]"
   ]
  },
  {
   "cell_type": "code",
   "execution_count": 76,
   "id": "315bbd38-d065-422b-b44a-4ae424bc70d9",
   "metadata": {},
   "outputs": [
    {
     "name": "stdout",
     "output_type": "stream",
     "text": [
      "                            OLS Regression Results                            \n",
      "==============================================================================\n",
      "Dep. Variable:                      y   R-squared:                       0.825\n",
      "Model:                            OLS   Adj. R-squared:                  0.822\n",
      "Method:                 Least Squares   F-statistic:                     229.1\n",
      "Date:                Wed, 23 Feb 2022   Prob (F-statistic):           1.80e-37\n",
      "Time:                        11:41:17   Log-Likelihood:                -140.79\n",
      "No. Observations:                 100   AIC:                             287.6\n",
      "Df Residuals:                      97   BIC:                             295.4\n",
      "Df Model:                           2                                         \n",
      "Covariance Type:            nonrobust                                         \n",
      "==============================================================================\n",
      "                 coef    std err          t      P>|t|      [0.025      0.975]\n",
      "------------------------------------------------------------------------------\n",
      "const          2.0611      0.145     14.201      0.000       1.773       2.349\n",
      "x1             1.0753      0.058     18.508      0.000       0.960       1.191\n",
      "x2             0.4504      0.035     13.048      0.000       0.382       0.519\n",
      "==============================================================================\n",
      "Omnibus:                        1.062   Durbin-Watson:                   2.065\n",
      "Prob(Omnibus):                  0.588   Jarque-Bera (JB):                1.153\n",
      "Skew:                          -0.195   Prob(JB):                        0.562\n",
      "Kurtosis:                       2.646   Cond. No.                         6.30\n",
      "==============================================================================\n",
      "\n",
      "Notes:\n",
      "[1] Standard Errors assume that the covariance matrix of the errors is correctly specified.\n"
     ]
    }
   ],
   "source": [
    "model2 = sm.OLS(y, X)\n",
    "results2 = model2.fit()\n",
    "\n",
    "print(results2.summary())"
   ]
  },
  {
   "cell_type": "markdown",
   "id": "00788414-b840-4c31-a047-67ff151094f3",
   "metadata": {},
   "source": [
    "In scikit-learn we can easily add additional polynomial terms."
   ]
  },
  {
   "cell_type": "code",
   "execution_count": 77,
   "id": "f1113c76-e7c6-49f2-9643-7432f00d7d6a",
   "metadata": {},
   "outputs": [
    {
     "data": {
      "text/plain": [
       "array([[ 1.        ,  0.86551968,  0.74912432],\n",
       "       [ 1.        , -1.33982714,  1.79513677],\n",
       "       [ 1.        , -1.35113649,  1.82556983],\n",
       "       [ 1.        ,  2.89001064,  8.3521615 ],\n",
       "       [ 1.        , -0.57339857,  0.32878593]])"
      ]
     },
     "execution_count": 77,
     "metadata": {},
     "output_type": "execute_result"
    }
   ],
   "source": [
    "from sklearn.preprocessing import PolynomialFeatures\n",
    "\n",
    "poly_features = PolynomialFeatures(degree=2)\n",
    "x_poly = poly_features.fit_transform(x)\n",
    "\n",
    "x_poly[:5]"
   ]
  },
  {
   "cell_type": "code",
   "execution_count": 78,
   "id": "373d3e58-10c1-4982-80df-2ae34f21ffcc",
   "metadata": {
    "slideshow": {
     "slide_type": "subslide"
    }
   },
   "outputs": [
    {
     "data": {
      "text/plain": [
       "array([[2.06114078, 1.07527261, 0.45043034]])"
      ]
     },
     "execution_count": 78,
     "metadata": {},
     "output_type": "execute_result"
    }
   ],
   "source": [
    "lin_reg2 = LinearRegression(fit_intercept=False)\n",
    "lin_reg2.fit(x_poly, y)\n",
    "lin_reg2.coef_"
   ]
  },
  {
   "cell_type": "code",
   "execution_count": 79,
   "id": "cf9286c4-5305-4f3a-831d-a5d885c4fe29",
   "metadata": {},
   "outputs": [
    {
     "data": {
      "text/plain": [
       "array([[ 2.06825355,  0.83379512,  0.4774944 ,  0.04102555, -0.00357288]])"
      ]
     },
     "execution_count": 79,
     "metadata": {},
     "output_type": "execute_result"
    }
   ],
   "source": [
    "poly_features = PolynomialFeatures(degree=4)\n",
    "x_poly = poly_features.fit_transform(x)\n",
    "\n",
    "lin_reg2.fit(x_poly, y)\n",
    "lin_reg2.coef_"
   ]
  }
 ],
 "metadata": {
  "kernelspec": {
   "display_name": "Python 3 (ipykernel)",
   "language": "python",
   "name": "python3"
  },
  "language_info": {
   "codemirror_mode": {
    "name": "ipython",
    "version": 3
   },
   "file_extension": ".py",
   "mimetype": "text/x-python",
   "name": "python",
   "nbconvert_exporter": "python",
   "pygments_lexer": "ipython3",
   "version": "3.9.7"
  }
 },
 "nbformat": 4,
 "nbformat_minor": 5
}
