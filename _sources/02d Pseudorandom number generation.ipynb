{
 "cells": [
  {
   "cell_type": "markdown",
   "metadata": {
    "slideshow": {
     "slide_type": "slide"
    }
   },
   "source": [
    "# Pseudorandom number generation"
   ]
  },
  {
   "cell_type": "markdown",
   "metadata": {},
   "source": [
    "Before continuing our discussion of theoretical aspects of probablity and statistics, it will be useful to have a basic understanding of how computers generate numbers that appear random. These random numbers are used as the basis for Monte Carlo simulation, which we will study in more depth later."
   ]
  },
  {
   "cell_type": "markdown",
   "metadata": {},
   "source": [
    ":::{margin}\n",
    "Even a coin toss [may not be a truly random process](https://www.npr.org/templates/story/story.php?storyId=1697475). If we are able to perfectly control every aspect of the flip, it is possible to exert considerable control over which side comes up. In a sense, much of what humans think of as \"random\" is simply a lack of information about the process generating some outcome.\n",
    ":::"
   ]
  },
  {
   "cell_type": "markdown",
   "metadata": {
    "slideshow": {
     "slide_type": "slide"
    }
   },
   "source": [
    "Computers are deterministic: for any given input they always give the same output. As a result, they are incapable of generating truly random results. Only a physical process, like flipping a coin or rolling dice, can be thought of as truly random. Computers are capable, however, of generating sequences of numbers that *appear* random using specially designed algorithms. These numbers are called *pseudorandom*."
   ]
  },
  {
   "cell_type": "markdown",
   "metadata": {},
   "source": [
    "![Dilbert comic](https://www.random.org/analysis/dilbert.jpg)\n"
   ]
  },
  {
   "cell_type": "markdown",
   "metadata": {},
   "source": [
    "In python, both the `numpy` and `scipy` modules provide methods for generating pseudorandom numbers. In this section, we briefly review each."
   ]
  },
  {
   "cell_type": "markdown",
   "metadata": {
    "slideshow": {
     "slide_type": "slide"
    }
   },
   "source": [
    "## Using numpy"
   ]
  },
  {
   "cell_type": "code",
   "execution_count": 1,
   "metadata": {},
   "outputs": [],
   "source": [
    "import numpy as np\n",
    "\n",
    "# Initialize random number generator\n",
    "rng = np.random.default_rng()"
   ]
  },
  {
   "cell_type": "markdown",
   "metadata": {},
   "source": [
    "The `.random` method returns a random number between zero and one."
   ]
  },
  {
   "cell_type": "code",
   "execution_count": 2,
   "metadata": {
    "slideshow": {
     "slide_type": ""
    }
   },
   "outputs": [
    {
     "data": {
      "text/plain": [
       "0.2722404091618418"
      ]
     },
     "execution_count": 2,
     "metadata": {},
     "output_type": "execute_result"
    }
   ],
   "source": [
    "rng.random()"
   ]
  },
  {
   "cell_type": "markdown",
   "metadata": {},
   "source": [
    "This is a random value. Every time you execute the code on your computer you will get a different value. (Unless you specify a seed, as we discuss below.) Every number is equally likely to be chosen. Since these numbers have a precision of 17 digits, there are $10^{17}$ possible outcomes, so any particular number is incredibly unlikely: in fact, the probability of choosing any particular number is almost zero."
   ]
  },
  {
   "cell_type": "markdown",
   "metadata": {},
   "source": [
    "The optional `size` argument controls the number of draws that are returned."
   ]
  },
  {
   "cell_type": "code",
   "execution_count": 3,
   "metadata": {},
   "outputs": [
    {
     "data": {
      "text/plain": [
       "array([0.29991523, 0.3349694 , 0.47931751, 0.92760358, 0.11955616,\n",
       "       0.32122506, 0.96370828, 0.14243041])"
      ]
     },
     "execution_count": 3,
     "metadata": {},
     "output_type": "execute_result"
    }
   ],
   "source": [
    "rng.random(8)"
   ]
  },
  {
   "cell_type": "code",
   "execution_count": 4,
   "metadata": {},
   "outputs": [
    {
     "data": {
      "text/plain": [
       "array([[0.28021173, 0.38794571, 0.12704401, 0.10107   , 0.81130356],\n",
       "       [0.01959945, 0.34606736, 0.0769582 , 0.7491976 , 0.25249427],\n",
       "       [0.95251656, 0.03844873, 0.28757088, 0.98436955, 0.30392169]])"
      ]
     },
     "execution_count": 4,
     "metadata": {},
     "output_type": "execute_result"
    }
   ],
   "source": [
    "rng.random((3,5))"
   ]
  },
  {
   "cell_type": "markdown",
   "metadata": {},
   "source": [
    "There are several other methods provided for generating other random draws."
   ]
  },
  {
   "cell_type": "code",
   "execution_count": 5,
   "metadata": {
    "slideshow": {
     "slide_type": "subslide"
    }
   },
   "outputs": [
    {
     "data": {
      "text/plain": [
       "array([3, 6, 1, 1, 6])"
      ]
     },
     "execution_count": 5,
     "metadata": {},
     "output_type": "execute_result"
    }
   ],
   "source": [
    "# draw integers from 0 to 9\n",
    "rng.integers(10, size=5)"
   ]
  },
  {
   "cell_type": "code",
   "execution_count": 5,
   "metadata": {},
   "outputs": [
    {
     "data": {
      "text/plain": [
       "array(['Ann Arbor', 'West Lafayette'], dtype='<U14')"
      ]
     },
     "execution_count": 5,
     "metadata": {},
     "output_type": "execute_result"
    }
   ],
   "source": [
    "# Choose from a list\n",
    "rng.choice(['Bloomington', 'West Lafayette', 'Ann Arbor', 'East Lansing'], 2)"
   ]
  },
  {
   "cell_type": "markdown",
   "metadata": {},
   "source": [
    "Suppose, for example, we want to simulate dealing cards from a standard deck of playing cards. We can create a deck like this..."
   ]
  },
  {
   "cell_type": "code",
   "execution_count": 6,
   "metadata": {
    "slideshow": {
     "slide_type": "subslide"
    }
   },
   "outputs": [
    {
     "data": {
      "text/plain": [
       "array(['2♦', '2♣', '2♥', '2♠', '3♦', '3♣', '3♥', '3♠', '4♦', '4♣', '4♥',\n",
       "       '4♠', '5♦', '5♣', '5♥', '5♠', '6♦', '6♣', '6♥', '6♠', '7♦', '7♣',\n",
       "       '7♥', '7♠', '8♦', '8♣', '8♥', '8♠', '9♦', '9♣', '9♥', '9♠', '10♦',\n",
       "       '10♣', '10♥', '10♠', 'J♦', 'J♣', 'J♥', 'J♠', 'Q♦', 'Q♣', 'Q♥',\n",
       "       'Q♠', 'K♦', 'K♣', 'K♥', 'K♠', 'A♦', 'A♣', 'A♥', 'A♠'], dtype='<U3')"
      ]
     },
     "execution_count": 6,
     "metadata": {},
     "output_type": "execute_result"
    }
   ],
   "source": [
    "cards = [str(r)+s\n",
    "         for r in list(range(2,11)) + list('JQKA')\n",
    "         for s in '♦♣♥♠'\n",
    "        ]\n",
    "cards = np.array(cards)\n",
    "cards"
   ]
  },
  {
   "cell_type": "markdown",
   "metadata": {},
   "source": [
    "... and deal five cards like this:"
   ]
  },
  {
   "cell_type": "code",
   "execution_count": 7,
   "metadata": {},
   "outputs": [
    {
     "data": {
      "text/plain": [
       "array(['A♠', '6♦', '10♦', 'J♣', '8♥'], dtype='<U3')"
      ]
     },
     "execution_count": 7,
     "metadata": {},
     "output_type": "execute_result"
    }
   ],
   "source": [
    "rng.choice(cards, 5, replace=False)"
   ]
  },
  {
   "cell_type": "markdown",
   "metadata": {},
   "source": [
    "As we've seen, mathematicians have developed many *[statistical distributions](https://en.wikipedia.org/wiki/List_of_probability_distributions)* over the last several hundred years to describe all kinds of real-world phenomena. Numpy has many such distributions [built-in](https://numpy.org/doc/stable/reference/random/generator.html#distributions).\n",
    "\n",
    "For example, we can simulate five flips of a fair coin by drawing from the Binomial distribution with parameters $n=1$ and $p=0.5$."
   ]
  },
  {
   "cell_type": "code",
   "execution_count": 8,
   "metadata": {},
   "outputs": [
    {
     "data": {
      "text/plain": [
       "array([0, 1, 0, 1, 0])"
      ]
     },
     "execution_count": 8,
     "metadata": {},
     "output_type": "execute_result"
    }
   ],
   "source": [
    "rng.binomial(n=1, p=0.5, size=5)"
   ]
  },
  {
   "cell_type": "markdown",
   "metadata": {},
   "source": [
    "Or, we can simulate the outcome of five people each flipping a coin ten times, and reporting how many times it comes up \"Heads.\""
   ]
  },
  {
   "cell_type": "code",
   "execution_count": 9,
   "metadata": {},
   "outputs": [
    {
     "data": {
      "text/plain": [
       "array([8, 6, 2, 7, 4])"
      ]
     },
     "execution_count": 9,
     "metadata": {},
     "output_type": "execute_result"
    }
   ],
   "source": [
    "rng.binomial(n=10, p=0.5, size=5)"
   ]
  },
  {
   "cell_type": "markdown",
   "metadata": {},
   "source": [
    "Here, we draw 15 values from a standard normal distribution, $\\N(0,1)$, in a $5\\times 3$ matrix."
   ]
  },
  {
   "cell_type": "code",
   "execution_count": 11,
   "metadata": {},
   "outputs": [
    {
     "data": {
      "text/plain": [
       "array([[ 1.0074774 , -0.24043306,  0.54127701],\n",
       "       [-1.52090851,  2.06083085, -0.77401136],\n",
       "       [ 2.26833543,  0.70128983, -0.93734897],\n",
       "       [-0.5051262 , -0.58430164,  0.55165283],\n",
       "       [ 0.39643324, -0.23362117, -1.90522709]])"
      ]
     },
     "execution_count": 11,
     "metadata": {},
     "output_type": "execute_result"
    }
   ],
   "source": [
    "rng.standard_normal((5,3))"
   ]
  },
  {
   "cell_type": "markdown",
   "metadata": {},
   "source": [
    "If we make many such draws, the average should be quite close to the true mean of the distribution (in this case, zero), while the standard deviation should be quite close to its population value as well (in this case, one). Let's test this with 10,000 draws."
   ]
  },
  {
   "cell_type": "code",
   "execution_count": 23,
   "metadata": {},
   "outputs": [
    {
     "data": {
      "text/plain": [
       "(0.007898317668684292, 1.0042095510147375)"
      ]
     },
     "execution_count": 23,
     "metadata": {},
     "output_type": "execute_result"
    }
   ],
   "source": [
    "draws = rng.standard_normal(10000)\n",
    "\n",
    "draws.mean(), draws.std()"
   ]
  },
  {
   "cell_type": "code",
   "execution_count": null,
   "metadata": {},
   "outputs": [],
   "source": [
    "rng.binomial(n=1, p=0.5, size=5)"
   ]
  },
  {
   "cell_type": "markdown",
   "metadata": {},
   "source": [
    "To draw from a more general $\\N(\\mu,\\sigma^2)$ distribution, we use the `.normal` method. Here, we use $\\mu=3$ and $\\sigma=2$. (Note that the function takes the argument $\\sigma$, not $\\sigma^2$.)\n"
   ]
  },
  {
   "cell_type": "code",
   "execution_count": 24,
   "metadata": {
    "slideshow": {
     "slide_type": "subslide"
    }
   },
   "outputs": [
    {
     "data": {
      "text/plain": [
       "(2.9948733251975352, 2.0256021430035487)"
      ]
     },
     "execution_count": 24,
     "metadata": {},
     "output_type": "execute_result"
    }
   ],
   "source": [
    "draws2 = rng.normal(3, 2, 10000)\n",
    "draws2.mean(), draws2.std()"
   ]
  },
  {
   "cell_type": "markdown",
   "metadata": {},
   "source": [
    "Here is a histogram of the simulated values. Not surprisingly, it follows the typical shape of a normal distribution, although with some random noise."
   ]
  },
  {
   "cell_type": "code",
   "execution_count": 25,
   "metadata": {},
   "outputs": [
    {
     "data": {
      "image/png": "[encoded data removed]",
      "text/plain": [
       "<Figure size 648x432 with 1 Axes>"
      ]
     },
     "metadata": {
      "needs_background": "light"
     },
     "output_type": "display_data"
    }
   ],
   "source": [
    "import matplotlib.pyplot as plt\n",
    "\n",
    "fig, ax = plt.subplots(figsize=(9,6))\n",
    "ax.hist(draws2, bins=100)\n",
    "ax.grid(alpha=0.25)\n",
    "plt.show()"
   ]
  },
  {
   "cell_type": "markdown",
   "metadata": {
    "slideshow": {
     "slide_type": "slide"
    }
   },
   "source": [
    "## Specifying a seed\n",
    "\n",
    "Algorithms to generate pseudorandom numbers use a *seed* as a starting point to generate the next number in the sequence. As each random number is generated, the *state* of the algorithm changes, allowing it to generate new random draws. We can think of the pseudorandom number generator as creating an infinite series of numbers, and by providing a seed we choose where in the series to begin."
   ]
  },
  {
   "cell_type": "markdown",
   "metadata": {},
   "source": [
    "If we don't provide a seed to the algorithm, the current time is used to generate one. However, if we want to generate a stream of *reproducable* random numbers, we can specify a seed, which will allow us to get the *same* random numbers again."
   ]
  },
  {
   "cell_type": "code",
   "execution_count": 15,
   "metadata": {},
   "outputs": [
    {
     "data": {
      "text/plain": [
       "array([[-0.03940941,  0.70927967, -0.00996881],\n",
       "       [ 0.57052593, -0.32324939,  2.16436963],\n",
       "       [ 1.62858142,  0.03537361, -0.59590844],\n",
       "       [ 1.42716144,  1.95400359,  1.69854378],\n",
       "       [ 0.11976012, -0.98484949,  0.13702581]])"
      ]
     },
     "execution_count": 15,
     "metadata": {},
     "output_type": "execute_result"
    }
   ],
   "source": [
    "# providing a seed as an argument\n",
    "rng = np.random.default_rng(8675309)\n",
    "\n",
    "# random draws\n",
    "rng.standard_normal((5,3))"
   ]
  },
  {
   "cell_type": "markdown",
   "metadata": {},
   "source": [
    "If we now provide the *same* seed again, we'll get the *same* random draws."
   ]
  },
  {
   "cell_type": "code",
   "execution_count": 16,
   "metadata": {},
   "outputs": [
    {
     "data": {
      "text/plain": [
       "array([[-0.03940941,  0.70927967, -0.00996881],\n",
       "       [ 0.57052593, -0.32324939,  2.16436963],\n",
       "       [ 1.62858142,  0.03537361, -0.59590844],\n",
       "       [ 1.42716144,  1.95400359,  1.69854378],\n",
       "       [ 0.11976012, -0.98484949,  0.13702581]])"
      ]
     },
     "execution_count": 16,
     "metadata": {},
     "output_type": "execute_result"
    }
   ],
   "source": [
    "rng = np.random.default_rng(8675309)\n",
    "\n",
    "rng.standard_normal((5,3))"
   ]
  },
  {
   "cell_type": "markdown",
   "metadata": {
    "slideshow": {
     "slide_type": "slide"
    }
   },
   "source": [
    "## Using scipy\n",
    "\n",
    "Many statistical functions are also available in the [SciPy library](https://docs.scipy.org/doc/scipy/reference/stats.html)."
   ]
  },
  {
   "cell_type": "code",
   "execution_count": 17,
   "metadata": {},
   "outputs": [],
   "source": [
    "import scipy.stats as scs"
   ]
  },
  {
   "cell_type": "markdown",
   "metadata": {},
   "source": [
    "Here we use `norm` to denote the normal distribution, and call the `.rvs` method to draw random variables."
   ]
  },
  {
   "cell_type": "code",
   "execution_count": 18,
   "metadata": {},
   "outputs": [
    {
     "data": {
      "text/plain": [
       "array([[-1.83064963,  8.06838996,  6.10302284],\n",
       "       [ 6.88877481, -4.75868285,  8.66985348],\n",
       "       [16.75196457, 10.15082607, -0.58490908],\n",
       "       [11.39957428, -8.94790264,  3.24041018],\n",
       "       [15.58851126, 24.19032862, -8.59790901]])"
      ]
     },
     "execution_count": 18,
     "metadata": {},
     "output_type": "execute_result"
    }
   ],
   "source": [
    "scs.norm(5,10).rvs(size=(5,3))"
   ]
  },
  {
   "cell_type": "markdown",
   "metadata": {},
   "source": [
    "We can specify a state as follows. Even though we're working in `scipy`, we specify the state of the random number generator within `numpy`. The two modules work very closely with each other."
   ]
  },
  {
   "cell_type": "code",
   "execution_count": 19,
   "metadata": {},
   "outputs": [
    {
     "data": {
      "text/plain": [
       "array([[ 0.58902366,  0.73311856, -1.1621888 ],\n",
       "       [-0.55681601, -0.77248843, -0.16822143],\n",
       "       [-0.41650391, -1.37843129,  0.74925588],\n",
       "       [ 0.17888446,  0.69401121, -1.9780535 ],\n",
       "       [-0.83381434,  0.56437344,  0.31201299]])"
      ]
     },
     "execution_count": 19,
     "metadata": {},
     "output_type": "execute_result"
    }
   ],
   "source": [
    "rng = np.random.RandomState(8675309)\n",
    "\n",
    "scs.norm(0,1).rvs(size=(5,3), random_state=rng)"
   ]
  },
  {
   "cell_type": "code",
   "execution_count": 20,
   "metadata": {},
   "outputs": [
    {
     "data": {
      "text/plain": [
       "array([[ 0.58902366,  0.73311856, -1.1621888 ],\n",
       "       [-0.55681601, -0.77248843, -0.16822143],\n",
       "       [-0.41650391, -1.37843129,  0.74925588],\n",
       "       [ 0.17888446,  0.69401121, -1.9780535 ],\n",
       "       [-0.83381434,  0.56437344,  0.31201299]])"
      ]
     },
     "execution_count": 20,
     "metadata": {},
     "output_type": "execute_result"
    }
   ],
   "source": [
    "# reset seed, verify that draws are the same\n",
    "rng = np.random.RandomState(8675309)\n",
    "\n",
    "scs.norm(0,1).rvs(size=(5,3), random_state=rng)"
   ]
  }
 ],
 "metadata": {
  "celltoolbar": "Slideshow",
  "kernelspec": {
   "display_name": "Python 3 (ipykernel)",
   "language": "python",
   "name": "python3"
  },
  "language_info": {
   "codemirror_mode": {
    "name": "ipython",
    "version": 3
   },
   "file_extension": ".py",
   "mimetype": "text/x-python",
   "name": "python",
   "nbconvert_exporter": "python",
   "pygments_lexer": "ipython3",
   "version": "3.9.7"
  },
  "toc": {
   "base_numbering": 1,
   "nav_menu": {},
   "number_sections": false,
   "sideBar": true,
   "skip_h1_title": false,
   "title_cell": "Table of Contents",
   "title_sidebar": "Contents",
   "toc_cell": false,
   "toc_position": {},
   "toc_section_display": true,
   "toc_window_display": false
  }
 },
 "nbformat": 4,
 "nbformat_minor": 4
}
