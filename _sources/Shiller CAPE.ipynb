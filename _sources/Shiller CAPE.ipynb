{
 "cells": [
  {
   "cell_type": "markdown",
   "metadata": {},
   "source": [
    "# Shiller's CAPE\n",
    "\n",
    "http://www.econ.yale.edu/~shiller/data.htm"
   ]
  },
  {
   "cell_type": "code",
   "execution_count": 106,
   "metadata": {},
   "outputs": [],
   "source": [
    "import numpy as np\n",
    "import pandas as pd"
   ]
  },
  {
   "cell_type": "code",
   "execution_count": 107,
   "metadata": {},
   "outputs": [],
   "source": [
    "shiller = pd.read_excel('http://www.econ.yale.edu/~shiller/data/ie_data.xls',\n",
    "                        sheet_name='Data', skiprows=range(7),\n",
    "                        skipfooter=1, usecols='A:E',\n",
    "                        dtype={'Date':str})"
   ]
  },
  {
   "cell_type": "code",
   "execution_count": 108,
   "metadata": {},
   "outputs": [
    {
     "data": {
      "text/html": [
       "<div>\n",
       "<style scoped>\n",
       "    .dataframe tbody tr th:only-of-type {\n",
       "        vertical-align: middle;\n",
       "    }\n",
       "\n",
       "    .dataframe tbody tr th {\n",
       "        vertical-align: top;\n",
       "    }\n",
       "\n",
       "    .dataframe thead th {\n",
       "        text-align: right;\n",
       "    }\n",
       "</style>\n",
       "<table border=\"1\" class=\"dataframe\">\n",
       "  <thead>\n",
       "    <tr style=\"text-align: right;\">\n",
       "      <th></th>\n",
       "      <th>Date</th>\n",
       "      <th>P</th>\n",
       "      <th>D</th>\n",
       "      <th>E</th>\n",
       "      <th>CPI</th>\n",
       "    </tr>\n",
       "  </thead>\n",
       "  <tbody>\n",
       "    <tr>\n",
       "      <th>0</th>\n",
       "      <td>1871.01</td>\n",
       "      <td>4.440000</td>\n",
       "      <td>0.260000</td>\n",
       "      <td>0.40</td>\n",
       "      <td>12.464061</td>\n",
       "    </tr>\n",
       "    <tr>\n",
       "      <th>1</th>\n",
       "      <td>1871.02</td>\n",
       "      <td>4.500000</td>\n",
       "      <td>0.260000</td>\n",
       "      <td>0.40</td>\n",
       "      <td>12.844641</td>\n",
       "    </tr>\n",
       "    <tr>\n",
       "      <th>2</th>\n",
       "      <td>1871.03</td>\n",
       "      <td>4.610000</td>\n",
       "      <td>0.260000</td>\n",
       "      <td>0.40</td>\n",
       "      <td>13.034972</td>\n",
       "    </tr>\n",
       "    <tr>\n",
       "      <th>3</th>\n",
       "      <td>1871.04</td>\n",
       "      <td>4.740000</td>\n",
       "      <td>0.260000</td>\n",
       "      <td>0.40</td>\n",
       "      <td>12.559226</td>\n",
       "    </tr>\n",
       "    <tr>\n",
       "      <th>4</th>\n",
       "      <td>1871.05</td>\n",
       "      <td>4.860000</td>\n",
       "      <td>0.260000</td>\n",
       "      <td>0.40</td>\n",
       "      <td>12.273812</td>\n",
       "    </tr>\n",
       "    <tr>\n",
       "      <th>...</th>\n",
       "      <td>...</td>\n",
       "      <td>...</td>\n",
       "      <td>...</td>\n",
       "      <td>...</td>\n",
       "      <td>...</td>\n",
       "    </tr>\n",
       "    <tr>\n",
       "      <th>1804</th>\n",
       "      <td>2021.05</td>\n",
       "      <td>4167.849500</td>\n",
       "      <td>57.787824</td>\n",
       "      <td>148.56</td>\n",
       "      <td>269.195000</td>\n",
       "    </tr>\n",
       "    <tr>\n",
       "      <th>1805</th>\n",
       "      <td>2021.06</td>\n",
       "      <td>4238.489545</td>\n",
       "      <td>57.865042</td>\n",
       "      <td>158.74</td>\n",
       "      <td>271.696000</td>\n",
       "    </tr>\n",
       "    <tr>\n",
       "      <th>1806</th>\n",
       "      <td>2021.07</td>\n",
       "      <td>4363.712857</td>\n",
       "      <td>NaN</td>\n",
       "      <td>NaN</td>\n",
       "      <td>273.003000</td>\n",
       "    </tr>\n",
       "    <tr>\n",
       "      <th>1807</th>\n",
       "      <td>2021.08</td>\n",
       "      <td>4454.206364</td>\n",
       "      <td>NaN</td>\n",
       "      <td>NaN</td>\n",
       "      <td>273.656500</td>\n",
       "    </tr>\n",
       "    <tr>\n",
       "      <th>1808</th>\n",
       "      <td>2021.09</td>\n",
       "      <td>4493.280000</td>\n",
       "      <td>NaN</td>\n",
       "      <td>NaN</td>\n",
       "      <td>273.983250</td>\n",
       "    </tr>\n",
       "  </tbody>\n",
       "</table>\n",
       "<p>1809 rows × 5 columns</p>\n",
       "</div>"
      ],
      "text/plain": [
       "         Date            P          D       E         CPI\n",
       "0     1871.01     4.440000   0.260000    0.40   12.464061\n",
       "1     1871.02     4.500000   0.260000    0.40   12.844641\n",
       "2     1871.03     4.610000   0.260000    0.40   13.034972\n",
       "3     1871.04     4.740000   0.260000    0.40   12.559226\n",
       "4     1871.05     4.860000   0.260000    0.40   12.273812\n",
       "...       ...          ...        ...     ...         ...\n",
       "1804  2021.05  4167.849500  57.787824  148.56  269.195000\n",
       "1805  2021.06  4238.489545  57.865042  158.74  271.696000\n",
       "1806  2021.07  4363.712857        NaN     NaN  273.003000\n",
       "1807  2021.08  4454.206364        NaN     NaN  273.656500\n",
       "1808  2021.09  4493.280000        NaN     NaN  273.983250\n",
       "\n",
       "[1809 rows x 5 columns]"
      ]
     },
     "execution_count": 108,
     "metadata": {},
     "output_type": "execute_result"
    }
   ],
   "source": [
    "shiller"
   ]
  },
  {
   "cell_type": "code",
   "execution_count": 109,
   "metadata": {},
   "outputs": [
    {
     "data": {
      "text/plain": [
       "Date       1871.1\n",
       "P            4.59\n",
       "D            0.26\n",
       "E             0.4\n",
       "CPI     12.368896\n",
       "Name: 9, dtype: object"
      ]
     },
     "execution_count": 109,
     "metadata": {},
     "output_type": "execute_result"
    }
   ],
   "source": [
    "shiller.iloc[9]"
   ]
  },
  {
   "cell_type": "code",
   "execution_count": 110,
   "metadata": {},
   "outputs": [
    {
     "data": {
      "text/plain": [
       "Date      2021.09\n",
       "P         4493.28\n",
       "D             NaN\n",
       "E             NaN\n",
       "CPI     273.98325\n",
       "Name: 1808, dtype: object"
      ]
     },
     "execution_count": 110,
     "metadata": {},
     "output_type": "execute_result"
    }
   ],
   "source": [
    "shiller.iloc[-1]"
   ]
  },
  {
   "cell_type": "code",
   "execution_count": 111,
   "metadata": {},
   "outputs": [
    {
     "data": {
      "text/plain": [
       "DatetimeIndex(['1871-01-31', '1871-02-28', '1871-03-31', '1871-04-30',\n",
       "               '1871-05-31', '1871-06-30', '1871-07-31', '1871-08-31',\n",
       "               '1871-09-30', '1871-10-31',\n",
       "               ...\n",
       "               '2020-12-31', '2021-01-31', '2021-02-28', '2021-03-31',\n",
       "               '2021-04-30', '2021-05-31', '2021-06-30', '2021-07-31',\n",
       "               '2021-08-31', '2021-09-30'],\n",
       "              dtype='datetime64[ns]', length=1809, freq='M')"
      ]
     },
     "execution_count": 111,
     "metadata": {},
     "output_type": "execute_result"
    }
   ],
   "source": [
    "pd.date_range(start='1871-01-31', periods=len(shiller), freq='M')"
   ]
  },
  {
   "cell_type": "markdown",
   "metadata": {},
   "source": [
    "Frequency codes are [here](https://pandas.pydata.org/pandas-docs/stable/user_guide/timeseries.html#timeseries-offset-aliases)."
   ]
  },
  {
   "cell_type": "code",
   "execution_count": 112,
   "metadata": {},
   "outputs": [],
   "source": [
    "shiller['Date'] = pd.date_range(start='1871-01-31',\n",
    "                                periods=len(shiller),\n",
    "                                freq='M')\n",
    "\n",
    "shiller = shiller.set_index('Date')"
   ]
  },
  {
   "cell_type": "code",
   "execution_count": 113,
   "metadata": {},
   "outputs": [
    {
     "name": "stdout",
     "output_type": "stream",
     "text": [
      "<class 'pandas.core.frame.DataFrame'>\n",
      "DatetimeIndex: 1809 entries, 1871-01-31 to 2021-09-30\n",
      "Data columns (total 4 columns):\n",
      " #   Column  Non-Null Count  Dtype  \n",
      "---  ------  --------------  -----  \n",
      " 0   P       1809 non-null   float64\n",
      " 1   D       1806 non-null   float64\n",
      " 2   E       1806 non-null   float64\n",
      " 3   CPI     1809 non-null   float64\n",
      "dtypes: float64(4)\n",
      "memory usage: 70.7 KB\n"
     ]
    }
   ],
   "source": [
    "shiller.info()"
   ]
  },
  {
   "cell_type": "code",
   "execution_count": 114,
   "metadata": {},
   "outputs": [
    {
     "data": {
      "text/html": [
       "<div>\n",
       "<style scoped>\n",
       "    .dataframe tbody tr th:only-of-type {\n",
       "        vertical-align: middle;\n",
       "    }\n",
       "\n",
       "    .dataframe tbody tr th {\n",
       "        vertical-align: top;\n",
       "    }\n",
       "\n",
       "    .dataframe thead th {\n",
       "        text-align: right;\n",
       "    }\n",
       "</style>\n",
       "<table border=\"1\" class=\"dataframe\">\n",
       "  <thead>\n",
       "    <tr style=\"text-align: right;\">\n",
       "      <th></th>\n",
       "      <th>P</th>\n",
       "      <th>D</th>\n",
       "      <th>E</th>\n",
       "      <th>CPI</th>\n",
       "    </tr>\n",
       "    <tr>\n",
       "      <th>Date</th>\n",
       "      <th></th>\n",
       "      <th></th>\n",
       "      <th></th>\n",
       "      <th></th>\n",
       "    </tr>\n",
       "  </thead>\n",
       "  <tbody>\n",
       "    <tr>\n",
       "      <th>1871-01-31</th>\n",
       "      <td>4.440000</td>\n",
       "      <td>0.260000</td>\n",
       "      <td>0.40</td>\n",
       "      <td>12.464061</td>\n",
       "    </tr>\n",
       "    <tr>\n",
       "      <th>1871-02-28</th>\n",
       "      <td>4.500000</td>\n",
       "      <td>0.260000</td>\n",
       "      <td>0.40</td>\n",
       "      <td>12.844641</td>\n",
       "    </tr>\n",
       "    <tr>\n",
       "      <th>1871-03-31</th>\n",
       "      <td>4.610000</td>\n",
       "      <td>0.260000</td>\n",
       "      <td>0.40</td>\n",
       "      <td>13.034972</td>\n",
       "    </tr>\n",
       "    <tr>\n",
       "      <th>1871-04-30</th>\n",
       "      <td>4.740000</td>\n",
       "      <td>0.260000</td>\n",
       "      <td>0.40</td>\n",
       "      <td>12.559226</td>\n",
       "    </tr>\n",
       "    <tr>\n",
       "      <th>1871-05-31</th>\n",
       "      <td>4.860000</td>\n",
       "      <td>0.260000</td>\n",
       "      <td>0.40</td>\n",
       "      <td>12.273812</td>\n",
       "    </tr>\n",
       "    <tr>\n",
       "      <th>...</th>\n",
       "      <td>...</td>\n",
       "      <td>...</td>\n",
       "      <td>...</td>\n",
       "      <td>...</td>\n",
       "    </tr>\n",
       "    <tr>\n",
       "      <th>2021-05-31</th>\n",
       "      <td>4167.849500</td>\n",
       "      <td>57.787824</td>\n",
       "      <td>148.56</td>\n",
       "      <td>269.195000</td>\n",
       "    </tr>\n",
       "    <tr>\n",
       "      <th>2021-06-30</th>\n",
       "      <td>4238.489545</td>\n",
       "      <td>57.865042</td>\n",
       "      <td>158.74</td>\n",
       "      <td>271.696000</td>\n",
       "    </tr>\n",
       "    <tr>\n",
       "      <th>2021-07-31</th>\n",
       "      <td>4363.712857</td>\n",
       "      <td>NaN</td>\n",
       "      <td>NaN</td>\n",
       "      <td>273.003000</td>\n",
       "    </tr>\n",
       "    <tr>\n",
       "      <th>2021-08-31</th>\n",
       "      <td>4454.206364</td>\n",
       "      <td>NaN</td>\n",
       "      <td>NaN</td>\n",
       "      <td>273.656500</td>\n",
       "    </tr>\n",
       "    <tr>\n",
       "      <th>2021-09-30</th>\n",
       "      <td>4493.280000</td>\n",
       "      <td>NaN</td>\n",
       "      <td>NaN</td>\n",
       "      <td>273.983250</td>\n",
       "    </tr>\n",
       "  </tbody>\n",
       "</table>\n",
       "<p>1809 rows × 4 columns</p>\n",
       "</div>"
      ],
      "text/plain": [
       "                      P          D       E         CPI\n",
       "Date                                                  \n",
       "1871-01-31     4.440000   0.260000    0.40   12.464061\n",
       "1871-02-28     4.500000   0.260000    0.40   12.844641\n",
       "1871-03-31     4.610000   0.260000    0.40   13.034972\n",
       "1871-04-30     4.740000   0.260000    0.40   12.559226\n",
       "1871-05-31     4.860000   0.260000    0.40   12.273812\n",
       "...                 ...        ...     ...         ...\n",
       "2021-05-31  4167.849500  57.787824  148.56  269.195000\n",
       "2021-06-30  4238.489545  57.865042  158.74  271.696000\n",
       "2021-07-31  4363.712857        NaN     NaN  273.003000\n",
       "2021-08-31  4454.206364        NaN     NaN  273.656500\n",
       "2021-09-30  4493.280000        NaN     NaN  273.983250\n",
       "\n",
       "[1809 rows x 4 columns]"
      ]
     },
     "execution_count": 114,
     "metadata": {},
     "output_type": "execute_result"
    }
   ],
   "source": [
    "shiller"
   ]
  },
  {
   "cell_type": "code",
   "execution_count": 115,
   "metadata": {},
   "outputs": [
    {
     "data": {
      "text/plain": [
       "P      465.25\n",
       "D       13.18\n",
       "E       31.25\n",
       "CPI    150.30\n",
       "Name: 1995-01-31 00:00:00, dtype: float64"
      ]
     },
     "execution_count": 115,
     "metadata": {},
     "output_type": "execute_result"
    }
   ],
   "source": [
    "shiller.loc['1995-01-31']"
   ]
  },
  {
   "cell_type": "markdown",
   "metadata": {},
   "source": [
    "When the index is a `datetime`, we can refer to ranges of dates in a meaningful way."
   ]
  },
  {
   "cell_type": "code",
   "execution_count": 116,
   "metadata": {},
   "outputs": [
    {
     "data": {
      "text/html": [
       "<div>\n",
       "<style scoped>\n",
       "    .dataframe tbody tr th:only-of-type {\n",
       "        vertical-align: middle;\n",
       "    }\n",
       "\n",
       "    .dataframe tbody tr th {\n",
       "        vertical-align: top;\n",
       "    }\n",
       "\n",
       "    .dataframe thead th {\n",
       "        text-align: right;\n",
       "    }\n",
       "</style>\n",
       "<table border=\"1\" class=\"dataframe\">\n",
       "  <thead>\n",
       "    <tr style=\"text-align: right;\">\n",
       "      <th></th>\n",
       "      <th>P</th>\n",
       "      <th>D</th>\n",
       "      <th>E</th>\n",
       "      <th>CPI</th>\n",
       "    </tr>\n",
       "    <tr>\n",
       "      <th>Date</th>\n",
       "      <th></th>\n",
       "      <th></th>\n",
       "      <th></th>\n",
       "      <th></th>\n",
       "    </tr>\n",
       "  </thead>\n",
       "  <tbody>\n",
       "    <tr>\n",
       "      <th>1995-01-31</th>\n",
       "      <td>465.25</td>\n",
       "      <td>13.1800</td>\n",
       "      <td>31.2500</td>\n",
       "      <td>150.3</td>\n",
       "    </tr>\n",
       "    <tr>\n",
       "      <th>1995-02-28</th>\n",
       "      <td>481.92</td>\n",
       "      <td>13.1800</td>\n",
       "      <td>31.9000</td>\n",
       "      <td>150.9</td>\n",
       "    </tr>\n",
       "    <tr>\n",
       "      <th>1995-03-31</th>\n",
       "      <td>493.15</td>\n",
       "      <td>13.1700</td>\n",
       "      <td>32.5500</td>\n",
       "      <td>151.4</td>\n",
       "    </tr>\n",
       "    <tr>\n",
       "      <th>1995-04-30</th>\n",
       "      <td>507.91</td>\n",
       "      <td>13.2433</td>\n",
       "      <td>33.1767</td>\n",
       "      <td>151.9</td>\n",
       "    </tr>\n",
       "    <tr>\n",
       "      <th>1995-05-31</th>\n",
       "      <td>523.81</td>\n",
       "      <td>13.3067</td>\n",
       "      <td>33.8033</td>\n",
       "      <td>152.2</td>\n",
       "    </tr>\n",
       "    <tr>\n",
       "      <th>1995-06-30</th>\n",
       "      <td>539.35</td>\n",
       "      <td>13.3600</td>\n",
       "      <td>34.4300</td>\n",
       "      <td>152.5</td>\n",
       "    </tr>\n",
       "    <tr>\n",
       "      <th>1995-07-31</th>\n",
       "      <td>557.37</td>\n",
       "      <td>13.4400</td>\n",
       "      <td>34.6800</td>\n",
       "      <td>152.5</td>\n",
       "    </tr>\n",
       "    <tr>\n",
       "      <th>1995-08-31</th>\n",
       "      <td>559.11</td>\n",
       "      <td>13.5100</td>\n",
       "      <td>34.9300</td>\n",
       "      <td>152.9</td>\n",
       "    </tr>\n",
       "    <tr>\n",
       "      <th>1995-09-30</th>\n",
       "      <td>578.77</td>\n",
       "      <td>13.5800</td>\n",
       "      <td>35.1800</td>\n",
       "      <td>153.2</td>\n",
       "    </tr>\n",
       "    <tr>\n",
       "      <th>1995-10-31</th>\n",
       "      <td>582.92</td>\n",
       "      <td>13.6500</td>\n",
       "      <td>34.7733</td>\n",
       "      <td>153.7</td>\n",
       "    </tr>\n",
       "    <tr>\n",
       "      <th>1995-11-30</th>\n",
       "      <td>595.53</td>\n",
       "      <td>13.7200</td>\n",
       "      <td>34.3667</td>\n",
       "      <td>153.6</td>\n",
       "    </tr>\n",
       "    <tr>\n",
       "      <th>1995-12-31</th>\n",
       "      <td>614.57</td>\n",
       "      <td>13.7900</td>\n",
       "      <td>33.9600</td>\n",
       "      <td>153.5</td>\n",
       "    </tr>\n",
       "  </tbody>\n",
       "</table>\n",
       "</div>"
      ],
      "text/plain": [
       "                 P        D        E    CPI\n",
       "Date                                       \n",
       "1995-01-31  465.25  13.1800  31.2500  150.3\n",
       "1995-02-28  481.92  13.1800  31.9000  150.9\n",
       "1995-03-31  493.15  13.1700  32.5500  151.4\n",
       "1995-04-30  507.91  13.2433  33.1767  151.9\n",
       "1995-05-31  523.81  13.3067  33.8033  152.2\n",
       "1995-06-30  539.35  13.3600  34.4300  152.5\n",
       "1995-07-31  557.37  13.4400  34.6800  152.5\n",
       "1995-08-31  559.11  13.5100  34.9300  152.9\n",
       "1995-09-30  578.77  13.5800  35.1800  153.2\n",
       "1995-10-31  582.92  13.6500  34.7733  153.7\n",
       "1995-11-30  595.53  13.7200  34.3667  153.6\n",
       "1995-12-31  614.57  13.7900  33.9600  153.5"
      ]
     },
     "execution_count": 116,
     "metadata": {},
     "output_type": "execute_result"
    }
   ],
   "source": [
    "shiller.loc['1995']"
   ]
  },
  {
   "cell_type": "code",
   "execution_count": 117,
   "metadata": {},
   "outputs": [
    {
     "data": {
      "text/html": [
       "<div>\n",
       "<style scoped>\n",
       "    .dataframe tbody tr th:only-of-type {\n",
       "        vertical-align: middle;\n",
       "    }\n",
       "\n",
       "    .dataframe tbody tr th {\n",
       "        vertical-align: top;\n",
       "    }\n",
       "\n",
       "    .dataframe thead th {\n",
       "        text-align: right;\n",
       "    }\n",
       "</style>\n",
       "<table border=\"1\" class=\"dataframe\">\n",
       "  <thead>\n",
       "    <tr style=\"text-align: right;\">\n",
       "      <th></th>\n",
       "      <th>P</th>\n",
       "      <th>D</th>\n",
       "      <th>E</th>\n",
       "      <th>CPI</th>\n",
       "    </tr>\n",
       "    <tr>\n",
       "      <th>Date</th>\n",
       "      <th></th>\n",
       "      <th></th>\n",
       "      <th></th>\n",
       "      <th></th>\n",
       "    </tr>\n",
       "  </thead>\n",
       "  <tbody>\n",
       "    <tr>\n",
       "      <th>1995-07-31</th>\n",
       "      <td>557.37</td>\n",
       "      <td>13.44</td>\n",
       "      <td>34.6800</td>\n",
       "      <td>152.5</td>\n",
       "    </tr>\n",
       "    <tr>\n",
       "      <th>1995-08-31</th>\n",
       "      <td>559.11</td>\n",
       "      <td>13.51</td>\n",
       "      <td>34.9300</td>\n",
       "      <td>152.9</td>\n",
       "    </tr>\n",
       "    <tr>\n",
       "      <th>1995-09-30</th>\n",
       "      <td>578.77</td>\n",
       "      <td>13.58</td>\n",
       "      <td>35.1800</td>\n",
       "      <td>153.2</td>\n",
       "    </tr>\n",
       "    <tr>\n",
       "      <th>1995-10-31</th>\n",
       "      <td>582.92</td>\n",
       "      <td>13.65</td>\n",
       "      <td>34.7733</td>\n",
       "      <td>153.7</td>\n",
       "    </tr>\n",
       "    <tr>\n",
       "      <th>1995-11-30</th>\n",
       "      <td>595.53</td>\n",
       "      <td>13.72</td>\n",
       "      <td>34.3667</td>\n",
       "      <td>153.6</td>\n",
       "    </tr>\n",
       "  </tbody>\n",
       "</table>\n",
       "</div>"
      ],
      "text/plain": [
       "                 P      D        E    CPI\n",
       "Date                                     \n",
       "1995-07-31  557.37  13.44  34.6800  152.5\n",
       "1995-08-31  559.11  13.51  34.9300  152.9\n",
       "1995-09-30  578.77  13.58  35.1800  153.2\n",
       "1995-10-31  582.92  13.65  34.7733  153.7\n",
       "1995-11-30  595.53  13.72  34.3667  153.6"
      ]
     },
     "execution_count": 117,
     "metadata": {},
     "output_type": "execute_result"
    }
   ],
   "source": [
    "shiller.loc['1995-07':'1995-11']"
   ]
  },
  {
   "cell_type": "markdown",
   "metadata": {},
   "source": [
    "To convert all the data to \"real\" terms, we need to adjust for inflation. We do this by calculating how much the CPI has changed from each year until the last year in the sample. (Shiller uses the non-seasonally adjusted [CPI data](https://fred.stlouisfed.org/series/CPIAUCNS), which starts in 1913, along with another price series that goes earlier.)"
   ]
  },
  {
   "cell_type": "code",
   "execution_count": 118,
   "metadata": {},
   "outputs": [
    {
     "data": {
      "text/plain": [
       "273.98325"
      ]
     },
     "execution_count": 118,
     "metadata": {},
     "output_type": "execute_result"
    }
   ],
   "source": [
    "shiller['CPI'].iloc[-1]"
   ]
  },
  {
   "cell_type": "code",
   "execution_count": 119,
   "metadata": {},
   "outputs": [
    {
     "data": {
      "text/plain": [
       "Date\n",
       "1995-01-31    0.548574\n",
       "1995-02-28    0.550764\n",
       "1995-03-31    0.552589\n",
       "1995-04-30    0.554413\n",
       "1995-05-31    0.555508\n",
       "1995-06-30    0.556603\n",
       "1995-07-31    0.556603\n",
       "1995-08-31    0.558063\n",
       "1995-09-30    0.559158\n",
       "1995-10-31    0.560983\n",
       "1995-11-30    0.560618\n",
       "1995-12-31    0.560253\n",
       "Name: CPI, dtype: float64"
      ]
     },
     "execution_count": 119,
     "metadata": {},
     "output_type": "execute_result"
    }
   ],
   "source": [
    "shiller['CPI'].loc['1995'] / shiller['CPI'].iloc[-1]"
   ]
  },
  {
   "cell_type": "code",
   "execution_count": 120,
   "metadata": {},
   "outputs": [],
   "source": [
    "# CPI numbers at end of series are estimates so use an older one\n",
    "shiller['CPI_factor'] = shiller['CPI'] / shiller['CPI'].iloc[-3]"
   ]
  },
  {
   "cell_type": "code",
   "execution_count": 121,
   "metadata": {},
   "outputs": [
    {
     "data": {
      "text/html": [
       "<div>\n",
       "<style scoped>\n",
       "    .dataframe tbody tr th:only-of-type {\n",
       "        vertical-align: middle;\n",
       "    }\n",
       "\n",
       "    .dataframe tbody tr th {\n",
       "        vertical-align: top;\n",
       "    }\n",
       "\n",
       "    .dataframe thead th {\n",
       "        text-align: right;\n",
       "    }\n",
       "</style>\n",
       "<table border=\"1\" class=\"dataframe\">\n",
       "  <thead>\n",
       "    <tr style=\"text-align: right;\">\n",
       "      <th></th>\n",
       "      <th>P</th>\n",
       "      <th>D</th>\n",
       "      <th>E</th>\n",
       "      <th>CPI</th>\n",
       "      <th>CPI_factor</th>\n",
       "    </tr>\n",
       "    <tr>\n",
       "      <th>Date</th>\n",
       "      <th></th>\n",
       "      <th></th>\n",
       "      <th></th>\n",
       "      <th></th>\n",
       "      <th></th>\n",
       "    </tr>\n",
       "  </thead>\n",
       "  <tbody>\n",
       "    <tr>\n",
       "      <th>1871-01-31</th>\n",
       "      <td>4.44</td>\n",
       "      <td>0.26</td>\n",
       "      <td>0.4</td>\n",
       "      <td>12.464061</td>\n",
       "      <td>0.045655</td>\n",
       "    </tr>\n",
       "    <tr>\n",
       "      <th>1871-02-28</th>\n",
       "      <td>4.50</td>\n",
       "      <td>0.26</td>\n",
       "      <td>0.4</td>\n",
       "      <td>12.844641</td>\n",
       "      <td>0.047049</td>\n",
       "    </tr>\n",
       "    <tr>\n",
       "      <th>1871-03-31</th>\n",
       "      <td>4.61</td>\n",
       "      <td>0.26</td>\n",
       "      <td>0.4</td>\n",
       "      <td>13.034972</td>\n",
       "      <td>0.047747</td>\n",
       "    </tr>\n",
       "    <tr>\n",
       "      <th>1871-04-30</th>\n",
       "      <td>4.74</td>\n",
       "      <td>0.26</td>\n",
       "      <td>0.4</td>\n",
       "      <td>12.559226</td>\n",
       "      <td>0.046004</td>\n",
       "    </tr>\n",
       "    <tr>\n",
       "      <th>1871-05-31</th>\n",
       "      <td>4.86</td>\n",
       "      <td>0.26</td>\n",
       "      <td>0.4</td>\n",
       "      <td>12.273812</td>\n",
       "      <td>0.044959</td>\n",
       "    </tr>\n",
       "  </tbody>\n",
       "</table>\n",
       "</div>"
      ],
      "text/plain": [
       "               P     D    E        CPI  CPI_factor\n",
       "Date                                              \n",
       "1871-01-31  4.44  0.26  0.4  12.464061    0.045655\n",
       "1871-02-28  4.50  0.26  0.4  12.844641    0.047049\n",
       "1871-03-31  4.61  0.26  0.4  13.034972    0.047747\n",
       "1871-04-30  4.74  0.26  0.4  12.559226    0.046004\n",
       "1871-05-31  4.86  0.26  0.4  12.273812    0.044959"
      ]
     },
     "execution_count": 121,
     "metadata": {},
     "output_type": "execute_result"
    }
   ],
   "source": [
    "shiller.head()"
   ]
  },
  {
   "cell_type": "code",
   "execution_count": 122,
   "metadata": {},
   "outputs": [
    {
     "data": {
      "text/html": [
       "<div>\n",
       "<style scoped>\n",
       "    .dataframe tbody tr th:only-of-type {\n",
       "        vertical-align: middle;\n",
       "    }\n",
       "\n",
       "    .dataframe tbody tr th {\n",
       "        vertical-align: top;\n",
       "    }\n",
       "\n",
       "    .dataframe thead th {\n",
       "        text-align: right;\n",
       "    }\n",
       "</style>\n",
       "<table border=\"1\" class=\"dataframe\">\n",
       "  <thead>\n",
       "    <tr style=\"text-align: right;\">\n",
       "      <th></th>\n",
       "      <th>P</th>\n",
       "      <th>D</th>\n",
       "      <th>E</th>\n",
       "      <th>CPI</th>\n",
       "      <th>CPI_factor</th>\n",
       "    </tr>\n",
       "    <tr>\n",
       "      <th>Date</th>\n",
       "      <th></th>\n",
       "      <th></th>\n",
       "      <th></th>\n",
       "      <th></th>\n",
       "      <th></th>\n",
       "    </tr>\n",
       "  </thead>\n",
       "  <tbody>\n",
       "    <tr>\n",
       "      <th>2021-05-31</th>\n",
       "      <td>4167.849500</td>\n",
       "      <td>57.787824</td>\n",
       "      <td>148.56</td>\n",
       "      <td>269.19500</td>\n",
       "      <td>0.986051</td>\n",
       "    </tr>\n",
       "    <tr>\n",
       "      <th>2021-06-30</th>\n",
       "      <td>4238.489545</td>\n",
       "      <td>57.865042</td>\n",
       "      <td>158.74</td>\n",
       "      <td>271.69600</td>\n",
       "      <td>0.995213</td>\n",
       "    </tr>\n",
       "    <tr>\n",
       "      <th>2021-07-31</th>\n",
       "      <td>4363.712857</td>\n",
       "      <td>NaN</td>\n",
       "      <td>NaN</td>\n",
       "      <td>273.00300</td>\n",
       "      <td>1.000000</td>\n",
       "    </tr>\n",
       "    <tr>\n",
       "      <th>2021-08-31</th>\n",
       "      <td>4454.206364</td>\n",
       "      <td>NaN</td>\n",
       "      <td>NaN</td>\n",
       "      <td>273.65650</td>\n",
       "      <td>1.002394</td>\n",
       "    </tr>\n",
       "    <tr>\n",
       "      <th>2021-09-30</th>\n",
       "      <td>4493.280000</td>\n",
       "      <td>NaN</td>\n",
       "      <td>NaN</td>\n",
       "      <td>273.98325</td>\n",
       "      <td>1.003591</td>\n",
       "    </tr>\n",
       "  </tbody>\n",
       "</table>\n",
       "</div>"
      ],
      "text/plain": [
       "                      P          D       E        CPI  CPI_factor\n",
       "Date                                                             \n",
       "2021-05-31  4167.849500  57.787824  148.56  269.19500    0.986051\n",
       "2021-06-30  4238.489545  57.865042  158.74  271.69600    0.995213\n",
       "2021-07-31  4363.712857        NaN     NaN  273.00300    1.000000\n",
       "2021-08-31  4454.206364        NaN     NaN  273.65650    1.002394\n",
       "2021-09-30  4493.280000        NaN     NaN  273.98325    1.003591"
      ]
     },
     "execution_count": 122,
     "metadata": {},
     "output_type": "execute_result"
    }
   ],
   "source": [
    "shiller.tail()"
   ]
  },
  {
   "cell_type": "code",
   "execution_count": 123,
   "metadata": {},
   "outputs": [
    {
     "data": {
      "text/html": [
       "<div>\n",
       "<style scoped>\n",
       "    .dataframe tbody tr th:only-of-type {\n",
       "        vertical-align: middle;\n",
       "    }\n",
       "\n",
       "    .dataframe tbody tr th {\n",
       "        vertical-align: top;\n",
       "    }\n",
       "\n",
       "    .dataframe thead th {\n",
       "        text-align: right;\n",
       "    }\n",
       "</style>\n",
       "<table border=\"1\" class=\"dataframe\">\n",
       "  <thead>\n",
       "    <tr style=\"text-align: right;\">\n",
       "      <th></th>\n",
       "      <th>P</th>\n",
       "      <th>D</th>\n",
       "      <th>E</th>\n",
       "      <th>CPI</th>\n",
       "      <th>CPI_factor</th>\n",
       "    </tr>\n",
       "    <tr>\n",
       "      <th>Date</th>\n",
       "      <th></th>\n",
       "      <th></th>\n",
       "      <th></th>\n",
       "      <th></th>\n",
       "      <th></th>\n",
       "    </tr>\n",
       "  </thead>\n",
       "  <tbody>\n",
       "    <tr>\n",
       "      <th>1953-01-31</th>\n",
       "      <td>26.18</td>\n",
       "      <td>1.41000</td>\n",
       "      <td>2.41000</td>\n",
       "      <td>26.6</td>\n",
       "      <td>0.097435</td>\n",
       "    </tr>\n",
       "    <tr>\n",
       "      <th>1953-02-28</th>\n",
       "      <td>25.86</td>\n",
       "      <td>1.41000</td>\n",
       "      <td>2.42000</td>\n",
       "      <td>26.5</td>\n",
       "      <td>0.097069</td>\n",
       "    </tr>\n",
       "    <tr>\n",
       "      <th>1953-03-31</th>\n",
       "      <td>25.99</td>\n",
       "      <td>1.41000</td>\n",
       "      <td>2.43000</td>\n",
       "      <td>26.6</td>\n",
       "      <td>0.097435</td>\n",
       "    </tr>\n",
       "    <tr>\n",
       "      <th>1953-04-30</th>\n",
       "      <td>24.71</td>\n",
       "      <td>1.41333</td>\n",
       "      <td>2.45667</td>\n",
       "      <td>26.6</td>\n",
       "      <td>0.097435</td>\n",
       "    </tr>\n",
       "    <tr>\n",
       "      <th>1953-05-31</th>\n",
       "      <td>24.84</td>\n",
       "      <td>1.41667</td>\n",
       "      <td>2.48333</td>\n",
       "      <td>26.7</td>\n",
       "      <td>0.097801</td>\n",
       "    </tr>\n",
       "    <tr>\n",
       "      <th>1953-06-30</th>\n",
       "      <td>23.95</td>\n",
       "      <td>1.42000</td>\n",
       "      <td>2.51000</td>\n",
       "      <td>26.8</td>\n",
       "      <td>0.098167</td>\n",
       "    </tr>\n",
       "    <tr>\n",
       "      <th>1953-07-31</th>\n",
       "      <td>24.29</td>\n",
       "      <td>1.42000</td>\n",
       "      <td>2.52333</td>\n",
       "      <td>26.8</td>\n",
       "      <td>0.098167</td>\n",
       "    </tr>\n",
       "    <tr>\n",
       "      <th>1953-08-31</th>\n",
       "      <td>24.39</td>\n",
       "      <td>1.42000</td>\n",
       "      <td>2.53667</td>\n",
       "      <td>26.9</td>\n",
       "      <td>0.098534</td>\n",
       "    </tr>\n",
       "    <tr>\n",
       "      <th>1953-09-30</th>\n",
       "      <td>23.27</td>\n",
       "      <td>1.42000</td>\n",
       "      <td>2.55000</td>\n",
       "      <td>26.9</td>\n",
       "      <td>0.098534</td>\n",
       "    </tr>\n",
       "    <tr>\n",
       "      <th>1953-10-31</th>\n",
       "      <td>23.97</td>\n",
       "      <td>1.43000</td>\n",
       "      <td>2.53667</td>\n",
       "      <td>27.0</td>\n",
       "      <td>0.098900</td>\n",
       "    </tr>\n",
       "    <tr>\n",
       "      <th>1953-11-30</th>\n",
       "      <td>24.50</td>\n",
       "      <td>1.44000</td>\n",
       "      <td>2.52333</td>\n",
       "      <td>26.9</td>\n",
       "      <td>0.098534</td>\n",
       "    </tr>\n",
       "    <tr>\n",
       "      <th>1953-12-31</th>\n",
       "      <td>24.83</td>\n",
       "      <td>1.45000</td>\n",
       "      <td>2.51000</td>\n",
       "      <td>26.9</td>\n",
       "      <td>0.098534</td>\n",
       "    </tr>\n",
       "  </tbody>\n",
       "</table>\n",
       "</div>"
      ],
      "text/plain": [
       "                P        D        E   CPI  CPI_factor\n",
       "Date                                                 \n",
       "1953-01-31  26.18  1.41000  2.41000  26.6    0.097435\n",
       "1953-02-28  25.86  1.41000  2.42000  26.5    0.097069\n",
       "1953-03-31  25.99  1.41000  2.43000  26.6    0.097435\n",
       "1953-04-30  24.71  1.41333  2.45667  26.6    0.097435\n",
       "1953-05-31  24.84  1.41667  2.48333  26.7    0.097801\n",
       "1953-06-30  23.95  1.42000  2.51000  26.8    0.098167\n",
       "1953-07-31  24.29  1.42000  2.52333  26.8    0.098167\n",
       "1953-08-31  24.39  1.42000  2.53667  26.9    0.098534\n",
       "1953-09-30  23.27  1.42000  2.55000  26.9    0.098534\n",
       "1953-10-31  23.97  1.43000  2.53667  27.0    0.098900\n",
       "1953-11-30  24.50  1.44000  2.52333  26.9    0.098534\n",
       "1953-12-31  24.83  1.45000  2.51000  26.9    0.098534"
      ]
     },
     "execution_count": 123,
     "metadata": {},
     "output_type": "execute_result"
    }
   ],
   "source": [
    "shiller.loc['1953']"
   ]
  },
  {
   "cell_type": "code",
   "execution_count": 124,
   "metadata": {},
   "outputs": [],
   "source": [
    "shiller['p_real'] = shiller['P'] / shiller['CPI_factor']\n",
    "shiller['d_real'] = shiller['D'] / shiller['CPI_factor']\n",
    "shiller['e_real'] = shiller['E'] / shiller['CPI_factor']"
   ]
  },
  {
   "cell_type": "code",
   "execution_count": 125,
   "metadata": {},
   "outputs": [
    {
     "data": {
      "text/html": [
       "<div>\n",
       "<style scoped>\n",
       "    .dataframe tbody tr th:only-of-type {\n",
       "        vertical-align: middle;\n",
       "    }\n",
       "\n",
       "    .dataframe tbody tr th {\n",
       "        vertical-align: top;\n",
       "    }\n",
       "\n",
       "    .dataframe thead th {\n",
       "        text-align: right;\n",
       "    }\n",
       "</style>\n",
       "<table border=\"1\" class=\"dataframe\">\n",
       "  <thead>\n",
       "    <tr style=\"text-align: right;\">\n",
       "      <th></th>\n",
       "      <th>P</th>\n",
       "      <th>D</th>\n",
       "      <th>E</th>\n",
       "      <th>CPI</th>\n",
       "      <th>CPI_factor</th>\n",
       "      <th>p_real</th>\n",
       "      <th>d_real</th>\n",
       "      <th>e_real</th>\n",
       "    </tr>\n",
       "    <tr>\n",
       "      <th>Date</th>\n",
       "      <th></th>\n",
       "      <th></th>\n",
       "      <th></th>\n",
       "      <th></th>\n",
       "      <th></th>\n",
       "      <th></th>\n",
       "      <th></th>\n",
       "      <th></th>\n",
       "    </tr>\n",
       "  </thead>\n",
       "  <tbody>\n",
       "    <tr>\n",
       "      <th>1871-01-31</th>\n",
       "      <td>4.44</td>\n",
       "      <td>0.26</td>\n",
       "      <td>0.4</td>\n",
       "      <td>12.464061</td>\n",
       "      <td>0.045655</td>\n",
       "      <td>97.250271</td>\n",
       "      <td>5.694836</td>\n",
       "      <td>8.761286</td>\n",
       "    </tr>\n",
       "    <tr>\n",
       "      <th>1871-02-28</th>\n",
       "      <td>4.50</td>\n",
       "      <td>0.26</td>\n",
       "      <td>0.4</td>\n",
       "      <td>12.844641</td>\n",
       "      <td>0.047049</td>\n",
       "      <td>95.644049</td>\n",
       "      <td>5.526101</td>\n",
       "      <td>8.501693</td>\n",
       "    </tr>\n",
       "    <tr>\n",
       "      <th>1871-03-31</th>\n",
       "      <td>4.61</td>\n",
       "      <td>0.26</td>\n",
       "      <td>0.4</td>\n",
       "      <td>13.034972</td>\n",
       "      <td>0.047747</td>\n",
       "      <td>96.551327</td>\n",
       "      <td>5.445411</td>\n",
       "      <td>8.377555</td>\n",
       "    </tr>\n",
       "    <tr>\n",
       "      <th>1871-04-30</th>\n",
       "      <td>4.74</td>\n",
       "      <td>0.26</td>\n",
       "      <td>0.4</td>\n",
       "      <td>12.559226</td>\n",
       "      <td>0.046004</td>\n",
       "      <td>103.034548</td>\n",
       "      <td>5.651684</td>\n",
       "      <td>8.694899</td>\n",
       "    </tr>\n",
       "    <tr>\n",
       "      <th>1871-05-31</th>\n",
       "      <td>4.86</td>\n",
       "      <td>0.26</td>\n",
       "      <td>0.4</td>\n",
       "      <td>12.273812</td>\n",
       "      <td>0.044959</td>\n",
       "      <td>108.099637</td>\n",
       "      <td>5.783108</td>\n",
       "      <td>8.897089</td>\n",
       "    </tr>\n",
       "  </tbody>\n",
       "</table>\n",
       "</div>"
      ],
      "text/plain": [
       "               P     D    E        CPI  CPI_factor      p_real    d_real  \\\n",
       "Date                                                                       \n",
       "1871-01-31  4.44  0.26  0.4  12.464061    0.045655   97.250271  5.694836   \n",
       "1871-02-28  4.50  0.26  0.4  12.844641    0.047049   95.644049  5.526101   \n",
       "1871-03-31  4.61  0.26  0.4  13.034972    0.047747   96.551327  5.445411   \n",
       "1871-04-30  4.74  0.26  0.4  12.559226    0.046004  103.034548  5.651684   \n",
       "1871-05-31  4.86  0.26  0.4  12.273812    0.044959  108.099637  5.783108   \n",
       "\n",
       "              e_real  \n",
       "Date                  \n",
       "1871-01-31  8.761286  \n",
       "1871-02-28  8.501693  \n",
       "1871-03-31  8.377555  \n",
       "1871-04-30  8.694899  \n",
       "1871-05-31  8.897089  "
      ]
     },
     "execution_count": 125,
     "metadata": {},
     "output_type": "execute_result"
    }
   ],
   "source": [
    "shiller.head()"
   ]
  },
  {
   "cell_type": "code",
   "execution_count": 126,
   "metadata": {},
   "outputs": [],
   "source": [
    "shiller = shiller.drop(columns=['P', 'D', 'E', 'CPI', 'CPI_factor'])"
   ]
  },
  {
   "cell_type": "code",
   "execution_count": 127,
   "metadata": {},
   "outputs": [
    {
     "data": {
      "text/html": [
       "<div>\n",
       "<style scoped>\n",
       "    .dataframe tbody tr th:only-of-type {\n",
       "        vertical-align: middle;\n",
       "    }\n",
       "\n",
       "    .dataframe tbody tr th {\n",
       "        vertical-align: top;\n",
       "    }\n",
       "\n",
       "    .dataframe thead th {\n",
       "        text-align: right;\n",
       "    }\n",
       "</style>\n",
       "<table border=\"1\" class=\"dataframe\">\n",
       "  <thead>\n",
       "    <tr style=\"text-align: right;\">\n",
       "      <th></th>\n",
       "      <th>p_real</th>\n",
       "      <th>d_real</th>\n",
       "      <th>e_real</th>\n",
       "    </tr>\n",
       "    <tr>\n",
       "      <th>Date</th>\n",
       "      <th></th>\n",
       "      <th></th>\n",
       "      <th></th>\n",
       "    </tr>\n",
       "  </thead>\n",
       "  <tbody>\n",
       "    <tr>\n",
       "      <th>2020-07-31</th>\n",
       "      <td>3379.723099</td>\n",
       "      <td>62.590604</td>\n",
       "      <td>104.199431</td>\n",
       "    </tr>\n",
       "    <tr>\n",
       "      <th>2020-08-31</th>\n",
       "      <td>3562.458180</td>\n",
       "      <td>62.103269</td>\n",
       "      <td>103.518285</td>\n",
       "    </tr>\n",
       "    <tr>\n",
       "      <th>2020-09-30</th>\n",
       "      <td>3530.029762</td>\n",
       "      <td>61.726704</td>\n",
       "      <td>103.021187</td>\n",
       "    </tr>\n",
       "    <tr>\n",
       "      <th>2020-10-31</th>\n",
       "      <td>3584.326960</td>\n",
       "      <td>61.501494</td>\n",
       "      <td>101.549075</td>\n",
       "    </tr>\n",
       "    <tr>\n",
       "      <th>2020-11-30</th>\n",
       "      <td>3723.203792</td>\n",
       "      <td>61.339341</td>\n",
       "      <td>100.180866</td>\n",
       "    </tr>\n",
       "    <tr>\n",
       "      <th>2020-12-31</th>\n",
       "      <td>3873.057257</td>\n",
       "      <td>61.082104</td>\n",
       "      <td>98.657725</td>\n",
       "    </tr>\n",
       "    <tr>\n",
       "      <th>2021-01-31</th>\n",
       "      <td>3959.388261</td>\n",
       "      <td>60.598827</td>\n",
       "      <td>110.092348</td>\n",
       "    </tr>\n",
       "    <tr>\n",
       "      <th>2021-02-28</th>\n",
       "      <td>4030.920845</td>\n",
       "      <td>60.045568</td>\n",
       "      <td>121.280922</td>\n",
       "    </tr>\n",
       "    <tr>\n",
       "      <th>2021-03-31</th>\n",
       "      <td>4030.476360</td>\n",
       "      <td>59.401487</td>\n",
       "      <td>132.132970</td>\n",
       "    </tr>\n",
       "    <tr>\n",
       "      <th>2021-04-30</th>\n",
       "      <td>4233.426661</td>\n",
       "      <td>58.996190</td>\n",
       "      <td>141.462607</td>\n",
       "    </tr>\n",
       "    <tr>\n",
       "      <th>2021-05-31</th>\n",
       "      <td>4226.807396</td>\n",
       "      <td>58.605283</td>\n",
       "      <td>150.661512</td>\n",
       "    </tr>\n",
       "    <tr>\n",
       "      <th>2021-06-30</th>\n",
       "      <td>4258.878899</td>\n",
       "      <td>58.143403</td>\n",
       "      <td>159.503623</td>\n",
       "    </tr>\n",
       "    <tr>\n",
       "      <th>2021-07-31</th>\n",
       "      <td>4363.712857</td>\n",
       "      <td>NaN</td>\n",
       "      <td>NaN</td>\n",
       "    </tr>\n",
       "    <tr>\n",
       "      <th>2021-08-31</th>\n",
       "      <td>4443.569584</td>\n",
       "      <td>NaN</td>\n",
       "      <td>NaN</td>\n",
       "    </tr>\n",
       "    <tr>\n",
       "      <th>2021-09-30</th>\n",
       "      <td>4477.204062</td>\n",
       "      <td>NaN</td>\n",
       "      <td>NaN</td>\n",
       "    </tr>\n",
       "  </tbody>\n",
       "</table>\n",
       "</div>"
      ],
      "text/plain": [
       "                 p_real     d_real      e_real\n",
       "Date                                          \n",
       "2020-07-31  3379.723099  62.590604  104.199431\n",
       "2020-08-31  3562.458180  62.103269  103.518285\n",
       "2020-09-30  3530.029762  61.726704  103.021187\n",
       "2020-10-31  3584.326960  61.501494  101.549075\n",
       "2020-11-30  3723.203792  61.339341  100.180866\n",
       "2020-12-31  3873.057257  61.082104   98.657725\n",
       "2021-01-31  3959.388261  60.598827  110.092348\n",
       "2021-02-28  4030.920845  60.045568  121.280922\n",
       "2021-03-31  4030.476360  59.401487  132.132970\n",
       "2021-04-30  4233.426661  58.996190  141.462607\n",
       "2021-05-31  4226.807396  58.605283  150.661512\n",
       "2021-06-30  4258.878899  58.143403  159.503623\n",
       "2021-07-31  4363.712857        NaN         NaN\n",
       "2021-08-31  4443.569584        NaN         NaN\n",
       "2021-09-30  4477.204062        NaN         NaN"
      ]
     },
     "execution_count": 127,
     "metadata": {},
     "output_type": "execute_result"
    }
   ],
   "source": [
    "shiller.tail(15)"
   ]
  },
  {
   "cell_type": "markdown",
   "metadata": {},
   "source": [
    "Next we'll calculate the *cyclically-adjusted price earnings ratio (CAPE)*. This is the price at a point in time divided by the average earnings over the previous ten years."
   ]
  },
  {
   "cell_type": "code",
   "execution_count": 128,
   "metadata": {},
   "outputs": [],
   "source": [
    "r = shiller.rolling(window=120, min_periods=100)"
   ]
  },
  {
   "cell_type": "code",
   "execution_count": 129,
   "metadata": {},
   "outputs": [
    {
     "data": {
      "text/plain": [
       "Rolling [window=120,min_periods=100,center=False,axis=0,method=single]"
      ]
     },
     "execution_count": 129,
     "metadata": {},
     "output_type": "execute_result"
    }
   ],
   "source": [
    "r"
   ]
  },
  {
   "cell_type": "code",
   "execution_count": 130,
   "metadata": {},
   "outputs": [
    {
     "data": {
      "text/plain": [
       "Date\n",
       "1871-01-31           NaN\n",
       "1871-02-28           NaN\n",
       "1871-03-31           NaN\n",
       "1871-04-30           NaN\n",
       "1871-05-31           NaN\n",
       "                 ...    \n",
       "2021-05-31    116.057410\n",
       "2021-06-30    116.541292\n",
       "2021-07-31    116.658439\n",
       "2021-08-31    116.769376\n",
       "2021-09-30    116.872890\n",
       "Name: e_real, Length: 1809, dtype: float64"
      ]
     },
     "execution_count": 130,
     "metadata": {},
     "output_type": "execute_result"
    }
   ],
   "source": [
    "r['e_real'].mean()"
   ]
  },
  {
   "cell_type": "code",
   "execution_count": 131,
   "metadata": {},
   "outputs": [
    {
     "data": {
      "text/plain": [
       "Date\n",
       "1878-12-31         NaN\n",
       "1879-01-31         NaN\n",
       "1879-02-28         NaN\n",
       "1879-03-31         NaN\n",
       "1879-04-30    9.229380\n",
       "1879-05-31    9.250051\n",
       "1879-06-30    9.273541\n",
       "1879-07-31    9.297140\n",
       "1879-08-31    9.322177\n",
       "1879-09-30    9.344698\n",
       "Name: e_real, dtype: float64"
      ]
     },
     "execution_count": 131,
     "metadata": {},
     "output_type": "execute_result"
    }
   ],
   "source": [
    "r['e_real'].mean().iloc[95:105]"
   ]
  },
  {
   "cell_type": "markdown",
   "metadata": {},
   "source": [
    "The value of CAPE is the current price value divided by the rolling average *lagged one period*. We do this by calling `.shift` to shift the time series one period."
   ]
  },
  {
   "cell_type": "code",
   "execution_count": 132,
   "metadata": {},
   "outputs": [
    {
     "data": {
      "text/html": [
       "<div>\n",
       "<style scoped>\n",
       "    .dataframe tbody tr th:only-of-type {\n",
       "        vertical-align: middle;\n",
       "    }\n",
       "\n",
       "    .dataframe tbody tr th {\n",
       "        vertical-align: top;\n",
       "    }\n",
       "\n",
       "    .dataframe thead th {\n",
       "        text-align: right;\n",
       "    }\n",
       "</style>\n",
       "<table border=\"1\" class=\"dataframe\">\n",
       "  <thead>\n",
       "    <tr style=\"text-align: right;\">\n",
       "      <th></th>\n",
       "      <th>p_real</th>\n",
       "      <th>d_real</th>\n",
       "      <th>e_real</th>\n",
       "      <th>CAPE</th>\n",
       "    </tr>\n",
       "    <tr>\n",
       "      <th>Date</th>\n",
       "      <th></th>\n",
       "      <th></th>\n",
       "      <th></th>\n",
       "      <th></th>\n",
       "    </tr>\n",
       "  </thead>\n",
       "  <tbody>\n",
       "    <tr>\n",
       "      <th>2021-05-31</th>\n",
       "      <td>4226.807396</td>\n",
       "      <td>58.605283</td>\n",
       "      <td>150.661512</td>\n",
       "      <td>36.552152</td>\n",
       "    </tr>\n",
       "    <tr>\n",
       "      <th>2021-06-30</th>\n",
       "      <td>4258.878899</td>\n",
       "      <td>58.143403</td>\n",
       "      <td>159.503623</td>\n",
       "      <td>36.696312</td>\n",
       "    </tr>\n",
       "    <tr>\n",
       "      <th>2021-07-31</th>\n",
       "      <td>4363.712857</td>\n",
       "      <td>NaN</td>\n",
       "      <td>NaN</td>\n",
       "      <td>37.443491</td>\n",
       "    </tr>\n",
       "    <tr>\n",
       "      <th>2021-08-31</th>\n",
       "      <td>4443.569584</td>\n",
       "      <td>NaN</td>\n",
       "      <td>NaN</td>\n",
       "      <td>38.090426</td>\n",
       "    </tr>\n",
       "    <tr>\n",
       "      <th>2021-09-30</th>\n",
       "      <td>4477.204062</td>\n",
       "      <td>NaN</td>\n",
       "      <td>NaN</td>\n",
       "      <td>38.342280</td>\n",
       "    </tr>\n",
       "  </tbody>\n",
       "</table>\n",
       "</div>"
      ],
      "text/plain": [
       "                 p_real     d_real      e_real       CAPE\n",
       "Date                                                     \n",
       "2021-05-31  4226.807396  58.605283  150.661512  36.552152\n",
       "2021-06-30  4258.878899  58.143403  159.503623  36.696312\n",
       "2021-07-31  4363.712857        NaN         NaN  37.443491\n",
       "2021-08-31  4443.569584        NaN         NaN  38.090426\n",
       "2021-09-30  4477.204062        NaN         NaN  38.342280"
      ]
     },
     "execution_count": 132,
     "metadata": {},
     "output_type": "execute_result"
    }
   ],
   "source": [
    "shiller['CAPE'] = shiller['p_real'] / r['e_real'].mean().shift()\n",
    "\n",
    "shiller.tail()"
   ]
  },
  {
   "cell_type": "markdown",
   "metadata": {},
   "source": [
    "Then, we'll add a recession indicator variable (1 or 0) by accessing data from the St. Louis Federal Reserve data service, [FRED](https://fred.stlouisfed.org/) using the `pandas_datareader`.\n",
    "\n",
    "The particular series we want is at https://fred.stlouisfed.org/series/USREC."
   ]
  },
  {
   "cell_type": "code",
   "execution_count": 133,
   "metadata": {},
   "outputs": [],
   "source": [
    "import pandas_datareader as pdr"
   ]
  },
  {
   "cell_type": "code",
   "execution_count": 134,
   "metadata": {},
   "outputs": [
    {
     "data": {
      "text/html": [
       "<div>\n",
       "<style scoped>\n",
       "    .dataframe tbody tr th:only-of-type {\n",
       "        vertical-align: middle;\n",
       "    }\n",
       "\n",
       "    .dataframe tbody tr th {\n",
       "        vertical-align: top;\n",
       "    }\n",
       "\n",
       "    .dataframe thead th {\n",
       "        text-align: right;\n",
       "    }\n",
       "</style>\n",
       "<table border=\"1\" class=\"dataframe\">\n",
       "  <thead>\n",
       "    <tr style=\"text-align: right;\">\n",
       "      <th></th>\n",
       "      <th>USREC</th>\n",
       "    </tr>\n",
       "    <tr>\n",
       "      <th>DATE</th>\n",
       "      <th></th>\n",
       "    </tr>\n",
       "  </thead>\n",
       "  <tbody>\n",
       "    <tr>\n",
       "      <th>1870-01-01</th>\n",
       "      <td>1</td>\n",
       "    </tr>\n",
       "    <tr>\n",
       "      <th>1870-02-01</th>\n",
       "      <td>1</td>\n",
       "    </tr>\n",
       "    <tr>\n",
       "      <th>1870-03-01</th>\n",
       "      <td>1</td>\n",
       "    </tr>\n",
       "    <tr>\n",
       "      <th>1870-04-01</th>\n",
       "      <td>1</td>\n",
       "    </tr>\n",
       "    <tr>\n",
       "      <th>1870-05-01</th>\n",
       "      <td>1</td>\n",
       "    </tr>\n",
       "  </tbody>\n",
       "</table>\n",
       "</div>"
      ],
      "text/plain": [
       "            USREC\n",
       "DATE             \n",
       "1870-01-01      1\n",
       "1870-02-01      1\n",
       "1870-03-01      1\n",
       "1870-04-01      1\n",
       "1870-05-01      1"
      ]
     },
     "execution_count": 134,
     "metadata": {},
     "output_type": "execute_result"
    }
   ],
   "source": [
    "nber = pdr.get_data_fred('USREC', '1870')\n",
    "nber.head()"
   ]
  },
  {
   "cell_type": "code",
   "execution_count": 135,
   "metadata": {},
   "outputs": [
    {
     "data": {
      "text/plain": [
       "USREC    0.281953\n",
       "dtype: float64"
      ]
     },
     "execution_count": 135,
     "metadata": {},
     "output_type": "execute_result"
    }
   ],
   "source": [
    "nber.mean()"
   ]
  },
  {
   "cell_type": "markdown",
   "metadata": {},
   "source": [
    "The `shiller` DataFrame and the `nber` Series both have the same index (`datetime` values). We can *join* the two together on that index."
   ]
  },
  {
   "cell_type": "code",
   "execution_count": 136,
   "metadata": {},
   "outputs": [
    {
     "data": {
      "text/plain": [
       "DatetimeIndex(['1870-01-01', '1870-02-01', '1870-03-01', '1870-04-01',\n",
       "               '1870-05-01', '1870-06-01', '1870-07-01', '1870-08-01',\n",
       "               '1870-09-01', '1870-10-01',\n",
       "               ...\n",
       "               '2021-02-01', '2021-03-01', '2021-04-01', '2021-05-01',\n",
       "               '2021-06-01', '2021-07-01', '2021-08-01', '2021-09-01',\n",
       "               '2021-10-01', '2021-11-01'],\n",
       "              dtype='datetime64[ns]', name='DATE', length=1823, freq=None)"
      ]
     },
     "execution_count": 136,
     "metadata": {},
     "output_type": "execute_result"
    }
   ],
   "source": [
    "nber.index"
   ]
  },
  {
   "cell_type": "code",
   "execution_count": 137,
   "metadata": {},
   "outputs": [],
   "source": [
    "from pandas.tseries.offsets import MonthEnd"
   ]
  },
  {
   "cell_type": "code",
   "execution_count": 138,
   "metadata": {},
   "outputs": [
    {
     "data": {
      "text/plain": [
       "DatetimeIndex(['1870-01-31', '1870-02-28', '1870-03-31', '1870-04-30',\n",
       "               '1870-05-31', '1870-06-30', '1870-07-31', '1870-08-31',\n",
       "               '1870-09-30', '1870-10-31',\n",
       "               ...\n",
       "               '2021-02-28', '2021-03-31', '2021-04-30', '2021-05-31',\n",
       "               '2021-06-30', '2021-07-31', '2021-08-31', '2021-09-30',\n",
       "               '2021-10-31', '2021-11-30'],\n",
       "              dtype='datetime64[ns]', name='DATE', length=1823, freq=None)"
      ]
     },
     "execution_count": 138,
     "metadata": {},
     "output_type": "execute_result"
    }
   ],
   "source": [
    "nber.index + MonthEnd(0)"
   ]
  },
  {
   "cell_type": "code",
   "execution_count": 139,
   "metadata": {},
   "outputs": [],
   "source": [
    "nber.index = nber.index + MonthEnd(0)"
   ]
  },
  {
   "cell_type": "code",
   "execution_count": 141,
   "metadata": {},
   "outputs": [
    {
     "data": {
      "text/html": [
       "<div>\n",
       "<style scoped>\n",
       "    .dataframe tbody tr th:only-of-type {\n",
       "        vertical-align: middle;\n",
       "    }\n",
       "\n",
       "    .dataframe tbody tr th {\n",
       "        vertical-align: top;\n",
       "    }\n",
       "\n",
       "    .dataframe thead th {\n",
       "        text-align: right;\n",
       "    }\n",
       "</style>\n",
       "<table border=\"1\" class=\"dataframe\">\n",
       "  <thead>\n",
       "    <tr style=\"text-align: right;\">\n",
       "      <th></th>\n",
       "      <th>p_real</th>\n",
       "      <th>d_real</th>\n",
       "      <th>e_real</th>\n",
       "      <th>CAPE</th>\n",
       "      <th>USREC</th>\n",
       "    </tr>\n",
       "    <tr>\n",
       "      <th>Date</th>\n",
       "      <th></th>\n",
       "      <th></th>\n",
       "      <th></th>\n",
       "      <th></th>\n",
       "      <th></th>\n",
       "    </tr>\n",
       "  </thead>\n",
       "  <tbody>\n",
       "    <tr>\n",
       "      <th>1879-05-31</th>\n",
       "      <td>131.454931</td>\n",
       "      <td>6.282478</td>\n",
       "      <td>11.317135</td>\n",
       "      <td>14.243094</td>\n",
       "      <td>0</td>\n",
       "    </tr>\n",
       "    <tr>\n",
       "      <th>1879-06-30</th>\n",
       "      <td>133.676385</td>\n",
       "      <td>6.413766</td>\n",
       "      <td>11.646049</td>\n",
       "      <td>14.451421</td>\n",
       "      <td>0</td>\n",
       "    </tr>\n",
       "    <tr>\n",
       "      <th>1879-07-31</th>\n",
       "      <td>134.791351</td>\n",
       "      <td>6.395916</td>\n",
       "      <td>11.704160</td>\n",
       "      <td>14.535046</td>\n",
       "      <td>0</td>\n",
       "    </tr>\n",
       "    <tr>\n",
       "      <th>1879-08-31</th>\n",
       "      <td>135.792276</td>\n",
       "      <td>6.449299</td>\n",
       "      <td>11.901009</td>\n",
       "      <td>14.605812</td>\n",
       "      <td>0</td>\n",
       "    </tr>\n",
       "    <tr>\n",
       "      <th>1879-09-30</th>\n",
       "      <td>136.051291</td>\n",
       "      <td>6.286730</td>\n",
       "      <td>11.686870</td>\n",
       "      <td>14.594369</td>\n",
       "      <td>0</td>\n",
       "    </tr>\n",
       "  </tbody>\n",
       "</table>\n",
       "</div>"
      ],
      "text/plain": [
       "                p_real    d_real     e_real       CAPE  USREC\n",
       "Date                                                         \n",
       "1879-05-31  131.454931  6.282478  11.317135  14.243094      0\n",
       "1879-06-30  133.676385  6.413766  11.646049  14.451421      0\n",
       "1879-07-31  134.791351  6.395916  11.704160  14.535046      0\n",
       "1879-08-31  135.792276  6.449299  11.901009  14.605812      0\n",
       "1879-09-30  136.051291  6.286730  11.686870  14.594369      0"
      ]
     },
     "execution_count": 141,
     "metadata": {},
     "output_type": "execute_result"
    }
   ],
   "source": [
    "shiller = shiller.join(nber).dropna()\n",
    "\n",
    "shiller.head()"
   ]
  },
  {
   "cell_type": "markdown",
   "metadata": {},
   "source": [
    "## Plotting\n",
    "\n",
    "(This is more advanced. Don't worry about learning these details yet.)"
   ]
  },
  {
   "cell_type": "code",
   "execution_count": 142,
   "metadata": {},
   "outputs": [
    {
     "data": {
      "text/plain": [
       "<matplotlib.collections.PolyCollection at 0x7fd5de06be50>"
      ]
     },
     "execution_count": 142,
     "metadata": {},
     "output_type": "execute_result"
    },
    {
     "data": {
      "image/png": "[encoded data removed]",
      "text/plain": [
       "<Figure size 1008x648 with 1 Axes>"
      ]
     },
     "metadata": {
      "needs_background": "light"
     },
     "output_type": "display_data"
    }
   ],
   "source": [
    "# %matplotlib notebook\n",
    "import matplotlib.pyplot as plt\n",
    "from matplotlib.dates import YearLocator\n",
    "\n",
    "# create Series with means and current value repeated\n",
    "avg = pd.Series(shiller['CAPE'].mean(), index=shiller.index)\n",
    "avg47 = pd.Series(shiller.loc['1947':,'CAPE'].mean(), index=shiller.loc['1947':].index)\n",
    "curentval = pd.Series(shiller['CAPE'].iloc[-1], index=shiller.index)\n",
    "\n",
    "# main plot\n",
    "ax = shiller['CAPE'].plot(figsize=(14,9), ylim=(0,45), legend=True, x_compat=True, c='b', lw=1)\n",
    "\n",
    "# change year locations\n",
    "yrs10 = YearLocator(10)\n",
    "yrs5 = YearLocator(5)\n",
    "ax.xaxis.set_major_locator(yrs10)\n",
    "ax.xaxis.set_minor_locator(yrs5)\n",
    "\n",
    "# add bells & whistles\n",
    "curentval.plot(ax=ax, label='Current level', legend=True, c='k', ls=':', lw=1)\n",
    "avg.plot(ax=ax, label='Avg', legend=True, c='r', ls='--', lw=1)\n",
    "avg47.plot(ax=ax, label='Avg, post-war', legend=True, c='g', ls='--', lw=1)\n",
    "plt.legend(loc='upper left', fontsize='medium')\n",
    "\n",
    "ax.fill_between(shiller['CAPE'].index, 0, 45, where=shiller['USREC']==1, \n",
    "                facecolor='lightgrey', edgecolor='lightgrey', alpha=0.5)"
   ]
  },
  {
   "cell_type": "code",
   "execution_count": null,
   "metadata": {},
   "outputs": [],
   "source": [
    "shiller.iloc[-1]"
   ]
  },
  {
   "cell_type": "code",
   "execution_count": null,
   "metadata": {},
   "outputs": [],
   "source": [
    "shiller['e_real'].plot()\n",
    "r['e_real'].mean().plot()"
   ]
  },
  {
   "cell_type": "markdown",
   "metadata": {},
   "source": [
    "## Correlations"
   ]
  },
  {
   "cell_type": "markdown",
   "metadata": {},
   "source": [
    "Let's calculate future 2- and 5-year returns. We do this by dividing the price in 2 or 5 years by the price \"today\"."
   ]
  },
  {
   "cell_type": "code",
   "execution_count": null,
   "metadata": {},
   "outputs": [],
   "source": [
    "shiller['p_real'].pct_change(1)\n",
    "\n",
    "# equivalent to:\n",
    "shiller['p_real'] / shiller['p_real'].shift() - 1"
   ]
  },
  {
   "cell_type": "code",
   "execution_count": null,
   "metadata": {},
   "outputs": [],
   "source": [
    "shiller['p_real'].shift(-1) / shiller['p_real'] - 1"
   ]
  },
  {
   "cell_type": "markdown",
   "metadata": {},
   "source": [
    "Ret(t -> t+24) = price(t+24) / price(t) - 1"
   ]
  },
  {
   "cell_type": "code",
   "execution_count": null,
   "metadata": {},
   "outputs": [],
   "source": [
    "shiller['ret2yr'] = shiller['p_real'].shift(-2*12) / shiller['p_real'] - 1\n",
    "shiller['ret5yr'] = shiller['p_real'].shift(-5*12) / shiller['p_real'] - 1"
   ]
  },
  {
   "cell_type": "code",
   "execution_count": null,
   "metadata": {},
   "outputs": [],
   "source": [
    "shiller"
   ]
  },
  {
   "cell_type": "code",
   "execution_count": null,
   "metadata": {},
   "outputs": [],
   "source": [
    "# this is WRONG\n",
    "shiller['p_real'].pct_change(-24)\n",
    "\n",
    "# p(t) / p(t+24) - 1"
   ]
  },
  {
   "cell_type": "code",
   "execution_count": null,
   "metadata": {},
   "outputs": [],
   "source": [
    "shiller"
   ]
  },
  {
   "cell_type": "code",
   "execution_count": null,
   "metadata": {},
   "outputs": [],
   "source": [
    "shiller[['CAPE', 'ret2yr', 'ret5yr']].corr()"
   ]
  },
  {
   "cell_type": "code",
   "execution_count": null,
   "metadata": {},
   "outputs": [],
   "source": [
    "shiller[['CAPE', 'ret5yr']].plot()"
   ]
  },
  {
   "cell_type": "code",
   "execution_count": null,
   "metadata": {},
   "outputs": [],
   "source": [
    "shiller['CAPE'].mean()"
   ]
  },
  {
   "cell_type": "code",
   "execution_count": null,
   "metadata": {},
   "outputs": [],
   "source": [
    "shiller.loc['1980':, ['CAPE', 'ret2yr', 'ret5yr']].corr()"
   ]
  },
  {
   "cell_type": "code",
   "execution_count": null,
   "metadata": {},
   "outputs": [],
   "source": []
  }
 ],
 "metadata": {
  "kernelspec": {
   "display_name": "Python 3 (ipykernel)",
   "language": "python",
   "name": "python3"
  },
  "language_info": {
   "codemirror_mode": {
    "name": "ipython",
    "version": 3
   },
   "file_extension": ".py",
   "mimetype": "text/x-python",
   "name": "python",
   "nbconvert_exporter": "python",
   "pygments_lexer": "ipython3",
   "version": "3.9.7"
  },
  "toc": {
   "base_numbering": 1,
   "nav_menu": {},
   "number_sections": false,
   "sideBar": true,
   "skip_h1_title": false,
   "title_cell": "Table of Contents",
   "title_sidebar": "Contents",
   "toc_cell": false,
   "toc_position": {},
   "toc_section_display": true,
   "toc_window_display": false
  }
 },
 "nbformat": 4,
 "nbformat_minor": 4
}
