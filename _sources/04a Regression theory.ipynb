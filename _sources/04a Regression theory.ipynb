{
 "cells": [
  {
   "cell_type": "markdown",
   "metadata": {
    "slideshow": {
     "slide_type": "slide"
    }
   },
   "source": [
    "# Linear regression"
   ]
  },
  {
   "cell_type": "markdown",
   "metadata": {},
   "source": [
    "Suppose we have 100 observations of pairs of data, an *outcome* $y_i$ and an explanatory variable $x_i$. The figure below shows an example of such data."
   ]
  },
  {
   "cell_type": "code",
   "execution_count": 2,
   "metadata": {
    "hide_input": false,
    "slideshow": {
     "slide_type": "subslide"
    },
    "tags": [
     "hide-input"
    ]
   },
   "outputs": [
    {
     "data": {
      "image/png": "[encoded data removed]",
      "text/plain": [
       "<Figure size 576x432 with 1 Axes>"
      ]
     },
     "metadata": {
      "needs_background": "light"
     },
     "output_type": "display_data"
    }
   ],
   "source": [
    "# initiate random number generator\n",
    "rng = default_rng(8675309)\n",
    "\n",
    "N = 100\n",
    "x = rng.uniform(high=10, size=(N,1))\n",
    "ε = rng.normal(0, 7, size=(N,1))\n",
    "\n",
    "# use “true” model to generate Y from X\n",
    "y = 2 - 3*x + ε\n",
    "\n",
    "fig, ax = plt.subplots(figsize=(8,6))\n",
    "ax.plot(x, y, 'bo')\n",
    "ax.set_xlabel('$X$', fontsize=16)\n",
    "ax.set_ylabel('$Y$', fontsize=16)\n",
    "plt.show()"
   ]
  },
  {
   "cell_type": "markdown",
   "metadata": {},
   "source": [
    "Our objective is to understand the relation between $X$ and $Y$. This might be because we're intrinsically interested in how these variables are related, or more generally we may be interested simply in predicting what $y_i$ would be for some new value of $x_i$ that isn't in our data."
   ]
  },
  {
   "cell_type": "markdown",
   "metadata": {},
   "source": [
    "One model for how the data might be related is the linear model\n",
    "\n",
    "$$y_i = \\beta_0 + \\beta_1 x_i + \\varepsilon_i $$\n",
    "\n",
    "where $\\beta_0$ is the *intercept* or *constant*, $\\beta_1$ is the slope coefficient, and the *error* or *noise* term $\\varepsilon$ is assumed to follow\n",
    "\n",
    "$$\\varepsilon_i \\sim \\N(0, \\sigma^2).$$\n",
    "\n",
    "That is, each $\\varepsilon_i$ is independently and identically (iid) normally distributed with mean zero and variance $\\sigma^2$. The coefficients or *parameters* $\\beta_0$, $\\beta_1$, and $\\sigma^2$ must be *estimated* from the data."
   ]
  },
  {
   "cell_type": "markdown",
   "metadata": {
    "slideshow": {
     "slide_type": "fragment"
    }
   },
   "source": [
    "The model can be written more compactly using vector notation as\n",
    "\n",
    "$$Y = X\\beta + \\varepsilon,$$\n",
    "\n",
    "where\n",
    "\n",
    "\\begin{equation*}\n",
    "Y = \\begin{bmatrix}\n",
    "y_1 \\\\\n",
    "y_2 \\\\\n",
    "\\vdots \\\\\n",
    "y_N\n",
    "\\end{bmatrix},\n",
    "\\quad\n",
    "X = \\begin{bmatrix}\n",
    "1 & x_1\\\\ \n",
    "1 & x_2\\\\ \n",
    "\\vdots & \\vdots \\\\ \n",
    "1 & x_N\n",
    "\\end{bmatrix},\n",
    "\\quad\n",
    "\\varepsilon = \\begin{bmatrix}\n",
    "\\varepsilon_1 \\\\\n",
    "\\varepsilon_2 \\\\\n",
    "\\vdots \\\\\n",
    "\\varepsilon_N\n",
    "\\end{bmatrix},\n",
    "\\quad\n",
    "\\text{and}\n",
    "\\quad\n",
    "\\beta = \\begin{bmatrix}\n",
    "\\beta_0 \\\\ \\beta_1\n",
    "\\end{bmatrix}.\n",
    "\\end{equation*}\n",
    "\n",
    "The *design matrix*, $X$, is a $N\\times (K+1)$ matrix, where we have $K$ explanatory variables. In this simple case, $K=1$.\n",
    "\n"
   ]
  },
  {
   "cell_type": "code",
   "execution_count": 3,
   "metadata": {
    "tags": [
     "output_scroll"
    ]
   },
   "outputs": [
    {
     "data": {
      "text/plain": [
       "array([[1.        , 3.78932572],\n",
       "       [1.        , 8.14510763],\n",
       "       [1.        , 6.25815208],\n",
       "       [1.        , 9.06732906],\n",
       "       [1.        , 1.51201567],\n",
       "       [1.        , 3.35945273],\n",
       "       [1.        , 4.77343805],\n",
       "       [1.        , 5.02944731],\n",
       "       [1.        , 3.20385337],\n",
       "       [1.        , 6.98991629],\n",
       "       [1.        , 0.93549912],\n",
       "       [1.        , 9.60145739],\n",
       "       [1.        , 2.82288409],\n",
       "       [1.        , 6.23623746],\n",
       "       [1.        , 9.22986082],\n",
       "       [1.        , 9.36331049],\n",
       "       [1.        , 0.19613871],\n",
       "       [1.        , 2.45358141],\n",
       "       [1.        , 4.85431758],\n",
       "       [1.        , 9.11233189],\n",
       "       [1.        , 3.09033301],\n",
       "       [1.        , 5.70593544],\n",
       "       [1.        , 8.0015214 ],\n",
       "       [1.        , 6.9984128 ],\n",
       "       [1.        , 5.10762591],\n",
       "       [1.        , 3.33947923],\n",
       "       [1.        , 2.32362688],\n",
       "       [1.        , 7.40113077],\n",
       "       [1.        , 9.90912306],\n",
       "       [1.        , 7.46814805],\n",
       "       [1.        , 9.85866987],\n",
       "       [1.        , 5.07204594],\n",
       "       [1.        , 9.37496851],\n",
       "       [1.        , 7.04934381],\n",
       "       [1.        , 0.12397061],\n",
       "       [1.        , 8.99037205],\n",
       "       [1.        , 3.80096974],\n",
       "       [1.        , 6.41390961],\n",
       "       [1.        , 4.18691253],\n",
       "       [1.        , 7.69913645],\n",
       "       [1.        , 8.79152345],\n",
       "       [1.        , 6.37914799],\n",
       "       [1.        , 6.68576394],\n",
       "       [1.        , 2.28496784],\n",
       "       [1.        , 6.0957999 ],\n",
       "       [1.        , 6.04318223],\n",
       "       [1.        , 5.05412458],\n",
       "       [1.        , 9.07223282],\n",
       "       [1.        , 6.41279701],\n",
       "       [1.        , 3.85683938],\n",
       "       [1.        , 7.38562053],\n",
       "       [1.        , 0.92488618],\n",
       "       [1.        , 2.87034247],\n",
       "       [1.        , 5.94616768],\n",
       "       [1.        , 1.96636734],\n",
       "       [1.        , 6.83881273],\n",
       "       [1.        , 9.24086347],\n",
       "       [1.        , 9.32008681],\n",
       "       [1.        , 9.85890061],\n",
       "       [1.        , 7.49033628],\n",
       "       [1.        , 2.68154467],\n",
       "       [1.        , 5.46868578],\n",
       "       [1.        , 7.48908539],\n",
       "       [1.        , 1.02980244],\n",
       "       [1.        , 6.47672066],\n",
       "       [1.        , 4.53147238],\n",
       "       [1.        , 8.84635465],\n",
       "       [1.        , 2.2570779 ],\n",
       "       [1.        , 1.99017837],\n",
       "       [1.        , 1.75745678],\n",
       "       [1.        , 8.53294995],\n",
       "       [1.        , 0.57853728],\n",
       "       [1.        , 7.51816065],\n",
       "       [1.        , 6.02103699],\n",
       "       [1.        , 2.8158828 ],\n",
       "       [1.        , 3.89821668],\n",
       "       [1.        , 1.92948469],\n",
       "       [1.        , 4.08890653],\n",
       "       [1.        , 6.63104342],\n",
       "       [1.        , 8.92565301],\n",
       "       [1.        , 2.76036701],\n",
       "       [1.        , 8.20130563],\n",
       "       [1.        , 2.99066128],\n",
       "       [1.        , 5.24300051],\n",
       "       [1.        , 7.68925061],\n",
       "       [1.        , 7.1778335 ],\n",
       "       [1.        , 1.21729107],\n",
       "       [1.        , 6.02433167],\n",
       "       [1.        , 9.12670588],\n",
       "       [1.        , 3.01652468],\n",
       "       [1.        , 6.31300866],\n",
       "       [1.        , 6.65746208],\n",
       "       [1.        , 9.90520943],\n",
       "       [1.        , 4.97624774],\n",
       "       [1.        , 7.96788852],\n",
       "       [1.        , 4.82646891],\n",
       "       [1.        , 1.61224955],\n",
       "       [1.        , 4.56262183],\n",
       "       [1.        , 3.62059203],\n",
       "       [1.        , 2.4346172 ]])"
      ]
     },
     "execution_count": 3,
     "metadata": {},
     "output_type": "execute_result"
    }
   ],
   "source": [
    "#  construct the X matrix\n",
    "X = np.c_[np.ones(N), x]\n",
    "\n",
    "X"
   ]
  },
  {
   "cell_type": "markdown",
   "metadata": {
    "slideshow": {
     "slide_type": "subslide"
    }
   },
   "source": [
    "Given a particular estimate of $\\beta$, which we denote $\\hat{\\beta}$, we *predict* values for $Y$ using\n",
    "\n",
    "$$\\hat{Y} = X\\hat{\\beta}.$$"
   ]
  },
  {
   "cell_type": "markdown",
   "metadata": {},
   "source": [
    "It looks from the plot that there's a clear negative relation between $X$ and $Y$ for these data, so let's guess that $\\beta = \\begin{pmatrix} 0\\\\ -1.5 \\end{pmatrix}$."
   ]
  },
  {
   "cell_type": "code",
   "execution_count": 4,
   "metadata": {
    "hide_input": false,
    "tags": []
   },
   "outputs": [],
   "source": [
    "β_hat = np.array([[0], [-1.5]])\n",
    "y_hat = X @ β_hat"
   ]
  },
  {
   "cell_type": "code",
   "execution_count": 5,
   "metadata": {
    "hide_input": false,
    "tags": [
     "hide-input"
    ]
   },
   "outputs": [
    {
     "data": {
      "image/png": "[encoded data removed]",
      "text/plain": [
       "<Figure size 576x432 with 1 Axes>"
      ]
     },
     "metadata": {
      "needs_background": "light"
     },
     "output_type": "display_data"
    }
   ],
   "source": [
    "fig, ax = plt.subplots(figsize=(8,6))\n",
    "ax.plot(x, y, 'bo')\n",
    "ax.plot(x, y_hat, '-r')\n",
    "ax.set_xlabel('$X_1$', fontsize=16)\n",
    "ax.set_ylabel('$Y$', fontsize=16)\n",
    "ax.text(6, -5, '$Y=-1.5 X$', fontsize=16, color='r')\n",
    "plt.show()"
   ]
  },
  {
   "cell_type": "markdown",
   "metadata": {
    "slideshow": {
     "slide_type": "subslide"
    }
   },
   "source": [
    "This model doesn't look like it's doing a great job of fitting the data. It seems like it's not quite steep enough. Rather than merely guessing coefficients, though, let's find a more systematic approach to estimating coefficients.\n",
    "\n",
    "We want to choose parameters that are in some sense \"good\". One way to do this is choose parameters that make the *prediction error*,\n",
    "\n",
    "$$\\hat{\\varepsilon}_i = y_i - \\hat{y}_i,$$\n",
    "\n",
    "as small as possible."
   ]
  },
  {
   "cell_type": "code",
   "execution_count": 6,
   "metadata": {
    "tags": [
     "output_scroll"
    ]
   },
   "outputs": [],
   "source": [
    "ε_hat = y - y_hat"
   ]
  },
  {
   "cell_type": "markdown",
   "metadata": {
    "slideshow": {
     "slide_type": "subslide"
    }
   },
   "source": [
    "Using our current (not very good) guess of the value of $\\beta$, these are:"
   ]
  },
  {
   "cell_type": "code",
   "execution_count": 7,
   "metadata": {
    "tags": [
     "output_scroll",
     "remove-input"
    ]
   },
   "outputs": [
    {
     "data": {
      "text/html": [
       "<style type=\"text/css\">\n",
       "</style>\n",
       "<table id=\"T_97fb1_\">\n",
       "  <thead>\n",
       "    <tr>\n",
       "      <th class=\"blank level0\" >&nbsp;</th>\n",
       "      <th class=\"col_heading level0 col0\" >x</th>\n",
       "      <th class=\"col_heading level0 col1\" >y</th>\n",
       "      <th class=\"col_heading level0 col2\" >y_hat</th>\n",
       "      <th class=\"col_heading level0 col3\" >ε_hat</th>\n",
       "    </tr>\n",
       "  </thead>\n",
       "  <tbody>\n",
       "    <tr>\n",
       "      <th id=\"T_97fb1_level0_row0\" class=\"row_heading level0 row0\" >1</th>\n",
       "      <td id=\"T_97fb1_row0_col0\" class=\"data row0 col0\" >3.79</td>\n",
       "      <td id=\"T_97fb1_row0_col1\" class=\"data row0 col1\" >-15.84</td>\n",
       "      <td id=\"T_97fb1_row0_col2\" class=\"data row0 col2\" >-5.68</td>\n",
       "      <td id=\"T_97fb1_row0_col3\" class=\"data row0 col3\" >-10.16</td>\n",
       "    </tr>\n",
       "    <tr>\n",
       "      <th id=\"T_97fb1_level0_row1\" class=\"row_heading level0 row1\" >2</th>\n",
       "      <td id=\"T_97fb1_row1_col0\" class=\"data row1 col0\" >8.15</td>\n",
       "      <td id=\"T_97fb1_row1_col1\" class=\"data row1 col1\" >-18.84</td>\n",
       "      <td id=\"T_97fb1_row1_col2\" class=\"data row1 col2\" >-12.22</td>\n",
       "      <td id=\"T_97fb1_row1_col3\" class=\"data row1 col3\" >-6.63</td>\n",
       "    </tr>\n",
       "    <tr>\n",
       "      <th id=\"T_97fb1_level0_row2\" class=\"row_heading level0 row2\" >3</th>\n",
       "      <td id=\"T_97fb1_row2_col0\" class=\"data row2 col0\" >6.26</td>\n",
       "      <td id=\"T_97fb1_row2_col1\" class=\"data row2 col1\" >-24.85</td>\n",
       "      <td id=\"T_97fb1_row2_col2\" class=\"data row2 col2\" >-9.39</td>\n",
       "      <td id=\"T_97fb1_row2_col3\" class=\"data row2 col3\" >-15.46</td>\n",
       "    </tr>\n",
       "    <tr>\n",
       "      <th id=\"T_97fb1_level0_row3\" class=\"row_heading level0 row3\" >4</th>\n",
       "      <td id=\"T_97fb1_row3_col0\" class=\"data row3 col0\" >9.07</td>\n",
       "      <td id=\"T_97fb1_row3_col1\" class=\"data row3 col1\" >-31.66</td>\n",
       "      <td id=\"T_97fb1_row3_col2\" class=\"data row3 col2\" >-13.60</td>\n",
       "      <td id=\"T_97fb1_row3_col3\" class=\"data row3 col3\" >-18.06</td>\n",
       "    </tr>\n",
       "    <tr>\n",
       "      <th id=\"T_97fb1_level0_row4\" class=\"row_heading level0 row4\" >5</th>\n",
       "      <td id=\"T_97fb1_row4_col0\" class=\"data row4 col0\" >1.51</td>\n",
       "      <td id=\"T_97fb1_row4_col1\" class=\"data row4 col1\" >-2.12</td>\n",
       "      <td id=\"T_97fb1_row4_col2\" class=\"data row4 col2\" >-2.27</td>\n",
       "      <td id=\"T_97fb1_row4_col3\" class=\"data row4 col3\" >0.15</td>\n",
       "    </tr>\n",
       "    <tr>\n",
       "      <th id=\"T_97fb1_level0_row5\" class=\"row_heading level0 row5\" >6</th>\n",
       "      <td id=\"T_97fb1_row5_col0\" class=\"data row5 col0\" >3.36</td>\n",
       "      <td id=\"T_97fb1_row5_col1\" class=\"data row5 col1\" >-12.51</td>\n",
       "      <td id=\"T_97fb1_row5_col2\" class=\"data row5 col2\" >-5.04</td>\n",
       "      <td id=\"T_97fb1_row5_col3\" class=\"data row5 col3\" >-7.47</td>\n",
       "    </tr>\n",
       "    <tr>\n",
       "      <th id=\"T_97fb1_level0_row6\" class=\"row_heading level0 row6\" >7</th>\n",
       "      <td id=\"T_97fb1_row6_col0\" class=\"data row6 col0\" >4.77</td>\n",
       "      <td id=\"T_97fb1_row6_col1\" class=\"data row6 col1\" >-13.10</td>\n",
       "      <td id=\"T_97fb1_row6_col2\" class=\"data row6 col2\" >-7.16</td>\n",
       "      <td id=\"T_97fb1_row6_col3\" class=\"data row6 col3\" >-5.94</td>\n",
       "    </tr>\n",
       "    <tr>\n",
       "      <th id=\"T_97fb1_level0_row7\" class=\"row_heading level0 row7\" >8</th>\n",
       "      <td id=\"T_97fb1_row7_col0\" class=\"data row7 col0\" >5.03</td>\n",
       "      <td id=\"T_97fb1_row7_col1\" class=\"data row7 col1\" >-13.29</td>\n",
       "      <td id=\"T_97fb1_row7_col2\" class=\"data row7 col2\" >-7.54</td>\n",
       "      <td id=\"T_97fb1_row7_col3\" class=\"data row7 col3\" >-5.74</td>\n",
       "    </tr>\n",
       "    <tr>\n",
       "      <th id=\"T_97fb1_level0_row8\" class=\"row_heading level0 row8\" >9</th>\n",
       "      <td id=\"T_97fb1_row8_col0\" class=\"data row8 col0\" >3.20</td>\n",
       "      <td id=\"T_97fb1_row8_col1\" class=\"data row8 col1\" >-16.98</td>\n",
       "      <td id=\"T_97fb1_row8_col2\" class=\"data row8 col2\" >-4.81</td>\n",
       "      <td id=\"T_97fb1_row8_col3\" class=\"data row8 col3\" >-12.17</td>\n",
       "    </tr>\n",
       "    <tr>\n",
       "      <th id=\"T_97fb1_level0_row9\" class=\"row_heading level0 row9\" >10</th>\n",
       "      <td id=\"T_97fb1_row9_col0\" class=\"data row9 col0\" >6.99</td>\n",
       "      <td id=\"T_97fb1_row9_col1\" class=\"data row9 col1\" >-15.46</td>\n",
       "      <td id=\"T_97fb1_row9_col2\" class=\"data row9 col2\" >-10.48</td>\n",
       "      <td id=\"T_97fb1_row9_col3\" class=\"data row9 col3\" >-4.97</td>\n",
       "    </tr>\n",
       "    <tr>\n",
       "      <th id=\"T_97fb1_level0_row10\" class=\"row_heading level0 row10\" >11</th>\n",
       "      <td id=\"T_97fb1_row10_col0\" class=\"data row10 col0\" >0.94</td>\n",
       "      <td id=\"T_97fb1_row10_col1\" class=\"data row10 col1\" >-4.14</td>\n",
       "      <td id=\"T_97fb1_row10_col2\" class=\"data row10 col2\" >-1.40</td>\n",
       "      <td id=\"T_97fb1_row10_col3\" class=\"data row10 col3\" >-2.74</td>\n",
       "    </tr>\n",
       "    <tr>\n",
       "      <th id=\"T_97fb1_level0_row11\" class=\"row_heading level0 row11\" >12</th>\n",
       "      <td id=\"T_97fb1_row11_col0\" class=\"data row11 col0\" >9.60</td>\n",
       "      <td id=\"T_97fb1_row11_col1\" class=\"data row11 col1\" >-28.01</td>\n",
       "      <td id=\"T_97fb1_row11_col2\" class=\"data row11 col2\" >-14.40</td>\n",
       "      <td id=\"T_97fb1_row11_col3\" class=\"data row11 col3\" >-13.61</td>\n",
       "    </tr>\n",
       "    <tr>\n",
       "      <th id=\"T_97fb1_level0_row12\" class=\"row_heading level0 row12\" >13</th>\n",
       "      <td id=\"T_97fb1_row12_col0\" class=\"data row12 col0\" >2.82</td>\n",
       "      <td id=\"T_97fb1_row12_col1\" class=\"data row12 col1\" >-6.26</td>\n",
       "      <td id=\"T_97fb1_row12_col2\" class=\"data row12 col2\" >-4.23</td>\n",
       "      <td id=\"T_97fb1_row12_col3\" class=\"data row12 col3\" >-2.02</td>\n",
       "    </tr>\n",
       "    <tr>\n",
       "      <th id=\"T_97fb1_level0_row13\" class=\"row_heading level0 row13\" >14</th>\n",
       "      <td id=\"T_97fb1_row13_col0\" class=\"data row13 col0\" >6.24</td>\n",
       "      <td id=\"T_97fb1_row13_col1\" class=\"data row13 col1\" >-11.21</td>\n",
       "      <td id=\"T_97fb1_row13_col2\" class=\"data row13 col2\" >-9.35</td>\n",
       "      <td id=\"T_97fb1_row13_col3\" class=\"data row13 col3\" >-1.85</td>\n",
       "    </tr>\n",
       "    <tr>\n",
       "      <th id=\"T_97fb1_level0_row14\" class=\"row_heading level0 row14\" >15</th>\n",
       "      <td id=\"T_97fb1_row14_col0\" class=\"data row14 col0\" >9.23</td>\n",
       "      <td id=\"T_97fb1_row14_col1\" class=\"data row14 col1\" >-30.89</td>\n",
       "      <td id=\"T_97fb1_row14_col2\" class=\"data row14 col2\" >-13.84</td>\n",
       "      <td id=\"T_97fb1_row14_col3\" class=\"data row14 col3\" >-17.04</td>\n",
       "    </tr>\n",
       "    <tr>\n",
       "      <th id=\"T_97fb1_level0_row15\" class=\"row_heading level0 row15\" >16</th>\n",
       "      <td id=\"T_97fb1_row15_col0\" class=\"data row15 col0\" >9.36</td>\n",
       "      <td id=\"T_97fb1_row15_col1\" class=\"data row15 col1\" >-17.78</td>\n",
       "      <td id=\"T_97fb1_row15_col2\" class=\"data row15 col2\" >-14.04</td>\n",
       "      <td id=\"T_97fb1_row15_col3\" class=\"data row15 col3\" >-3.74</td>\n",
       "    </tr>\n",
       "    <tr>\n",
       "      <th id=\"T_97fb1_level0_row16\" class=\"row_heading level0 row16\" >17</th>\n",
       "      <td id=\"T_97fb1_row16_col0\" class=\"data row16 col0\" >0.20</td>\n",
       "      <td id=\"T_97fb1_row16_col1\" class=\"data row16 col1\" >5.30</td>\n",
       "      <td id=\"T_97fb1_row16_col2\" class=\"data row16 col2\" >-0.29</td>\n",
       "      <td id=\"T_97fb1_row16_col3\" class=\"data row16 col3\" >5.59</td>\n",
       "    </tr>\n",
       "    <tr>\n",
       "      <th id=\"T_97fb1_level0_row17\" class=\"row_heading level0 row17\" >18</th>\n",
       "      <td id=\"T_97fb1_row17_col0\" class=\"data row17 col0\" >2.45</td>\n",
       "      <td id=\"T_97fb1_row17_col1\" class=\"data row17 col1\" >-2.31</td>\n",
       "      <td id=\"T_97fb1_row17_col2\" class=\"data row17 col2\" >-3.68</td>\n",
       "      <td id=\"T_97fb1_row17_col3\" class=\"data row17 col3\" >1.38</td>\n",
       "    </tr>\n",
       "    <tr>\n",
       "      <th id=\"T_97fb1_level0_row18\" class=\"row_heading level0 row18\" >19</th>\n",
       "      <td id=\"T_97fb1_row18_col0\" class=\"data row18 col0\" >4.85</td>\n",
       "      <td id=\"T_97fb1_row18_col1\" class=\"data row18 col1\" >-4.01</td>\n",
       "      <td id=\"T_97fb1_row18_col2\" class=\"data row18 col2\" >-7.28</td>\n",
       "      <td id=\"T_97fb1_row18_col3\" class=\"data row18 col3\" >3.27</td>\n",
       "    </tr>\n",
       "    <tr>\n",
       "      <th id=\"T_97fb1_level0_row19\" class=\"row_heading level0 row19\" >20</th>\n",
       "      <td id=\"T_97fb1_row19_col0\" class=\"data row19 col0\" >9.11</td>\n",
       "      <td id=\"T_97fb1_row19_col1\" class=\"data row19 col1\" >-22.64</td>\n",
       "      <td id=\"T_97fb1_row19_col2\" class=\"data row19 col2\" >-13.67</td>\n",
       "      <td id=\"T_97fb1_row19_col3\" class=\"data row19 col3\" >-8.97</td>\n",
       "    </tr>\n",
       "    <tr>\n",
       "      <th id=\"T_97fb1_level0_row20\" class=\"row_heading level0 row20\" >21</th>\n",
       "      <td id=\"T_97fb1_row20_col0\" class=\"data row20 col0\" >3.09</td>\n",
       "      <td id=\"T_97fb1_row20_col1\" class=\"data row20 col1\" >3.58</td>\n",
       "      <td id=\"T_97fb1_row20_col2\" class=\"data row20 col2\" >-4.64</td>\n",
       "      <td id=\"T_97fb1_row20_col3\" class=\"data row20 col3\" >8.21</td>\n",
       "    </tr>\n",
       "    <tr>\n",
       "      <th id=\"T_97fb1_level0_row21\" class=\"row_heading level0 row21\" >22</th>\n",
       "      <td id=\"T_97fb1_row21_col0\" class=\"data row21 col0\" >5.71</td>\n",
       "      <td id=\"T_97fb1_row21_col1\" class=\"data row21 col1\" >-13.71</td>\n",
       "      <td id=\"T_97fb1_row21_col2\" class=\"data row21 col2\" >-8.56</td>\n",
       "      <td id=\"T_97fb1_row21_col3\" class=\"data row21 col3\" >-5.16</td>\n",
       "    </tr>\n",
       "    <tr>\n",
       "      <th id=\"T_97fb1_level0_row22\" class=\"row_heading level0 row22\" >23</th>\n",
       "      <td id=\"T_97fb1_row22_col0\" class=\"data row22 col0\" >8.00</td>\n",
       "      <td id=\"T_97fb1_row22_col1\" class=\"data row22 col1\" >-27.08</td>\n",
       "      <td id=\"T_97fb1_row22_col2\" class=\"data row22 col2\" >-12.00</td>\n",
       "      <td id=\"T_97fb1_row22_col3\" class=\"data row22 col3\" >-15.08</td>\n",
       "    </tr>\n",
       "    <tr>\n",
       "      <th id=\"T_97fb1_level0_row23\" class=\"row_heading level0 row23\" >24</th>\n",
       "      <td id=\"T_97fb1_row23_col0\" class=\"data row23 col0\" >7.00</td>\n",
       "      <td id=\"T_97fb1_row23_col1\" class=\"data row23 col1\" >-23.16</td>\n",
       "      <td id=\"T_97fb1_row23_col2\" class=\"data row23 col2\" >-10.50</td>\n",
       "      <td id=\"T_97fb1_row23_col3\" class=\"data row23 col3\" >-12.66</td>\n",
       "    </tr>\n",
       "    <tr>\n",
       "      <th id=\"T_97fb1_level0_row24\" class=\"row_heading level0 row24\" >25</th>\n",
       "      <td id=\"T_97fb1_row24_col0\" class=\"data row24 col0\" >5.11</td>\n",
       "      <td id=\"T_97fb1_row24_col1\" class=\"data row24 col1\" >-14.85</td>\n",
       "      <td id=\"T_97fb1_row24_col2\" class=\"data row24 col2\" >-7.66</td>\n",
       "      <td id=\"T_97fb1_row24_col3\" class=\"data row24 col3\" >-7.19</td>\n",
       "    </tr>\n",
       "    <tr>\n",
       "      <th id=\"T_97fb1_level0_row25\" class=\"row_heading level0 row25\" >26</th>\n",
       "      <td id=\"T_97fb1_row25_col0\" class=\"data row25 col0\" >3.34</td>\n",
       "      <td id=\"T_97fb1_row25_col1\" class=\"data row25 col1\" >-10.32</td>\n",
       "      <td id=\"T_97fb1_row25_col2\" class=\"data row25 col2\" >-5.01</td>\n",
       "      <td id=\"T_97fb1_row25_col3\" class=\"data row25 col3\" >-5.31</td>\n",
       "    </tr>\n",
       "    <tr>\n",
       "      <th id=\"T_97fb1_level0_row26\" class=\"row_heading level0 row26\" >27</th>\n",
       "      <td id=\"T_97fb1_row26_col0\" class=\"data row26 col0\" >2.32</td>\n",
       "      <td id=\"T_97fb1_row26_col1\" class=\"data row26 col1\" >-5.15</td>\n",
       "      <td id=\"T_97fb1_row26_col2\" class=\"data row26 col2\" >-3.49</td>\n",
       "      <td id=\"T_97fb1_row26_col3\" class=\"data row26 col3\" >-1.67</td>\n",
       "    </tr>\n",
       "    <tr>\n",
       "      <th id=\"T_97fb1_level0_row27\" class=\"row_heading level0 row27\" >28</th>\n",
       "      <td id=\"T_97fb1_row27_col0\" class=\"data row27 col0\" >7.40</td>\n",
       "      <td id=\"T_97fb1_row27_col1\" class=\"data row27 col1\" >-20.99</td>\n",
       "      <td id=\"T_97fb1_row27_col2\" class=\"data row27 col2\" >-11.10</td>\n",
       "      <td id=\"T_97fb1_row27_col3\" class=\"data row27 col3\" >-9.89</td>\n",
       "    </tr>\n",
       "    <tr>\n",
       "      <th id=\"T_97fb1_level0_row28\" class=\"row_heading level0 row28\" >29</th>\n",
       "      <td id=\"T_97fb1_row28_col0\" class=\"data row28 col0\" >9.91</td>\n",
       "      <td id=\"T_97fb1_row28_col1\" class=\"data row28 col1\" >-22.51</td>\n",
       "      <td id=\"T_97fb1_row28_col2\" class=\"data row28 col2\" >-14.86</td>\n",
       "      <td id=\"T_97fb1_row28_col3\" class=\"data row28 col3\" >-7.64</td>\n",
       "    </tr>\n",
       "    <tr>\n",
       "      <th id=\"T_97fb1_level0_row29\" class=\"row_heading level0 row29\" >30</th>\n",
       "      <td id=\"T_97fb1_row29_col0\" class=\"data row29 col0\" >7.47</td>\n",
       "      <td id=\"T_97fb1_row29_col1\" class=\"data row29 col1\" >-28.14</td>\n",
       "      <td id=\"T_97fb1_row29_col2\" class=\"data row29 col2\" >-11.20</td>\n",
       "      <td id=\"T_97fb1_row29_col3\" class=\"data row29 col3\" >-16.94</td>\n",
       "    </tr>\n",
       "    <tr>\n",
       "      <th id=\"T_97fb1_level0_row30\" class=\"row_heading level0 row30\" >31</th>\n",
       "      <td id=\"T_97fb1_row30_col0\" class=\"data row30 col0\" >9.86</td>\n",
       "      <td id=\"T_97fb1_row30_col1\" class=\"data row30 col1\" >-27.10</td>\n",
       "      <td id=\"T_97fb1_row30_col2\" class=\"data row30 col2\" >-14.79</td>\n",
       "      <td id=\"T_97fb1_row30_col3\" class=\"data row30 col3\" >-12.31</td>\n",
       "    </tr>\n",
       "    <tr>\n",
       "      <th id=\"T_97fb1_level0_row31\" class=\"row_heading level0 row31\" >32</th>\n",
       "      <td id=\"T_97fb1_row31_col0\" class=\"data row31 col0\" >5.07</td>\n",
       "      <td id=\"T_97fb1_row31_col1\" class=\"data row31 col1\" >-15.13</td>\n",
       "      <td id=\"T_97fb1_row31_col2\" class=\"data row31 col2\" >-7.61</td>\n",
       "      <td id=\"T_97fb1_row31_col3\" class=\"data row31 col3\" >-7.52</td>\n",
       "    </tr>\n",
       "    <tr>\n",
       "      <th id=\"T_97fb1_level0_row32\" class=\"row_heading level0 row32\" >33</th>\n",
       "      <td id=\"T_97fb1_row32_col0\" class=\"data row32 col0\" >9.37</td>\n",
       "      <td id=\"T_97fb1_row32_col1\" class=\"data row32 col1\" >-27.03</td>\n",
       "      <td id=\"T_97fb1_row32_col2\" class=\"data row32 col2\" >-14.06</td>\n",
       "      <td id=\"T_97fb1_row32_col3\" class=\"data row32 col3\" >-12.97</td>\n",
       "    </tr>\n",
       "    <tr>\n",
       "      <th id=\"T_97fb1_level0_row33\" class=\"row_heading level0 row33\" >34</th>\n",
       "      <td id=\"T_97fb1_row33_col0\" class=\"data row33 col0\" >7.05</td>\n",
       "      <td id=\"T_97fb1_row33_col1\" class=\"data row33 col1\" >-16.60</td>\n",
       "      <td id=\"T_97fb1_row33_col2\" class=\"data row33 col2\" >-10.57</td>\n",
       "      <td id=\"T_97fb1_row33_col3\" class=\"data row33 col3\" >-6.02</td>\n",
       "    </tr>\n",
       "    <tr>\n",
       "      <th id=\"T_97fb1_level0_row34\" class=\"row_heading level0 row34\" >35</th>\n",
       "      <td id=\"T_97fb1_row34_col0\" class=\"data row34 col0\" >0.12</td>\n",
       "      <td id=\"T_97fb1_row34_col1\" class=\"data row34 col1\" >1.72</td>\n",
       "      <td id=\"T_97fb1_row34_col2\" class=\"data row34 col2\" >-0.19</td>\n",
       "      <td id=\"T_97fb1_row34_col3\" class=\"data row34 col3\" >1.90</td>\n",
       "    </tr>\n",
       "    <tr>\n",
       "      <th id=\"T_97fb1_level0_row35\" class=\"row_heading level0 row35\" >36</th>\n",
       "      <td id=\"T_97fb1_row35_col0\" class=\"data row35 col0\" >8.99</td>\n",
       "      <td id=\"T_97fb1_row35_col1\" class=\"data row35 col1\" >-38.27</td>\n",
       "      <td id=\"T_97fb1_row35_col2\" class=\"data row35 col2\" >-13.49</td>\n",
       "      <td id=\"T_97fb1_row35_col3\" class=\"data row35 col3\" >-24.78</td>\n",
       "    </tr>\n",
       "    <tr>\n",
       "      <th id=\"T_97fb1_level0_row36\" class=\"row_heading level0 row36\" >37</th>\n",
       "      <td id=\"T_97fb1_row36_col0\" class=\"data row36 col0\" >3.80</td>\n",
       "      <td id=\"T_97fb1_row36_col1\" class=\"data row36 col1\" >2.83</td>\n",
       "      <td id=\"T_97fb1_row36_col2\" class=\"data row36 col2\" >-5.70</td>\n",
       "      <td id=\"T_97fb1_row36_col3\" class=\"data row36 col3\" >8.53</td>\n",
       "    </tr>\n",
       "    <tr>\n",
       "      <th id=\"T_97fb1_level0_row37\" class=\"row_heading level0 row37\" >38</th>\n",
       "      <td id=\"T_97fb1_row37_col0\" class=\"data row37 col0\" >6.41</td>\n",
       "      <td id=\"T_97fb1_row37_col1\" class=\"data row37 col1\" >-9.72</td>\n",
       "      <td id=\"T_97fb1_row37_col2\" class=\"data row37 col2\" >-9.62</td>\n",
       "      <td id=\"T_97fb1_row37_col3\" class=\"data row37 col3\" >-0.10</td>\n",
       "    </tr>\n",
       "    <tr>\n",
       "      <th id=\"T_97fb1_level0_row38\" class=\"row_heading level0 row38\" >39</th>\n",
       "      <td id=\"T_97fb1_row38_col0\" class=\"data row38 col0\" >4.19</td>\n",
       "      <td id=\"T_97fb1_row38_col1\" class=\"data row38 col1\" >-17.80</td>\n",
       "      <td id=\"T_97fb1_row38_col2\" class=\"data row38 col2\" >-6.28</td>\n",
       "      <td id=\"T_97fb1_row38_col3\" class=\"data row38 col3\" >-11.52</td>\n",
       "    </tr>\n",
       "    <tr>\n",
       "      <th id=\"T_97fb1_level0_row39\" class=\"row_heading level0 row39\" >40</th>\n",
       "      <td id=\"T_97fb1_row39_col0\" class=\"data row39 col0\" >7.70</td>\n",
       "      <td id=\"T_97fb1_row39_col1\" class=\"data row39 col1\" >-18.90</td>\n",
       "      <td id=\"T_97fb1_row39_col2\" class=\"data row39 col2\" >-11.55</td>\n",
       "      <td id=\"T_97fb1_row39_col3\" class=\"data row39 col3\" >-7.35</td>\n",
       "    </tr>\n",
       "    <tr>\n",
       "      <th id=\"T_97fb1_level0_row40\" class=\"row_heading level0 row40\" >41</th>\n",
       "      <td id=\"T_97fb1_row40_col0\" class=\"data row40 col0\" >8.79</td>\n",
       "      <td id=\"T_97fb1_row40_col1\" class=\"data row40 col1\" >-30.88</td>\n",
       "      <td id=\"T_97fb1_row40_col2\" class=\"data row40 col2\" >-13.19</td>\n",
       "      <td id=\"T_97fb1_row40_col3\" class=\"data row40 col3\" >-17.69</td>\n",
       "    </tr>\n",
       "    <tr>\n",
       "      <th id=\"T_97fb1_level0_row41\" class=\"row_heading level0 row41\" >42</th>\n",
       "      <td id=\"T_97fb1_row41_col0\" class=\"data row41 col0\" >6.38</td>\n",
       "      <td id=\"T_97fb1_row41_col1\" class=\"data row41 col1\" >-17.38</td>\n",
       "      <td id=\"T_97fb1_row41_col2\" class=\"data row41 col2\" >-9.57</td>\n",
       "      <td id=\"T_97fb1_row41_col3\" class=\"data row41 col3\" >-7.81</td>\n",
       "    </tr>\n",
       "    <tr>\n",
       "      <th id=\"T_97fb1_level0_row42\" class=\"row_heading level0 row42\" >43</th>\n",
       "      <td id=\"T_97fb1_row42_col0\" class=\"data row42 col0\" >6.69</td>\n",
       "      <td id=\"T_97fb1_row42_col1\" class=\"data row42 col1\" >-28.70</td>\n",
       "      <td id=\"T_97fb1_row42_col2\" class=\"data row42 col2\" >-10.03</td>\n",
       "      <td id=\"T_97fb1_row42_col3\" class=\"data row42 col3\" >-18.67</td>\n",
       "    </tr>\n",
       "    <tr>\n",
       "      <th id=\"T_97fb1_level0_row43\" class=\"row_heading level0 row43\" >44</th>\n",
       "      <td id=\"T_97fb1_row43_col0\" class=\"data row43 col0\" >2.28</td>\n",
       "      <td id=\"T_97fb1_row43_col1\" class=\"data row43 col1\" >2.92</td>\n",
       "      <td id=\"T_97fb1_row43_col2\" class=\"data row43 col2\" >-3.43</td>\n",
       "      <td id=\"T_97fb1_row43_col3\" class=\"data row43 col3\" >6.34</td>\n",
       "    </tr>\n",
       "    <tr>\n",
       "      <th id=\"T_97fb1_level0_row44\" class=\"row_heading level0 row44\" >45</th>\n",
       "      <td id=\"T_97fb1_row44_col0\" class=\"data row44 col0\" >6.10</td>\n",
       "      <td id=\"T_97fb1_row44_col1\" class=\"data row44 col1\" >-23.01</td>\n",
       "      <td id=\"T_97fb1_row44_col2\" class=\"data row44 col2\" >-9.14</td>\n",
       "      <td id=\"T_97fb1_row44_col3\" class=\"data row44 col3\" >-13.87</td>\n",
       "    </tr>\n",
       "    <tr>\n",
       "      <th id=\"T_97fb1_level0_row45\" class=\"row_heading level0 row45\" >46</th>\n",
       "      <td id=\"T_97fb1_row45_col0\" class=\"data row45 col0\" >6.04</td>\n",
       "      <td id=\"T_97fb1_row45_col1\" class=\"data row45 col1\" >-18.59</td>\n",
       "      <td id=\"T_97fb1_row45_col2\" class=\"data row45 col2\" >-9.06</td>\n",
       "      <td id=\"T_97fb1_row45_col3\" class=\"data row45 col3\" >-9.53</td>\n",
       "    </tr>\n",
       "    <tr>\n",
       "      <th id=\"T_97fb1_level0_row46\" class=\"row_heading level0 row46\" >47</th>\n",
       "      <td id=\"T_97fb1_row46_col0\" class=\"data row46 col0\" >5.05</td>\n",
       "      <td id=\"T_97fb1_row46_col1\" class=\"data row46 col1\" >-15.10</td>\n",
       "      <td id=\"T_97fb1_row46_col2\" class=\"data row46 col2\" >-7.58</td>\n",
       "      <td id=\"T_97fb1_row46_col3\" class=\"data row46 col3\" >-7.52</td>\n",
       "    </tr>\n",
       "    <tr>\n",
       "      <th id=\"T_97fb1_level0_row47\" class=\"row_heading level0 row47\" >48</th>\n",
       "      <td id=\"T_97fb1_row47_col0\" class=\"data row47 col0\" >9.07</td>\n",
       "      <td id=\"T_97fb1_row47_col1\" class=\"data row47 col1\" >-23.71</td>\n",
       "      <td id=\"T_97fb1_row47_col2\" class=\"data row47 col2\" >-13.61</td>\n",
       "      <td id=\"T_97fb1_row47_col3\" class=\"data row47 col3\" >-10.11</td>\n",
       "    </tr>\n",
       "    <tr>\n",
       "      <th id=\"T_97fb1_level0_row48\" class=\"row_heading level0 row48\" >49</th>\n",
       "      <td id=\"T_97fb1_row48_col0\" class=\"data row48 col0\" >6.41</td>\n",
       "      <td id=\"T_97fb1_row48_col1\" class=\"data row48 col1\" >-12.02</td>\n",
       "      <td id=\"T_97fb1_row48_col2\" class=\"data row48 col2\" >-9.62</td>\n",
       "      <td id=\"T_97fb1_row48_col3\" class=\"data row48 col3\" >-2.40</td>\n",
       "    </tr>\n",
       "    <tr>\n",
       "      <th id=\"T_97fb1_level0_row49\" class=\"row_heading level0 row49\" >50</th>\n",
       "      <td id=\"T_97fb1_row49_col0\" class=\"data row49 col0\" >3.86</td>\n",
       "      <td id=\"T_97fb1_row49_col1\" class=\"data row49 col1\" >-7.53</td>\n",
       "      <td id=\"T_97fb1_row49_col2\" class=\"data row49 col2\" >-5.79</td>\n",
       "      <td id=\"T_97fb1_row49_col3\" class=\"data row49 col3\" >-1.74</td>\n",
       "    </tr>\n",
       "    <tr>\n",
       "      <th id=\"T_97fb1_level0_row50\" class=\"row_heading level0 row50\" >51</th>\n",
       "      <td id=\"T_97fb1_row50_col0\" class=\"data row50 col0\" >7.39</td>\n",
       "      <td id=\"T_97fb1_row50_col1\" class=\"data row50 col1\" >-24.31</td>\n",
       "      <td id=\"T_97fb1_row50_col2\" class=\"data row50 col2\" >-11.08</td>\n",
       "      <td id=\"T_97fb1_row50_col3\" class=\"data row50 col3\" >-13.24</td>\n",
       "    </tr>\n",
       "    <tr>\n",
       "      <th id=\"T_97fb1_level0_row51\" class=\"row_heading level0 row51\" >52</th>\n",
       "      <td id=\"T_97fb1_row51_col0\" class=\"data row51 col0\" >0.92</td>\n",
       "      <td id=\"T_97fb1_row51_col1\" class=\"data row51 col1\" >10.00</td>\n",
       "      <td id=\"T_97fb1_row51_col2\" class=\"data row51 col2\" >-1.39</td>\n",
       "      <td id=\"T_97fb1_row51_col3\" class=\"data row51 col3\" >11.39</td>\n",
       "    </tr>\n",
       "    <tr>\n",
       "      <th id=\"T_97fb1_level0_row52\" class=\"row_heading level0 row52\" >53</th>\n",
       "      <td id=\"T_97fb1_row52_col0\" class=\"data row52 col0\" >2.87</td>\n",
       "      <td id=\"T_97fb1_row52_col1\" class=\"data row52 col1\" >-10.95</td>\n",
       "      <td id=\"T_97fb1_row52_col2\" class=\"data row52 col2\" >-4.31</td>\n",
       "      <td id=\"T_97fb1_row52_col3\" class=\"data row52 col3\" >-6.64</td>\n",
       "    </tr>\n",
       "    <tr>\n",
       "      <th id=\"T_97fb1_level0_row53\" class=\"row_heading level0 row53\" >54</th>\n",
       "      <td id=\"T_97fb1_row53_col0\" class=\"data row53 col0\" >5.95</td>\n",
       "      <td id=\"T_97fb1_row53_col1\" class=\"data row53 col1\" >-12.59</td>\n",
       "      <td id=\"T_97fb1_row53_col2\" class=\"data row53 col2\" >-8.92</td>\n",
       "      <td id=\"T_97fb1_row53_col3\" class=\"data row53 col3\" >-3.67</td>\n",
       "    </tr>\n",
       "    <tr>\n",
       "      <th id=\"T_97fb1_level0_row54\" class=\"row_heading level0 row54\" >55</th>\n",
       "      <td id=\"T_97fb1_row54_col0\" class=\"data row54 col0\" >1.97</td>\n",
       "      <td id=\"T_97fb1_row54_col1\" class=\"data row54 col1\" >-0.91</td>\n",
       "      <td id=\"T_97fb1_row54_col2\" class=\"data row54 col2\" >-2.95</td>\n",
       "      <td id=\"T_97fb1_row54_col3\" class=\"data row54 col3\" >2.04</td>\n",
       "    </tr>\n",
       "    <tr>\n",
       "      <th id=\"T_97fb1_level0_row55\" class=\"row_heading level0 row55\" >56</th>\n",
       "      <td id=\"T_97fb1_row55_col0\" class=\"data row55 col0\" >6.84</td>\n",
       "      <td id=\"T_97fb1_row55_col1\" class=\"data row55 col1\" >-13.28</td>\n",
       "      <td id=\"T_97fb1_row55_col2\" class=\"data row55 col2\" >-10.26</td>\n",
       "      <td id=\"T_97fb1_row55_col3\" class=\"data row55 col3\" >-3.02</td>\n",
       "    </tr>\n",
       "    <tr>\n",
       "      <th id=\"T_97fb1_level0_row56\" class=\"row_heading level0 row56\" >57</th>\n",
       "      <td id=\"T_97fb1_row56_col0\" class=\"data row56 col0\" >9.24</td>\n",
       "      <td id=\"T_97fb1_row56_col1\" class=\"data row56 col1\" >-18.24</td>\n",
       "      <td id=\"T_97fb1_row56_col2\" class=\"data row56 col2\" >-13.86</td>\n",
       "      <td id=\"T_97fb1_row56_col3\" class=\"data row56 col3\" >-4.38</td>\n",
       "    </tr>\n",
       "    <tr>\n",
       "      <th id=\"T_97fb1_level0_row57\" class=\"row_heading level0 row57\" >58</th>\n",
       "      <td id=\"T_97fb1_row57_col0\" class=\"data row57 col0\" >9.32</td>\n",
       "      <td id=\"T_97fb1_row57_col1\" class=\"data row57 col1\" >-33.99</td>\n",
       "      <td id=\"T_97fb1_row57_col2\" class=\"data row57 col2\" >-13.98</td>\n",
       "      <td id=\"T_97fb1_row57_col3\" class=\"data row57 col3\" >-20.01</td>\n",
       "    </tr>\n",
       "    <tr>\n",
       "      <th id=\"T_97fb1_level0_row58\" class=\"row_heading level0 row58\" >59</th>\n",
       "      <td id=\"T_97fb1_row58_col0\" class=\"data row58 col0\" >9.86</td>\n",
       "      <td id=\"T_97fb1_row58_col1\" class=\"data row58 col1\" >-32.05</td>\n",
       "      <td id=\"T_97fb1_row58_col2\" class=\"data row58 col2\" >-14.79</td>\n",
       "      <td id=\"T_97fb1_row58_col3\" class=\"data row58 col3\" >-17.26</td>\n",
       "    </tr>\n",
       "    <tr>\n",
       "      <th id=\"T_97fb1_level0_row59\" class=\"row_heading level0 row59\" >60</th>\n",
       "      <td id=\"T_97fb1_row59_col0\" class=\"data row59 col0\" >7.49</td>\n",
       "      <td id=\"T_97fb1_row59_col1\" class=\"data row59 col1\" >-20.04</td>\n",
       "      <td id=\"T_97fb1_row59_col2\" class=\"data row59 col2\" >-11.24</td>\n",
       "      <td id=\"T_97fb1_row59_col3\" class=\"data row59 col3\" >-8.80</td>\n",
       "    </tr>\n",
       "    <tr>\n",
       "      <th id=\"T_97fb1_level0_row60\" class=\"row_heading level0 row60\" >61</th>\n",
       "      <td id=\"T_97fb1_row60_col0\" class=\"data row60 col0\" >2.68</td>\n",
       "      <td id=\"T_97fb1_row60_col1\" class=\"data row60 col1\" >-22.02</td>\n",
       "      <td id=\"T_97fb1_row60_col2\" class=\"data row60 col2\" >-4.02</td>\n",
       "      <td id=\"T_97fb1_row60_col3\" class=\"data row60 col3\" >-17.99</td>\n",
       "    </tr>\n",
       "    <tr>\n",
       "      <th id=\"T_97fb1_level0_row61\" class=\"row_heading level0 row61\" >62</th>\n",
       "      <td id=\"T_97fb1_row61_col0\" class=\"data row61 col0\" >5.47</td>\n",
       "      <td id=\"T_97fb1_row61_col1\" class=\"data row61 col1\" >-10.22</td>\n",
       "      <td id=\"T_97fb1_row61_col2\" class=\"data row61 col2\" >-8.20</td>\n",
       "      <td id=\"T_97fb1_row61_col3\" class=\"data row61 col3\" >-2.02</td>\n",
       "    </tr>\n",
       "    <tr>\n",
       "      <th id=\"T_97fb1_level0_row62\" class=\"row_heading level0 row62\" >63</th>\n",
       "      <td id=\"T_97fb1_row62_col0\" class=\"data row62 col0\" >7.49</td>\n",
       "      <td id=\"T_97fb1_row62_col1\" class=\"data row62 col1\" >-17.65</td>\n",
       "      <td id=\"T_97fb1_row62_col2\" class=\"data row62 col2\" >-11.23</td>\n",
       "      <td id=\"T_97fb1_row62_col3\" class=\"data row62 col3\" >-6.42</td>\n",
       "    </tr>\n",
       "    <tr>\n",
       "      <th id=\"T_97fb1_level0_row63\" class=\"row_heading level0 row63\" >64</th>\n",
       "      <td id=\"T_97fb1_row63_col0\" class=\"data row63 col0\" >1.03</td>\n",
       "      <td id=\"T_97fb1_row63_col1\" class=\"data row63 col1\" >-4.33</td>\n",
       "      <td id=\"T_97fb1_row63_col2\" class=\"data row63 col2\" >-1.54</td>\n",
       "      <td id=\"T_97fb1_row63_col3\" class=\"data row63 col3\" >-2.78</td>\n",
       "    </tr>\n",
       "    <tr>\n",
       "      <th id=\"T_97fb1_level0_row64\" class=\"row_heading level0 row64\" >65</th>\n",
       "      <td id=\"T_97fb1_row64_col0\" class=\"data row64 col0\" >6.48</td>\n",
       "      <td id=\"T_97fb1_row64_col1\" class=\"data row64 col1\" >-10.02</td>\n",
       "      <td id=\"T_97fb1_row64_col2\" class=\"data row64 col2\" >-9.72</td>\n",
       "      <td id=\"T_97fb1_row64_col3\" class=\"data row64 col3\" >-0.30</td>\n",
       "    </tr>\n",
       "    <tr>\n",
       "      <th id=\"T_97fb1_level0_row65\" class=\"row_heading level0 row65\" >66</th>\n",
       "      <td id=\"T_97fb1_row65_col0\" class=\"data row65 col0\" >4.53</td>\n",
       "      <td id=\"T_97fb1_row65_col1\" class=\"data row65 col1\" >-24.96</td>\n",
       "      <td id=\"T_97fb1_row65_col2\" class=\"data row65 col2\" >-6.80</td>\n",
       "      <td id=\"T_97fb1_row65_col3\" class=\"data row65 col3\" >-18.16</td>\n",
       "    </tr>\n",
       "    <tr>\n",
       "      <th id=\"T_97fb1_level0_row66\" class=\"row_heading level0 row66\" >67</th>\n",
       "      <td id=\"T_97fb1_row66_col0\" class=\"data row66 col0\" >8.85</td>\n",
       "      <td id=\"T_97fb1_row66_col1\" class=\"data row66 col1\" >-23.31</td>\n",
       "      <td id=\"T_97fb1_row66_col2\" class=\"data row66 col2\" >-13.27</td>\n",
       "      <td id=\"T_97fb1_row66_col3\" class=\"data row66 col3\" >-10.04</td>\n",
       "    </tr>\n",
       "    <tr>\n",
       "      <th id=\"T_97fb1_level0_row67\" class=\"row_heading level0 row67\" >68</th>\n",
       "      <td id=\"T_97fb1_row67_col0\" class=\"data row67 col0\" >2.26</td>\n",
       "      <td id=\"T_97fb1_row67_col1\" class=\"data row67 col1\" >1.95</td>\n",
       "      <td id=\"T_97fb1_row67_col2\" class=\"data row67 col2\" >-3.39</td>\n",
       "      <td id=\"T_97fb1_row67_col3\" class=\"data row67 col3\" >5.34</td>\n",
       "    </tr>\n",
       "    <tr>\n",
       "      <th id=\"T_97fb1_level0_row68\" class=\"row_heading level0 row68\" >69</th>\n",
       "      <td id=\"T_97fb1_row68_col0\" class=\"data row68 col0\" >1.99</td>\n",
       "      <td id=\"T_97fb1_row68_col1\" class=\"data row68 col1\" >-14.21</td>\n",
       "      <td id=\"T_97fb1_row68_col2\" class=\"data row68 col2\" >-2.99</td>\n",
       "      <td id=\"T_97fb1_row68_col3\" class=\"data row68 col3\" >-11.23</td>\n",
       "    </tr>\n",
       "    <tr>\n",
       "      <th id=\"T_97fb1_level0_row69\" class=\"row_heading level0 row69\" >70</th>\n",
       "      <td id=\"T_97fb1_row69_col0\" class=\"data row69 col0\" >1.76</td>\n",
       "      <td id=\"T_97fb1_row69_col1\" class=\"data row69 col1\" >-4.91</td>\n",
       "      <td id=\"T_97fb1_row69_col2\" class=\"data row69 col2\" >-2.64</td>\n",
       "      <td id=\"T_97fb1_row69_col3\" class=\"data row69 col3\" >-2.27</td>\n",
       "    </tr>\n",
       "    <tr>\n",
       "      <th id=\"T_97fb1_level0_row70\" class=\"row_heading level0 row70\" >71</th>\n",
       "      <td id=\"T_97fb1_row70_col0\" class=\"data row70 col0\" >8.53</td>\n",
       "      <td id=\"T_97fb1_row70_col1\" class=\"data row70 col1\" >-17.18</td>\n",
       "      <td id=\"T_97fb1_row70_col2\" class=\"data row70 col2\" >-12.80</td>\n",
       "      <td id=\"T_97fb1_row70_col3\" class=\"data row70 col3\" >-4.38</td>\n",
       "    </tr>\n",
       "    <tr>\n",
       "      <th id=\"T_97fb1_level0_row71\" class=\"row_heading level0 row71\" >72</th>\n",
       "      <td id=\"T_97fb1_row71_col0\" class=\"data row71 col0\" >0.58</td>\n",
       "      <td id=\"T_97fb1_row71_col1\" class=\"data row71 col1\" >6.88</td>\n",
       "      <td id=\"T_97fb1_row71_col2\" class=\"data row71 col2\" >-0.87</td>\n",
       "      <td id=\"T_97fb1_row71_col3\" class=\"data row71 col3\" >7.74</td>\n",
       "    </tr>\n",
       "    <tr>\n",
       "      <th id=\"T_97fb1_level0_row72\" class=\"row_heading level0 row72\" >73</th>\n",
       "      <td id=\"T_97fb1_row72_col0\" class=\"data row72 col0\" >7.52</td>\n",
       "      <td id=\"T_97fb1_row72_col1\" class=\"data row72 col1\" >-24.68</td>\n",
       "      <td id=\"T_97fb1_row72_col2\" class=\"data row72 col2\" >-11.28</td>\n",
       "      <td id=\"T_97fb1_row72_col3\" class=\"data row72 col3\" >-13.40</td>\n",
       "    </tr>\n",
       "    <tr>\n",
       "      <th id=\"T_97fb1_level0_row73\" class=\"row_heading level0 row73\" >74</th>\n",
       "      <td id=\"T_97fb1_row73_col0\" class=\"data row73 col0\" >6.02</td>\n",
       "      <td id=\"T_97fb1_row73_col1\" class=\"data row73 col1\" >-17.73</td>\n",
       "      <td id=\"T_97fb1_row73_col2\" class=\"data row73 col2\" >-9.03</td>\n",
       "      <td id=\"T_97fb1_row73_col3\" class=\"data row73 col3\" >-8.70</td>\n",
       "    </tr>\n",
       "    <tr>\n",
       "      <th id=\"T_97fb1_level0_row74\" class=\"row_heading level0 row74\" >75</th>\n",
       "      <td id=\"T_97fb1_row74_col0\" class=\"data row74 col0\" >2.82</td>\n",
       "      <td id=\"T_97fb1_row74_col1\" class=\"data row74 col1\" >-7.72</td>\n",
       "      <td id=\"T_97fb1_row74_col2\" class=\"data row74 col2\" >-4.22</td>\n",
       "      <td id=\"T_97fb1_row74_col3\" class=\"data row74 col3\" >-3.49</td>\n",
       "    </tr>\n",
       "    <tr>\n",
       "      <th id=\"T_97fb1_level0_row75\" class=\"row_heading level0 row75\" >76</th>\n",
       "      <td id=\"T_97fb1_row75_col0\" class=\"data row75 col0\" >3.90</td>\n",
       "      <td id=\"T_97fb1_row75_col1\" class=\"data row75 col1\" >-6.64</td>\n",
       "      <td id=\"T_97fb1_row75_col2\" class=\"data row75 col2\" >-5.85</td>\n",
       "      <td id=\"T_97fb1_row75_col3\" class=\"data row75 col3\" >-0.80</td>\n",
       "    </tr>\n",
       "    <tr>\n",
       "      <th id=\"T_97fb1_level0_row76\" class=\"row_heading level0 row76\" >77</th>\n",
       "      <td id=\"T_97fb1_row76_col0\" class=\"data row76 col0\" >1.93</td>\n",
       "      <td id=\"T_97fb1_row76_col1\" class=\"data row76 col1\" >-12.43</td>\n",
       "      <td id=\"T_97fb1_row76_col2\" class=\"data row76 col2\" >-2.89</td>\n",
       "      <td id=\"T_97fb1_row76_col3\" class=\"data row76 col3\" >-9.54</td>\n",
       "    </tr>\n",
       "    <tr>\n",
       "      <th id=\"T_97fb1_level0_row77\" class=\"row_heading level0 row77\" >78</th>\n",
       "      <td id=\"T_97fb1_row77_col0\" class=\"data row77 col0\" >4.09</td>\n",
       "      <td id=\"T_97fb1_row77_col1\" class=\"data row77 col1\" >-9.63</td>\n",
       "      <td id=\"T_97fb1_row77_col2\" class=\"data row77 col2\" >-6.13</td>\n",
       "      <td id=\"T_97fb1_row77_col3\" class=\"data row77 col3\" >-3.50</td>\n",
       "    </tr>\n",
       "    <tr>\n",
       "      <th id=\"T_97fb1_level0_row78\" class=\"row_heading level0 row78\" >79</th>\n",
       "      <td id=\"T_97fb1_row78_col0\" class=\"data row78 col0\" >6.63</td>\n",
       "      <td id=\"T_97fb1_row78_col1\" class=\"data row78 col1\" >-9.21</td>\n",
       "      <td id=\"T_97fb1_row78_col2\" class=\"data row78 col2\" >-9.95</td>\n",
       "      <td id=\"T_97fb1_row78_col3\" class=\"data row78 col3\" >0.73</td>\n",
       "    </tr>\n",
       "    <tr>\n",
       "      <th id=\"T_97fb1_level0_row79\" class=\"row_heading level0 row79\" >80</th>\n",
       "      <td id=\"T_97fb1_row79_col0\" class=\"data row79 col0\" >8.93</td>\n",
       "      <td id=\"T_97fb1_row79_col1\" class=\"data row79 col1\" >-26.55</td>\n",
       "      <td id=\"T_97fb1_row79_col2\" class=\"data row79 col2\" >-13.39</td>\n",
       "      <td id=\"T_97fb1_row79_col3\" class=\"data row79 col3\" >-13.16</td>\n",
       "    </tr>\n",
       "    <tr>\n",
       "      <th id=\"T_97fb1_level0_row80\" class=\"row_heading level0 row80\" >81</th>\n",
       "      <td id=\"T_97fb1_row80_col0\" class=\"data row80 col0\" >2.76</td>\n",
       "      <td id=\"T_97fb1_row80_col1\" class=\"data row80 col1\" >-11.67</td>\n",
       "      <td id=\"T_97fb1_row80_col2\" class=\"data row80 col2\" >-4.14</td>\n",
       "      <td id=\"T_97fb1_row80_col3\" class=\"data row80 col3\" >-7.53</td>\n",
       "    </tr>\n",
       "    <tr>\n",
       "      <th id=\"T_97fb1_level0_row81\" class=\"row_heading level0 row81\" >82</th>\n",
       "      <td id=\"T_97fb1_row81_col0\" class=\"data row81 col0\" >8.20</td>\n",
       "      <td id=\"T_97fb1_row81_col1\" class=\"data row81 col1\" >-22.28</td>\n",
       "      <td id=\"T_97fb1_row81_col2\" class=\"data row81 col2\" >-12.30</td>\n",
       "      <td id=\"T_97fb1_row81_col3\" class=\"data row81 col3\" >-9.97</td>\n",
       "    </tr>\n",
       "    <tr>\n",
       "      <th id=\"T_97fb1_level0_row82\" class=\"row_heading level0 row82\" >83</th>\n",
       "      <td id=\"T_97fb1_row82_col0\" class=\"data row82 col0\" >2.99</td>\n",
       "      <td id=\"T_97fb1_row82_col1\" class=\"data row82 col1\" >-8.44</td>\n",
       "      <td id=\"T_97fb1_row82_col2\" class=\"data row82 col2\" >-4.49</td>\n",
       "      <td id=\"T_97fb1_row82_col3\" class=\"data row82 col3\" >-3.95</td>\n",
       "    </tr>\n",
       "    <tr>\n",
       "      <th id=\"T_97fb1_level0_row83\" class=\"row_heading level0 row83\" >84</th>\n",
       "      <td id=\"T_97fb1_row83_col0\" class=\"data row83 col0\" >5.24</td>\n",
       "      <td id=\"T_97fb1_row83_col1\" class=\"data row83 col1\" >-15.40</td>\n",
       "      <td id=\"T_97fb1_row83_col2\" class=\"data row83 col2\" >-7.86</td>\n",
       "      <td id=\"T_97fb1_row83_col3\" class=\"data row83 col3\" >-7.54</td>\n",
       "    </tr>\n",
       "    <tr>\n",
       "      <th id=\"T_97fb1_level0_row84\" class=\"row_heading level0 row84\" >85</th>\n",
       "      <td id=\"T_97fb1_row84_col0\" class=\"data row84 col0\" >7.69</td>\n",
       "      <td id=\"T_97fb1_row84_col1\" class=\"data row84 col1\" >-27.13</td>\n",
       "      <td id=\"T_97fb1_row84_col2\" class=\"data row84 col2\" >-11.53</td>\n",
       "      <td id=\"T_97fb1_row84_col3\" class=\"data row84 col3\" >-15.60</td>\n",
       "    </tr>\n",
       "    <tr>\n",
       "      <th id=\"T_97fb1_level0_row85\" class=\"row_heading level0 row85\" >86</th>\n",
       "      <td id=\"T_97fb1_row85_col0\" class=\"data row85 col0\" >7.18</td>\n",
       "      <td id=\"T_97fb1_row85_col1\" class=\"data row85 col1\" >-35.81</td>\n",
       "      <td id=\"T_97fb1_row85_col2\" class=\"data row85 col2\" >-10.77</td>\n",
       "      <td id=\"T_97fb1_row85_col3\" class=\"data row85 col3\" >-25.04</td>\n",
       "    </tr>\n",
       "    <tr>\n",
       "      <th id=\"T_97fb1_level0_row86\" class=\"row_heading level0 row86\" >87</th>\n",
       "      <td id=\"T_97fb1_row86_col0\" class=\"data row86 col0\" >1.22</td>\n",
       "      <td id=\"T_97fb1_row86_col1\" class=\"data row86 col1\" >-4.46</td>\n",
       "      <td id=\"T_97fb1_row86_col2\" class=\"data row86 col2\" >-1.83</td>\n",
       "      <td id=\"T_97fb1_row86_col3\" class=\"data row86 col3\" >-2.63</td>\n",
       "    </tr>\n",
       "    <tr>\n",
       "      <th id=\"T_97fb1_level0_row87\" class=\"row_heading level0 row87\" >88</th>\n",
       "      <td id=\"T_97fb1_row87_col0\" class=\"data row87 col0\" >6.02</td>\n",
       "      <td id=\"T_97fb1_row87_col1\" class=\"data row87 col1\" >-11.50</td>\n",
       "      <td id=\"T_97fb1_row87_col2\" class=\"data row87 col2\" >-9.04</td>\n",
       "      <td id=\"T_97fb1_row87_col3\" class=\"data row87 col3\" >-2.46</td>\n",
       "    </tr>\n",
       "    <tr>\n",
       "      <th id=\"T_97fb1_level0_row88\" class=\"row_heading level0 row88\" >89</th>\n",
       "      <td id=\"T_97fb1_row88_col0\" class=\"data row88 col0\" >9.13</td>\n",
       "      <td id=\"T_97fb1_row88_col1\" class=\"data row88 col1\" >-33.42</td>\n",
       "      <td id=\"T_97fb1_row88_col2\" class=\"data row88 col2\" >-13.69</td>\n",
       "      <td id=\"T_97fb1_row88_col3\" class=\"data row88 col3\" >-19.73</td>\n",
       "    </tr>\n",
       "    <tr>\n",
       "      <th id=\"T_97fb1_level0_row89\" class=\"row_heading level0 row89\" >90</th>\n",
       "      <td id=\"T_97fb1_row89_col0\" class=\"data row89 col0\" >3.02</td>\n",
       "      <td id=\"T_97fb1_row89_col1\" class=\"data row89 col1\" >-7.12</td>\n",
       "      <td id=\"T_97fb1_row89_col2\" class=\"data row89 col2\" >-4.52</td>\n",
       "      <td id=\"T_97fb1_row89_col3\" class=\"data row89 col3\" >-2.59</td>\n",
       "    </tr>\n",
       "    <tr>\n",
       "      <th id=\"T_97fb1_level0_row90\" class=\"row_heading level0 row90\" >91</th>\n",
       "      <td id=\"T_97fb1_row90_col0\" class=\"data row90 col0\" >6.31</td>\n",
       "      <td id=\"T_97fb1_row90_col1\" class=\"data row90 col1\" >-33.16</td>\n",
       "      <td id=\"T_97fb1_row90_col2\" class=\"data row90 col2\" >-9.47</td>\n",
       "      <td id=\"T_97fb1_row90_col3\" class=\"data row90 col3\" >-23.70</td>\n",
       "    </tr>\n",
       "    <tr>\n",
       "      <th id=\"T_97fb1_level0_row91\" class=\"row_heading level0 row91\" >92</th>\n",
       "      <td id=\"T_97fb1_row91_col0\" class=\"data row91 col0\" >6.66</td>\n",
       "      <td id=\"T_97fb1_row91_col1\" class=\"data row91 col1\" >-23.40</td>\n",
       "      <td id=\"T_97fb1_row91_col2\" class=\"data row91 col2\" >-9.99</td>\n",
       "      <td id=\"T_97fb1_row91_col3\" class=\"data row91 col3\" >-13.41</td>\n",
       "    </tr>\n",
       "    <tr>\n",
       "      <th id=\"T_97fb1_level0_row92\" class=\"row_heading level0 row92\" >93</th>\n",
       "      <td id=\"T_97fb1_row92_col0\" class=\"data row92 col0\" >9.91</td>\n",
       "      <td id=\"T_97fb1_row92_col1\" class=\"data row92 col1\" >-37.69</td>\n",
       "      <td id=\"T_97fb1_row92_col2\" class=\"data row92 col2\" >-14.86</td>\n",
       "      <td id=\"T_97fb1_row92_col3\" class=\"data row92 col3\" >-22.83</td>\n",
       "    </tr>\n",
       "    <tr>\n",
       "      <th id=\"T_97fb1_level0_row93\" class=\"row_heading level0 row93\" >94</th>\n",
       "      <td id=\"T_97fb1_row93_col0\" class=\"data row93 col0\" >4.98</td>\n",
       "      <td id=\"T_97fb1_row93_col1\" class=\"data row93 col1\" >-15.90</td>\n",
       "      <td id=\"T_97fb1_row93_col2\" class=\"data row93 col2\" >-7.46</td>\n",
       "      <td id=\"T_97fb1_row93_col3\" class=\"data row93 col3\" >-8.44</td>\n",
       "    </tr>\n",
       "    <tr>\n",
       "      <th id=\"T_97fb1_level0_row94\" class=\"row_heading level0 row94\" >95</th>\n",
       "      <td id=\"T_97fb1_row94_col0\" class=\"data row94 col0\" >7.97</td>\n",
       "      <td id=\"T_97fb1_row94_col1\" class=\"data row94 col1\" >-21.75</td>\n",
       "      <td id=\"T_97fb1_row94_col2\" class=\"data row94 col2\" >-11.95</td>\n",
       "      <td id=\"T_97fb1_row94_col3\" class=\"data row94 col3\" >-9.79</td>\n",
       "    </tr>\n",
       "    <tr>\n",
       "      <th id=\"T_97fb1_level0_row95\" class=\"row_heading level0 row95\" >96</th>\n",
       "      <td id=\"T_97fb1_row95_col0\" class=\"data row95 col0\" >4.83</td>\n",
       "      <td id=\"T_97fb1_row95_col1\" class=\"data row95 col1\" >-10.69</td>\n",
       "      <td id=\"T_97fb1_row95_col2\" class=\"data row95 col2\" >-7.24</td>\n",
       "      <td id=\"T_97fb1_row95_col3\" class=\"data row95 col3\" >-3.45</td>\n",
       "    </tr>\n",
       "    <tr>\n",
       "      <th id=\"T_97fb1_level0_row96\" class=\"row_heading level0 row96\" >97</th>\n",
       "      <td id=\"T_97fb1_row96_col0\" class=\"data row96 col0\" >1.61</td>\n",
       "      <td id=\"T_97fb1_row96_col1\" class=\"data row96 col1\" >-1.26</td>\n",
       "      <td id=\"T_97fb1_row96_col2\" class=\"data row96 col2\" >-2.42</td>\n",
       "      <td id=\"T_97fb1_row96_col3\" class=\"data row96 col3\" >1.16</td>\n",
       "    </tr>\n",
       "    <tr>\n",
       "      <th id=\"T_97fb1_level0_row97\" class=\"row_heading level0 row97\" >98</th>\n",
       "      <td id=\"T_97fb1_row97_col0\" class=\"data row97 col0\" >4.56</td>\n",
       "      <td id=\"T_97fb1_row97_col1\" class=\"data row97 col1\" >-16.79</td>\n",
       "      <td id=\"T_97fb1_row97_col2\" class=\"data row97 col2\" >-6.84</td>\n",
       "      <td id=\"T_97fb1_row97_col3\" class=\"data row97 col3\" >-9.94</td>\n",
       "    </tr>\n",
       "    <tr>\n",
       "      <th id=\"T_97fb1_level0_row98\" class=\"row_heading level0 row98\" >99</th>\n",
       "      <td id=\"T_97fb1_row98_col0\" class=\"data row98 col0\" >3.62</td>\n",
       "      <td id=\"T_97fb1_row98_col1\" class=\"data row98 col1\" >2.60</td>\n",
       "      <td id=\"T_97fb1_row98_col2\" class=\"data row98 col2\" >-5.43</td>\n",
       "      <td id=\"T_97fb1_row98_col3\" class=\"data row98 col3\" >8.03</td>\n",
       "    </tr>\n",
       "    <tr>\n",
       "      <th id=\"T_97fb1_level0_row99\" class=\"row_heading level0 row99\" >100</th>\n",
       "      <td id=\"T_97fb1_row99_col0\" class=\"data row99 col0\" >2.43</td>\n",
       "      <td id=\"T_97fb1_row99_col1\" class=\"data row99 col1\" >-10.81</td>\n",
       "      <td id=\"T_97fb1_row99_col2\" class=\"data row99 col2\" >-3.65</td>\n",
       "      <td id=\"T_97fb1_row99_col3\" class=\"data row99 col3\" >-7.15</td>\n",
       "    </tr>\n",
       "  </tbody>\n",
       "</table>\n"
      ],
      "text/plain": [
       "<pandas.io.formats.style.Styler at 0x7faf3addb5b0>"
      ]
     },
     "execution_count": 7,
     "metadata": {},
     "output_type": "execute_result"
    }
   ],
   "source": [
    "import pandas as pd\n",
    "pd.options.display.max_rows = 100\n",
    "\n",
    "df = pd.DataFrame(np.c_[x, y, y_hat, ε_hat])\n",
    "df.columns = ['x', 'y', 'y_hat', 'ε_hat']\n",
    "df.index = np.arange(1,101)\n",
    "df.style.format('{:.2f}')"
   ]
  },
  {
   "cell_type": "markdown",
   "metadata": {},
   "source": [
    "Looking at the histogram for all 100 error terms, we see that the average error is about –3, and some errors are quite large in absolute terms. If we're more strategic about choosing a better estimate of $\\hat\\beta$ we should be able to make these errors smaller."
   ]
  },
  {
   "cell_type": "code",
   "execution_count": 8,
   "metadata": {
    "tags": [
     "hide-input"
    ]
   },
   "outputs": [
    {
     "data": {
      "image/png": "[encoded data removed]",
      "text/plain": [
       "<Figure size 576x432 with 1 Axes>"
      ]
     },
     "metadata": {
      "needs_background": "light"
     },
     "output_type": "display_data"
    }
   ],
   "source": [
    "fig, ax = plt.subplots(figsize=(8,6))\n",
    "ax.hist(ε_hat)\n",
    "plt.show()"
   ]
  },
  {
   "cell_type": "markdown",
   "metadata": {},
   "source": [
    "To minimize the errors, it is helpful to summarize the errors is with the Mean Squared Error,\n",
    "\n",
    "$$MSE := \\frac{1}{N} \\sum_i \\varepsilon_i^2 = \\frac{1}{N} \\sum_i (y_i-\\hat{y}_i)^2.$$"
   ]
  },
  {
   "cell_type": "code",
   "execution_count": 9,
   "metadata": {},
   "outputs": [
    {
     "data": {
      "text/plain": [
       "110.76764360488218"
      ]
     },
     "execution_count": 9,
     "metadata": {},
     "output_type": "execute_result"
    }
   ],
   "source": [
    "(ε_hat**2).mean()"
   ]
  },
  {
   "cell_type": "markdown",
   "metadata": {
    "slideshow": {
     "slide_type": "subslide"
    }
   },
   "source": [
    "In vector notation, this is just\n",
    "\n",
    "$$\\frac{\\hat\\varepsilon'\\hat\\varepsilon}{N} = \\frac{1}{N}(Y-X\\hat\\beta)'(Y-X\\hat\\beta).$$"
   ]
  },
  {
   "cell_type": "code",
   "execution_count": 10,
   "metadata": {},
   "outputs": [
    {
     "data": {
      "text/plain": [
       "array([[110.7676436]])"
      ]
     },
     "execution_count": 10,
     "metadata": {},
     "output_type": "execute_result"
    }
   ],
   "source": [
    "ε_hat.T @ ε_hat / N"
   ]
  },
  {
   "cell_type": "markdown",
   "metadata": {},
   "source": [
    "The MSE is a function of the $\\hat\\beta$ estimates: as we change our guess for the true values of $\\beta$, we generate a new set of error terms, and therefore a new mean squared error."
   ]
  },
  {
   "cell_type": "code",
   "execution_count": 11,
   "metadata": {},
   "outputs": [],
   "source": [
    "def MSE(β_hat):\n",
    "    β_hat = np.array(β_hat).reshape(2,1)\n",
    "    ε = y - X @ β_hat\n",
    "    return (ε.T @ ε).item() / N"
   ]
  },
  {
   "cell_type": "markdown",
   "metadata": {},
   "source": [
    "Given this function, we can try some different values for $\\hat \\beta$."
   ]
  },
  {
   "cell_type": "code",
   "execution_count": 12,
   "metadata": {},
   "outputs": [
    {
     "data": {
      "text/plain": [
       "110.76764360488215"
      ]
     },
     "execution_count": 12,
     "metadata": {},
     "output_type": "execute_result"
    }
   ],
   "source": [
    "MSE(β_hat)"
   ]
  },
  {
   "cell_type": "code",
   "execution_count": 13,
   "metadata": {},
   "outputs": [
    {
     "data": {
      "text/plain": [
       "126.15092703695535"
      ]
     },
     "execution_count": 13,
     "metadata": {},
     "output_type": "execute_result"
    }
   ],
   "source": [
    "MSE([1, -1.5])"
   ]
  },
  {
   "cell_type": "code",
   "execution_count": 14,
   "metadata": {},
   "outputs": [
    {
     "data": {
      "text/plain": [
       "89.6405313433802"
      ]
     },
     "execution_count": 14,
     "metadata": {},
     "output_type": "execute_result"
    }
   ],
   "source": [
    "MSE([2, -2])"
   ]
  },
  {
   "cell_type": "markdown",
   "metadata": {},
   "source": [
    "We want to find the values of $\\hat\\beta_0$ and $\\beta_1$ that minimize this function. First, let's set $\\hat{\\beta}_0=0$ and see how MSE varies as $\\hat\\beta_1$ changes."
   ]
  },
  {
   "cell_type": "code",
   "execution_count": 15,
   "metadata": {
    "slideshow": {
     "slide_type": "subslide"
    },
    "tags": [
     "hide-input"
    ]
   },
   "outputs": [
    {
     "data": {
      "image/png": "[encoded data removed]",
      "text/plain": [
       "<Figure size 432x216 with 1 Axes>"
      ]
     },
     "metadata": {
      "needs_background": "light"
     },
     "output_type": "display_data"
    }
   ],
   "source": [
    "β0 = 0\n",
    "β1 = np.linspace(-5,5,50)\n",
    "\n",
    "fig, ax = plt.subplots(figsize=(6,3))\n",
    "ax.plot(β1, [(MSE([β0,k])) for k in β1])\n",
    "ax.set_ylabel('MSE')\n",
    "ax.set_xlabel(r'$\\beta_1$')\n",
    "ax.grid(alpha=0.3)\n",
    "plt.show()"
   ]
  },
  {
   "cell_type": "markdown",
   "metadata": {},
   "source": [
    "It looks like the MSE is minimized near $\\hat\\beta_1=-3$. Let's hold that value fixed and see how MSE varies as we change $\\hat\\beta_0$."
   ]
  },
  {
   "cell_type": "code",
   "execution_count": 16,
   "metadata": {
    "tags": [
     "hide-input"
    ]
   },
   "outputs": [
    {
     "data": {
      "image/png": "[encoded data removed]",
      "text/plain": [
       "<Figure size 432x216 with 1 Axes>"
      ]
     },
     "metadata": {
      "needs_background": "light"
     },
     "output_type": "display_data"
    }
   ],
   "source": [
    "β0 = np.linspace(-5,5,50)\n",
    "β1 = -3\n",
    "\n",
    "fig, ax = plt.subplots(figsize=(6,3))\n",
    "ax.plot(β0, [(MSE([k,β1])) for k in β0])\n",
    "ax.set_ylabel('MSE')\n",
    "ax.set_xlabel(r'$\\beta_0$')\n",
    "ax.grid(alpha=0.3)\n",
    "plt.show()"
   ]
  },
  {
   "cell_type": "markdown",
   "metadata": {
    "slideshow": {
     "slide_type": "subslide"
    }
   },
   "source": [
    "It looks like a value a little less that $\\beta_0=2$ is best. We can do better by varying both $\\beta_0$ and $\\beta_1$ simultaneously."
   ]
  },
  {
   "cell_type": "code",
   "execution_count": 17,
   "metadata": {
    "hide_input": false,
    "slideshow": {
     "slide_type": "subslide"
    },
    "tags": [
     "hide-input"
    ]
   },
   "outputs": [
    {
     "data": {
      "image/png": "[encoded data removed]",
      "text/plain": [
       "<Figure size 720x720 with 1 Axes>"
      ]
     },
     "metadata": {
      "needs_background": "light"
     },
     "output_type": "display_data"
    }
   ],
   "source": [
    "#  calculate MSE on a \"grid\" of b0,b1 pairs\n",
    "k = 250\n",
    "β0 = β1 = np.linspace(-25, 25, k)\n",
    "β0, β1 = np.meshgrid(β0, β1)\n",
    "\n",
    "Z = np.zeros_like(β0)\n",
    "\n",
    "for i in range(k):\n",
    "    for j in range(k):\n",
    "        Z[i,j] = MSE([β0[i,j], β1[i,j]])\n",
    "\n",
    "# 3D plot\n",
    "from mpl_toolkits.mplot3d import Axes3D\n",
    "from matplotlib import cm\n",
    "\n",
    "fig = plt.figure(figsize=(10,10))\n",
    "ax = fig.add_subplot(projection='3d')\n",
    "ax.plot_surface(β0, β1, Z, cmap=cm.coolwarm, alpha=0.75)\n",
    "ax.set_xlabel(r'$\\beta_0$')\n",
    "ax.set_ylabel(r'$\\beta_1$')\n",
    "\n",
    "# add minimum point\n",
    "minidx = np.unravel_index(Z.argmin(), Z.shape)\n",
    "ax.scatter(β0[minidx], β1[minidx], Z[minidx], color='k')\n",
    "\n",
    "plt.show()"
   ]
  },
  {
   "cell_type": "markdown",
   "metadata": {},
   "source": [
    "The point on this grid with the lowest MSE, marked in black, is ({glue:}`b0`, {glue:}`b1`), which yields an MSE of {glue:}`MSE`."
   ]
  },
  {
   "cell_type": "markdown",
   "metadata": {
    "slideshow": {
     "slide_type": "subslide"
    },
    "tags": [
     "hide-input"
    ]
   },
   "source": [
    "We did manage to find a pretty good estimate, but note that this is really not a good way to find parameters. We had to check blindly if possible parameter values worked well. What if we didn't start looking anywhere near the correct values? Specifically, what if $\\beta_0=-523$ and $\\beta_1=4367$? Or what if we have ten explanatory variables rather than just one? We might have to search through trillions of combinations before finding a good fit. Surely there's a \n",
    "better way to estimate the coefficients!"
   ]
  },
  {
   "cell_type": "markdown",
   "metadata": {
    "slideshow": {
     "slide_type": "slide"
    }
   },
   "source": [
    "## Gradient descent"
   ]
  },
  {
   "cell_type": "markdown",
   "metadata": {},
   "source": [
    "Looking at the MSE function in the figure above, we can see that it is bowl-shaped. (This particular bowl is much steeper in the $\\beta_1$ axis than in the $\\beta_0$ axis.) This is because the MSE is a sum of squares, so it is a [convex function](https://en.wikipedia.org/wiki/Convex_function). Convex functions are especially easy to minimize using a simple algorithm that uses a little knowledge of calculus to iteratively search in the right direction. In each iteration of the algorithm, we use the derivatives to decide how to improve on our previous guess."
   ]
  },
  {
   "cell_type": "markdown",
   "metadata": {},
   "source": [
    "With two parameters, $\\beta_0$ and $\\beta_1$, the MSE function is\n",
    "\n",
    "\\begin{equation*}\n",
    "MSE(\\beta_0,\\beta_1) = \\frac{1}{N} \\sum_{i=1}^N \\left[y_i - (\\beta_0 + \\beta_1 x_i)\\right]^2.\n",
    "\\end{equation*}\n",
    "\n",
    "The partial derivatives are therefore \n",
    "\n",
    "\\begin{equation*}\n",
    "\\frac{\\partial MSE}{\\partial \\beta_0} = -\\frac{2}{N} \\sum_i \\left[y_i - (\\beta_0 + \\beta_1 x_i)\\right]\n",
    "\\end{equation*}\n",
    "\n",
    "and\n",
    "\n",
    "\\begin{equation*}\n",
    "\\frac{\\partial MSE}{\\partial \\beta_1} = -\\frac{2}{N} \\sum_i x_i \\left[y_i - (\\beta_0 + \\beta_1 x_i)\\right].\n",
    "\\end{equation*}\n",
    "\n",
    "In vector notation, this is\n",
    "\\begin{equation}\n",
    "\\frac{\\partial}{\\partial \\beta} \\frac{(y-X\\beta)'(y-X\\beta)}{N} = -\\frac{2}{N} X'(y-X\\beta) = \\frac{2}{N} X'(X\\beta-y).\n",
    "\\end{equation}\n",
    "\n",
    "This vector is called the *gradient* of the function."
   ]
  },
  {
   "cell_type": "markdown",
   "metadata": {},
   "source": [
    "Gradient descent works as follows:\n",
    "\n",
    "1. Initialize the $\\beta$ parameters. This can just be a random guess.\n",
    "\n",
    "2. Calculate the gradient, $\\Delta := \\frac{\\partial MSE}{\\partial \\beta}$.\n",
    "\n",
    "3. Update the coefficient estimate according to\n",
    "\n",
    "$$\\beta \\leftarrow  \\beta - \\eta \\cdot \\Delta.$$\n",
    "\n",
    "Steps 2 and 3 are repeated until the process *converges*, meaning that $\\beta$ is no longer changing. (Recall that at the minimum of a function, the derivative is zero, so $\\Delta$ will just be a vector of zeros.\n",
    "\n",
    "The parameter $\\eta$ is called the *learning rate* and controls how large of a step we take in the direction of the gradient."
   ]
  },
  {
   "cell_type": "code",
   "execution_count": 19,
   "metadata": {},
   "outputs": [],
   "source": [
    "β = rng.standard_normal((2,1))  # random initialization\n",
    "\n",
    "y_hat = X @ β\n",
    "\n",
    "gradient = -2/N * X.T @ (y - y_hat)"
   ]
  },
  {
   "cell_type": "code",
   "execution_count": 21,
   "metadata": {
    "tags": [
     "hide-input"
    ]
   },
   "outputs": [
    {
     "data": {
      "image/png": "[encoded data removed]",
      "text/plain": [
       "<Figure size 864x648 with 1 Axes>"
      ]
     },
     "metadata": {
      "needs_background": "light"
     },
     "output_type": "display_data"
    }
   ],
   "source": [
    "def do_plot(ttl):\n",
    "    fig, ax = plt.subplots(figsize=(12,9))\n",
    "    ax.plot(x, y, 'bo')\n",
    "    ax.plot(x, y_hat, '-r')\n",
    "    txt_str = ('$\\\\beta$ = [{:.2f}, {:.2f}]\\n'.format(*β.ravel()) \n",
    "               + '$\\\\frac{\\\\partial MSE}{\\\\partial \\\\beta}$=' \n",
    "               + '[{:.4f}, {:.4f}]\\n'.format(*gradient.ravel())\n",
    "               + 'MSE: {:.4f}'.format(MSE(β)))\n",
    "    ax.text(0, -35, txt_str, fontsize=14)\n",
    "    ax.set_xlim(-0.2, 10.2)\n",
    "    ax.set_ylim(-40, 10)\n",
    "    ax.grid(alpha=0.3)\n",
    "    ax.set_title(ttl, fontsize=18)\n",
    "\n",
    "do_plot('Random initial guess')"
   ]
  },
  {
   "cell_type": "code",
   "execution_count": 22,
   "metadata": {
    "hide_input": false,
    "slideshow": {
     "slide_type": "subslide"
    }
   },
   "outputs": [
    {
     "data": {
      "image/png": "[encoded data removed]",
      "text/plain": [
       "<Figure size 864x648 with 1 Axes>"
      ]
     },
     "metadata": {
      "needs_background": "light"
     },
     "output_type": "display_data"
    }
   ],
   "source": [
    "η = 0.02  # learning rate\n",
    "\n",
    "# update β\n",
    "β = β - η*gradient\n",
    "\n",
    "# calculate new predicted Y values\n",
    "y_hat = X @ β\n",
    "\n",
    "do_plot('After one iteration')"
   ]
  },
  {
   "cell_type": "markdown",
   "metadata": {},
   "source": [
    "Here's an animation of the first 200 steps in the iteration:\n",
    "\n",
    "```{raw} html\n",
    ":file: regression_animation.html\n",
    "```"
   ]
  },
  {
   "cell_type": "markdown",
   "metadata": {},
   "source": [
    "We can keep iterating until we reach some reasonable *stopping point*. One reasonable strategy is to stop when gradient is very small, meaning that the change between the current value of $\\beta$ and what it would be in the next iteration is very small. In other words, the estimate has *converged*."
   ]
  },
  {
   "cell_type": "code",
   "execution_count": 23,
   "metadata": {
    "slideshow": {
     "slide_type": "subslide"
    }
   },
   "outputs": [
    {
     "name": "stdout",
     "output_type": "stream",
     "text": [
      "Iter      0: [0], [0]\n",
      "Iter    100: [1.01677665], [-3.03221436]\n",
      "Iter    200: [1.679105], [-3.1293367]\n",
      "Iter    300: [1.98573382], [-3.17430007]\n",
      "Iter    400: [2.12768944], [-3.19511612]\n",
      "Iter    500: [2.19340864], [-3.20475304]\n",
      "Iter    600: [2.22383373], [-3.2092145]\n",
      "Iter    700: [2.2379192], [-3.21127997]\n",
      "Iter    800: [2.24444016], [-3.21223618]\n",
      "Iter    900: [2.24745907], [-3.21267887]\n",
      "Iter   1000: [2.2488567], [-3.21288381]\n",
      "Iter   1100: [2.24950373], [-3.21297869]\n",
      "Stopped after 1199 iterations\n"
     ]
    },
    {
     "data": {
      "image/png": "[encoded data removed]",
      "text/plain": [
       "<Figure size 864x648 with 1 Axes>"
      ]
     },
     "metadata": {
      "needs_background": "light"
     },
     "output_type": "display_data"
    }
   ],
   "source": [
    "n_iterations = 2500\n",
    "\n",
    "β = np.array([[0],[0]])  # initialize to (0,0)\n",
    "\n",
    "for i in range(n_iterations):\n",
    "    if i % 100 == 0: print('Iter {:>6}: {}, {}'.format(i, *β))\n",
    "    gradient = -2/N * X.T @ (y - X@β)\n",
    "    β = β - η*gradient\n",
    "    if abs(gradient).max()<0.0001: break\n",
    "\n",
    "print(f'Stopped after {i} iterations')\n",
    "\n",
    "y_hat = X @ β\n",
    "\n",
    "do_plot(f'After {i} iterations')"
   ]
  },
  {
   "cell_type": "markdown",
   "metadata": {
    "slideshow": {
     "slide_type": "subslide"
    }
   },
   "source": [
    "```{admonition} Check your understanding\n",
    ":class: tip\n",
    "What happens when we make the learning rate $\\eta$ bigger or smaller? Experiment and see!\n",
    "```"
   ]
  },
  {
   "cell_type": "markdown",
   "metadata": {
    "slideshow": {
     "slide_type": "subslide"
    }
   },
   "source": [
    "A similar iterative technique is used by off-the-shelf optimizers, like the one in `scipy`. It finds precisely the same answer we found using our iterative technique; the solution is given in the `x` value of the result."
   ]
  },
  {
   "cell_type": "code",
   "execution_count": 24,
   "metadata": {},
   "outputs": [
    {
     "data": {
      "text/plain": [
       "      fun: 37.33043171791398\n",
       " hess_inv: array([[ 2.55334903, -0.37199072],\n",
       "       [-0.37199072,  0.06742381]])\n",
       "      jac: array([4.76837158e-07, 0.00000000e+00])\n",
       "  message: 'Optimization terminated successfully.'\n",
       "     nfev: 21\n",
       "      nit: 6\n",
       "     njev: 7\n",
       "   status: 0\n",
       "  success: True\n",
       "        x: array([ 2.25006285, -3.21306069])"
      ]
     },
     "execution_count": 24,
     "metadata": {},
     "output_type": "execute_result"
    }
   ],
   "source": [
    "from scipy.optimize import minimize\n",
    "\n",
    "minimize(MSE,       # function to minimize\n",
    "         x0=[0,0]   # initial values for function arguments\n",
    "         )"
   ]
  },
  {
   "cell_type": "markdown",
   "metadata": {
    "slideshow": {
     "slide_type": "slide"
    }
   },
   "source": [
    "## Analytical solution\n",
    "\n",
    "We can also find an *analytical solution* to the problem of minimizing MSE. Setting the gradient equal to zero, we have\n",
    "\n",
    "$$\\frac{2}{N} X'(X\\hat\\beta-y) = 0.$$\n",
    "\n",
    "This implies the *normal equation*\n",
    "\n",
    "$$X'X\\hat{\\beta} = X'y,$$\n",
    "\n",
    "which must hold for the function to be minimized. As long as $X'X$ is invertible, this has the solution\n",
    "\n",
    "$$\\hat{\\beta} = (X'X)^{-1}X'y.$$\n",
    "\n",
    "$X'X$ is invertible when $K<N$, but even if it is theoretically invertible it may be computationally quite difficult if $K$ is large."
   ]
  },
  {
   "cell_type": "code",
   "execution_count": 25,
   "metadata": {},
   "outputs": [
    {
     "data": {
      "text/plain": [
       "array([[ 100.        ,  551.1599446 ],\n",
       "       [ 551.1599446 , 3777.82863606]])"
      ]
     },
     "execution_count": 25,
     "metadata": {},
     "output_type": "execute_result"
    }
   ],
   "source": [
    "XpX = X.T @ X\n",
    "\n",
    "XpX"
   ]
  },
  {
   "cell_type": "markdown",
   "metadata": {
    "slideshow": {
     "slide_type": "fragment"
    }
   },
   "source": [
    "Notice that $X'X$ encodes various sums calculated from the data, namely the values of $N$, $\\sum x$ and $\\sum x^2$. It is a square matrix with dimension $K\\times K$."
   ]
  },
  {
   "cell_type": "code",
   "execution_count": 26,
   "metadata": {},
   "outputs": [
    {
     "data": {
      "text/plain": [
       "array([100.       , 551.1599446])"
      ]
     },
     "execution_count": 26,
     "metadata": {},
     "output_type": "execute_result"
    }
   ],
   "source": [
    "# Sum of each column\n",
    "X.sum(axis=0)"
   ]
  },
  {
   "cell_type": "code",
   "execution_count": 27,
   "metadata": {},
   "outputs": [
    {
     "data": {
      "text/plain": [
       "3777.828636059256"
      ]
     },
     "execution_count": 27,
     "metadata": {},
     "output_type": "execute_result"
    }
   ],
   "source": [
    "# Sum of squares\n",
    "(X[:,1]**2).sum()"
   ]
  },
  {
   "cell_type": "markdown",
   "metadata": {
    "slideshow": {
     "slide_type": "subslide"
    }
   },
   "source": [
    "We can calculate the coefficients using this equation for $\\hat{\\beta}$. It should not surprise you that these are  exactly what the iterative algorithm found."
   ]
  },
  {
   "cell_type": "code",
   "execution_count": 28,
   "metadata": {},
   "outputs": [
    {
     "data": {
      "text/plain": [
       "array([[ 2.25006151],\n",
       "       [-3.21306049]])"
      ]
     },
     "execution_count": 28,
     "metadata": {},
     "output_type": "execute_result"
    }
   ],
   "source": [
    "from numpy.linalg import inv\n",
    "\n",
    "beta = inv(X.T @ X) @ X.T @ y\n",
    "\n",
    "beta"
   ]
  },
  {
   "cell_type": "markdown",
   "metadata": {
    "slideshow": {
     "slide_type": "subslide"
    }
   },
   "source": [
    "### Regression with a single regressor\n",
    "\n",
    "In the simplest case with $K=2$ — that is, one intercept and one regressor — we have\n",
    "\n",
    "$$X = \\begin{pmatrix}\n",
    "1 & x_1 \\\\\n",
    "1 & x_2 \\\\\n",
    "\\vdots & \\vdots \\\\\n",
    "1 & x_n \\\\\n",
    "\\end{pmatrix}$$\n",
    "\n",
    "so\n",
    "\n",
    "$$X'X = \\begin{pmatrix}\n",
    "n & \\sum x\\\\ \n",
    "\\sum x & \\sum x^2\n",
    "\\end{pmatrix}\n",
    "\\quad\n",
    "\\text{and}\n",
    "\\quad\n",
    "X'Y = \\begin{pmatrix}\n",
    "\\sum y\\\\ \n",
    "\\sum xy\n",
    "\\end{pmatrix}.$$\n",
    "\n",
    "\n"
   ]
  },
  {
   "cell_type": "markdown",
   "metadata": {
    "slideshow": {
     "slide_type": "subslide"
    }
   },
   "source": [
    "Therefore,\n",
    "\n",
    "$$\n",
    "\\hat{\\beta} = (X'X)^{-1}X'Y =\n",
    "\\begin{pmatrix}\n",
    "n & \\sum x\\\\ \n",
    "\\sum x & \\sum x^2\n",
    "\\end{pmatrix}^{-1}\n",
    "\\begin{pmatrix}\n",
    "\\sum y\\\\ \n",
    "\\sum xy\n",
    "\\end{pmatrix}.\n",
    "$$"
   ]
  },
  {
   "cell_type": "markdown",
   "metadata": {},
   "source": [
    "Using the formula for the inverse of a $2\\times 2$ matrix, we have\n",
    "\n",
    "$$\n",
    "\\begin{align*}\n",
    "\\begin{pmatrix}\n",
    "n & \\sum x\\\\ \n",
    "\\sum x & \\sum x^2\n",
    "\\end{pmatrix}^{-1}\n",
    "& = \\frac{1}{n\\sum x^2 - \\left(\\sum{x}\\right)^2}\n",
    "\\begin{pmatrix}\n",
    "\\sum x^2 & -\\sum x\\\\ \n",
    "-\\sum x & n\n",
    "\\end{pmatrix} \\\\\n",
    "& = \\frac{1}{n\\sum(x-\\bar x)^2}\n",
    "\\begin{pmatrix}\n",
    "\\sum x^2 & -\\sum x\\\\ \n",
    "-\\sum x & n\n",
    "\\end{pmatrix},\n",
    "\\end{align*}\n",
    "$$"
   ]
  },
  {
   "cell_type": "markdown",
   "metadata": {},
   "source": [
    "where we have used the fact that \n",
    "\n",
    "$$\n",
    "n\\sum x^2 - \\left(\\sum x\\right)^2 = n\\sum(x-\\bar x)^2.\n",
    "$$(ss)"
   ]
  },
  {
   "cell_type": "markdown",
   "metadata": {
    "slideshow": {
     "slide_type": "subslide"
    }
   },
   "source": [
    "Therefore,\n",
    "\n",
    "\\begin{align*}\n",
    "\\hat{\\beta} &= \\frac{1}{n\\sum(x-\\bar{x})^2}\n",
    "\\begin{pmatrix}\n",
    "\\sum x^2 & -\\sum x\\\\ \n",
    "-\\sum x & n\n",
    "\\end{pmatrix}\n",
    "\\begin{pmatrix}\n",
    "\\sum y\\\\ \n",
    "\\sum xy\n",
    "\\end{pmatrix} \\\\\n",
    "&= \\frac{1}{n\\sum(x-\\bar{x})^2}\n",
    "\\begin{pmatrix}\n",
    "\\sum y \\sum x^2 - \\sum x \\sum xy\\\\ \n",
    "n \\sum xy - \\sum x \\sum y\n",
    "\\end{pmatrix}.\n",
    "\\end{align*}"
   ]
  },
  {
   "cell_type": "markdown",
   "metadata": {},
   "source": [
    "Similar to equation {eq}`ss` above, we can also show that\n",
    "\n",
    "$$n\\sum xy - \\left(\\sum x\\right)\\left(\\sum y\\right) = n\\sum(y-\\bar y)(x-\\bar x).$$(ss2)"
   ]
  },
  {
   "cell_type": "markdown",
   "metadata": {},
   "source": [
    ":::{admonition} Exercise\n",
    "\n",
    "Prove equation {eq}`ss2`. Start with the expression on the right-hand side of the equation and show that it equals the the expression on the left.\n",
    "\n",
    ":::"
   ]
  },
  {
   "cell_type": "markdown",
   "metadata": {},
   "source": [
    ":::{admonition} Solution\n",
    ":class: admonition-solution, dropdown\n",
    "\n",
    "$$\n",
    "\\begin{aligned}\n",
    "n \\sum(x-\\bar{x})(y-\\bar{y}) &= n \\sum(x y-x \\bar{y}-\\bar{x} y+\\bar{x} \\bar{y}) \\\\\n",
    "&= n \\sum x y-n \\bar{y} \\sum x-n \\bar{x} \\sum y+n \\sum \\bar{x} \\bar{y} \\\\\n",
    "&= n \\sum x y-\\sum y \\sum x-\\sum x \\sum y+n \\bar{x} \\bar{y} \\sum 1 \\\\\n",
    "&= n \\sum x y-2 \\sum x \\sum y+n^{2} \\bar{x} \\bar{y} \\\\\n",
    "&= n \\sum x y-\\sum x \\sum y\n",
    "\\end{aligned}\n",
    "$$\n",
    "\n",
    ":::"
   ]
  },
  {
   "cell_type": "markdown",
   "metadata": {
    "slideshow": {
     "slide_type": "subslide"
    }
   },
   "source": [
    "Looking at the value for second coefficient,\n",
    "\n",
    "\\begin{equation*}\n",
    "\\hat{\\beta}_1 = \\frac{n \\sum xy - \\sum x \\sum y}{n\\sum(x-\\bar{x})^2}\n",
    "= \\frac{\\sum(y_i-\\bar{y})(x_i-\\bar{x})}{\\sum (x_i-\\bar{x})^2}\n",
    "= \\frac{\\cov(x,y)}{\\var(x)}.\n",
    "\\end{equation*}"
   ]
  },
  {
   "cell_type": "markdown",
   "metadata": {},
   "source": [
    "Solving for the first coefficient requires some additional tedious alebra, but we end up with\n",
    "\n",
    "$$\\hat{\\beta}_0 = \\frac{\\sum y \\sum x^2 - \\sum x \\sum xy}{n\\sum(x-\\bar{x})^2} = \\bar{y} - \\hat{\\beta}_1 \\bar{x}.$$\n",
    "\n",
    "That is, the value of $\\hat\\beta_0$ is chosen to make the the average of $y_i$ equal to the predicted value of the average $x_i$. In other words, it's chosen to force the average error to be zero."
   ]
  },
  {
   "cell_type": "markdown",
   "metadata": {},
   "source": [
    "## Sum of squares"
   ]
  },
  {
   "cell_type": "markdown",
   "metadata": {},
   "source": [
    "The figure below shows the residual for each observation in the data, given the optimal $\\hat\\beta$ estimate."
   ]
  },
  {
   "cell_type": "code",
   "execution_count": 29,
   "metadata": {
    "hide_input": false,
    "tags": [
     "hide-input"
    ]
   },
   "outputs": [
    {
     "data": {
      "image/png": "[encoded data removed]",
      "text/plain": [
       "<Figure size 864x360 with 1 Axes>"
      ]
     },
     "metadata": {
      "needs_background": "light"
     },
     "output_type": "display_data"
    }
   ],
   "source": [
    "y_hat = X @ beta\n",
    "ε_hat = y - y_hat\n",
    "\n",
    "fig, ax = plt.subplots(figsize=(12,5))\n",
    "ax.scatter(np.arange(N), ε_hat, color='r')\n",
    "ax.vlines(np.arange(N), 0, ε_hat, lw=0.3, color='r')\n",
    "ax.axhline(0, ls='--', c='k')\n",
    "plt.show()"
   ]
  },
  {
   "cell_type": "markdown",
   "metadata": {},
   "source": [
    "The Total Sum of Squares in the data is the sum of squared deviations from the mean,\n",
    "\n",
    "$$TSS := \\sum_i (y_i-\\bar{y})^2 = (y-\\bar{y})'(y-\\bar{y}).$$"
   ]
  },
  {
   "cell_type": "code",
   "execution_count": 30,
   "metadata": {},
   "outputs": [
    {
     "data": {
      "text/plain": [
       "11373.199830388872"
      ]
     },
     "execution_count": 30,
     "metadata": {},
     "output_type": "execute_result"
    }
   ],
   "source": [
    "TSS = ((y-y.mean())**2).sum()\n",
    "TSS"
   ]
  },
  {
   "cell_type": "markdown",
   "metadata": {},
   "source": [
    "The Residual Sum of Squares is the sum of squared errors,\n",
    "\n",
    "$$RSS := \\sum_i (y_i - \\hat{y}_i) = (y-\\hat{y})'(y-\\hat{y}) = \\hat\\epsilon'\\hat\\epsilon.$$\n",
    "\n",
    "The average of RSS provides an estimate of the variance of the noise, $\\sigma^2$:\n",
    "\n",
    "$$\\hat\\sigma^2 = \\frac{RSS}{N-K}.$$"
   ]
  },
  {
   "cell_type": "markdown",
   "metadata": {},
   "source": [
    "We use the Total Sum of Squares and the Residual Sum of Squares to calculate $R^2$, a measure of how much of the variation in the data our model can explain:\n",
    "\n",
    "$$R^2 := \\frac{TSS - RSS}{TSS} = 1- \\frac{RSS}{TSS}.$$"
   ]
  },
  {
   "cell_type": "markdown",
   "metadata": {},
   "source": [
    "```{margin}\n",
    "Some numpy calculations give a scalar result that is stored as a 1$\\times$1 array. We can convert these to a `float` using the `.item()` method, as seen here in the calcuation of `RSS`.\n",
    "```"
   ]
  },
  {
   "cell_type": "code",
   "execution_count": 31,
   "metadata": {},
   "outputs": [
    {
     "data": {
      "text/plain": [
       "0.6717684356677902"
      ]
     },
     "execution_count": 31,
     "metadata": {},
     "output_type": "execute_result"
    }
   ],
   "source": [
    "RSS = (ε_hat.T @ ε_hat).item()\n",
    "\n",
    "1 - RSS/TSS"
   ]
  },
  {
   "cell_type": "markdown",
   "metadata": {},
   "source": [
    "We are able to explain about {glue:}`Rsq`% of the variance of $Y$ with our model."
   ]
  }
 ],
 "metadata": {
  "celltoolbar": "Slideshow",
  "kernelspec": {
   "display_name": "Python 3 (ipykernel)",
   "language": "python",
   "name": "python3"
  },
  "language_info": {
   "codemirror_mode": {
    "name": "ipython",
    "version": 3
   },
   "file_extension": ".py",
   "mimetype": "text/x-python",
   "name": "python",
   "nbconvert_exporter": "python",
   "pygments_lexer": "ipython3",
   "version": "3.9.12"
  },
  "toc": {
   "base_numbering": 1,
   "nav_menu": {},
   "number_sections": false,
   "sideBar": true,
   "skip_h1_title": false,
   "title_cell": "Table of Contents",
   "title_sidebar": "Contents",
   "toc_cell": false,
   "toc_position": {
    "height": "calc(100% - 180px)",
    "left": "10px",
    "top": "150px",
    "width": "319.391px"
   },
   "toc_section_display": true,
   "toc_window_display": false
  },
  "toc-autonumbering": false,
  "toc-showcode": false,
  "toc-showmarkdowntxt": false
 },
 "nbformat": 4,
 "nbformat_minor": 4
}
