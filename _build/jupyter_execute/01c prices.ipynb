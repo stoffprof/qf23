{
 "cells": [
  {
   "cell_type": "code",
   "execution_count": 1,
   "id": "31d5ebd3-d384-41ce-bdbc-1a64b421b6dc",
   "metadata": {
    "tags": [
     "remove-cell"
    ]
   },
   "outputs": [],
   "source": [
    "import pandas as pd\n",
    "import numpy as np\n",
    "\n",
    "import matplotlib.pyplot as plt\n",
    "plt.rcParams['figure.dpi'] = 200\n",
    "\n",
    "import scipy.stats as scs"
   ]
  },
  {
   "cell_type": "markdown",
   "id": "951809ad-52df-42b9-9bed-d03eff677cf3",
   "metadata": {},
   "source": [
    "# A model of prices"
   ]
  },
  {
   "cell_type": "markdown",
   "id": "5ea06c7d-0183-4770-bbba-83d4dd85fa5e",
   "metadata": {},
   "source": [
    "Consider the following simple model for how the price of an asset can change over time. At time 0, the prices is $P_0$. Over the next period of time, the price can either increase or decrease by a fixed amount $\\Delta$. The probabilities of the increase or decrease are, respectively, $\\pi$ and $1-\\pi$."
   ]
  },
  {
   "cell_type": "markdown",
   "id": "4f81c0c7-60f0-4131-bd18-7227cc46899a",
   "metadata": {},
   "source": [
    "```{figure} images/Binomial_1.png\n",
    ":name: binomial-fig-1\n",
    ":width: 275px\n",
    ":align: center\n",
    "\n",
    "\n",
    "One-period Binomial model.\n",
    "```"
   ]
  },
  {
   "cell_type": "markdown",
   "id": "9baf5a18-5826-46ce-9b03-4b3f167c8098",
   "metadata": {},
   "source": [
    "It's easy to extend this model to allow for additional time intervals. After three intervals, we have:"
   ]
  },
  {
   "cell_type": "markdown",
   "id": "d1e57c2b-3c2d-4457-b1bd-b1beecaffb70",
   "metadata": {},
   "source": [
    "```{figure} images/Binomial_2.png\n",
    ":name: binomial-fig-2\n",
    ":width: 750px\n",
    ":align: center\n",
    "\n",
    "Binomial model with 3 time periods.\n",
    "```"
   ]
  },
  {
   "cell_type": "markdown",
   "id": "91dc79c2-87f8-4f23-acde-ed06ecdc2a97",
   "metadata": {},
   "source": [
    "After three intervals there are four possible outcomes:\n",
    "\n",
    "- The price is $P_0 + 3\\Delta$. There is one path leading to this outcome: in every interval the price follows the high path, so this happens with probability $\\pi^3$.\n",
    "- The price is $P_0 +\\Delta$. There are three paths that lead to this outcome: a combination of two up moves and one down move. The probability of following each one of these paths is $\\pi^2(1-\\pi)$.\n",
    "- The price is $P_0 -\\Delta$. Again, there are three paths leading to this outcome: any combination of one up move and two down moves, each of which has probability of $\\pi(1-\\pi)^2$.\n",
    " - The price is $P_0 -3\\Delta$, which happens only if the price moves down in every period, implying a probability of $(1-\\pi)^3$.\n",
    "\n",
    "In general, after $n$ periods, there will be $n+1$ nodes. The number of paths to the $k$th terminal node (where we begin labelling the bottom node as \"0\") is given by the *binomial coefficient*,\n",
    "\n",
    "$$\\binom {n}{k} = \\frac{n!}{k!(n-k)!}, \\quad k\\in\\{0, 1, \\ldots, n\\}.$$"
   ]
  },
  {
   "cell_type": "markdown",
   "id": "6510224a-4f4c-4a94-bf89-1f7f44a97c85",
   "metadata": {},
   "source": [
    "The number of paths to the terminal nodes for varying values of $n$ is shown below."
   ]
  },
  {
   "cell_type": "code",
   "execution_count": 2,
   "id": "83ab6bd7-1d24-467c-ac3e-36d17da2a916",
   "metadata": {},
   "outputs": [
    {
     "name": "stdout",
     "output_type": "stream",
     "text": [
      "1:\t[1, 1]\n",
      "3:\t[1, 3, 3, 1]\n",
      "5:\t[1, 5, 10, 10, 5, 1]\n",
      "10:\t[1, 10, 45, 120, 210, 252, 210, 120, 45, 10, 1]\n",
      "25:\t[1, 25, 300, 2300, 12650, 53130, 177100, 480700, 1081575, 2042975, 3268760, 4457400, 5200300, 5200300, 4457400, 3268760, 2042975, 1081575, 480700, 177100, 53130, 12650, 2300, 300, 25, 1]\n"
     ]
    }
   ],
   "source": [
    "from scipy.special import binom\n",
    "\n",
    "for n in [1, 3, 5, 10, 25]:\n",
    "    print('{}:\\t{}'.format(n, [int(binom(n, k)) for k in range(n+1)]))"
   ]
  },
  {
   "cell_type": "markdown",
   "id": "9cf24de1-ee43-49f4-9e8d-8b9f9bfc06ce",
   "metadata": {},
   "source": [
    "The probability of arriving at node $k$ is therefore\n",
    "\n",
    "$$\n",
    "\\P(k) = {\\binom {n}{k}}\\pi^{k}(1-\\pi)^{n-k}, \\quad k=0,1,2,\\ldots,n.\n",
    "$$ (binom_prob)"
   ]
  },
  {
   "cell_type": "markdown",
   "id": "741d9bee-b40f-4ecd-a371-d3512d083f2e",
   "metadata": {},
   "source": [
    ":::{margin}\n",
    "Note that by defining `k` as a numpy array we are able to calculate the vector of all probabilities in a single line of code with no loop.\n",
    ":::"
   ]
  },
  {
   "cell_type": "markdown",
   "id": "1216d807-018f-4377-a14f-9efca74a1843",
   "metadata": {},
   "source": [
    "For example, setting $\\pi=0.5$, the probabilities associated with the four nodes in {numref}`binomial-fig-2` are:"
   ]
  },
  {
   "cell_type": "code",
   "execution_count": 3,
   "id": "aca08fd8-4d20-4df4-bdb6-78694da54b0a",
   "metadata": {},
   "outputs": [
    {
     "data": {
      "text/plain": [
       "array([0.125, 0.375, 0.375, 0.125])"
      ]
     },
     "execution_count": 3,
     "metadata": {},
     "output_type": "execute_result"
    }
   ],
   "source": [
    "π = 0.5\n",
    "n = 3\n",
    "k = np.arange(n+1)\n",
    "\n",
    "binom(3, k) * π**k * (1-π)**(n-k)"
   ]
  },
  {
   "cell_type": "markdown",
   "id": "389a12ae-75dc-45fe-b0ff-e1e13cc30ec3",
   "metadata": {},
   "source": [
    "This function in equation {eq}`binom_prob` is called the *probability mass function* (PMF) for a *binomial distribution*. It gives the probability for each possible outcome of the *random variable* $k$.\n",
    "\n",
    "Rather than calculate the probability manually, we can call the `pmf` method from the SciPy `stats` [library](https://docs.scipy.org/doc/scipy/reference/stats.html):"
   ]
  },
  {
   "cell_type": "code",
   "execution_count": 4,
   "id": "1ae44ab3-9c21-480c-b71f-4e28d4bf808c",
   "metadata": {},
   "outputs": [
    {
     "data": {
      "text/plain": [
       "array([0.125, 0.375, 0.375, 0.125])"
      ]
     },
     "execution_count": 4,
     "metadata": {},
     "output_type": "execute_result"
    }
   ],
   "source": [
    "scs.binom.pmf(k, n, π)"
   ]
  },
  {
   "cell_type": "markdown",
   "id": "ff5b3858-03cd-4f33-906a-01c83de8224d",
   "metadata": {},
   "source": [
    "```{warning}\n",
    "Note that we are using two different functions called `binom` here. The first is `scipy.special.binom` which we imported and refer to as `binom`; this gives the binomial coefficent. The second is `scipy.stats.binom`, which is a class for calculating properties of the binomial distribution. While the two are related, they are conceptually distinct.\n",
    "```"
   ]
  },
  {
   "cell_type": "markdown",
   "id": "10b87c89-e9dc-4e0d-951b-f989f1ba07ff",
   "metadata": {},
   "source": [
    "The price at terminal node $k$ is\n",
    "\n",
    "$$P_n = P_0 + (2k-n)\\Delta.$$"
   ]
  },
  {
   "cell_type": "markdown",
   "id": "9ec758a0-9e8b-4b6e-86c2-1801a3380d28",
   "metadata": {},
   "source": [
    "For technical reasons, it is necessary to make $\\Delta$ depend on $\\pi$. Specifically, we set\n",
    "\n",
    "$$\\Delta = \\sqrt{\\pi(1-\\pi)}.$$"
   ]
  },
  {
   "cell_type": "markdown",
   "id": "df0ba319-1624-46c0-a6b9-33c1533be016",
   "metadata": {
    "tags": []
   },
   "source": [
    ":::{admonition} Extra credit\n",
    ":class: admonition-extra-credit, dropdown\n",
    "\n",
    "In a standard binomial model, the price at each step can go up by $u$ or down by $d$, so after one period the price is either $S_0 u$ or $S_0 d.$ In the model above, we're assuming that we have log-prices, so we add the price changes rather than multiplying.\n",
    "\n",
    "{cite:ts}`cox1979option` show that, for a tree to lead to a stock price with variance $\\sigma^2$, it must be that\n",
    "\n",
    "$$u = e^{\\sigma\\sqrt{T/n}}.$$\n",
    "\n",
    "In our model, $\\Delta = \\ln(u)$, so\n",
    "\n",
    "$$\\Delta = \\sigma\\sqrt{T/n}.$$\n",
    "\n",
    "Now, it can be shown that, in the limit, a binomial distribution converges to a Normal distribution with a mean of $n\\pi$ and variance of $n\\pi(1-\\pi)$:\n",
    "\n",
    "$$\\frac{k-n\\pi}{\\sqrt{n\\pi(1-\\pi)}} \\sim N(0,1).$$\n",
    "\n",
    "Therefore, \n",
    "\n",
    "$$\\sigma = \\sqrt{n\\pi(1-\\pi)}$$\n",
    "\n",
    "and\n",
    "\n",
    "$$\\Delta = \\sqrt{\\pi(1-\\pi)T}.$$\n",
    "\n",
    "For simplification, we are assuming that $T=1$.\n",
    ":::"
   ]
  },
  {
   "cell_type": "markdown",
   "id": "ef792b35-4861-4468-a7ef-45121cc2bfd4",
   "metadata": {},
   "source": [
    "Using the 3-period model from above, the table below shows for each node:\n",
    "\n",
    "- the number of \"up\" moves;\n",
    "- the number of \"down\" moves;\n",
    "- the net number of steps, $\\Delta$;\n",
    "- the number of possible paths leading to the node;\n",
    "- the price at that node; and\n",
    "- the probability of arriving at that node.\n",
    "\n",
    "We assume that $P_0=50$. With $\\pi=0.5$, we have $\\Delta=0.5$."
   ]
  },
  {
   "cell_type": "code",
   "execution_count": 13,
   "id": "4f482069-b797-4fc5-a0bb-0c6472606c8c",
   "metadata": {
    "tags": [
     "hide-input"
    ]
   },
   "outputs": [
    {
     "data": {
      "text/html": [
       "<div>\n",
       "<style scoped>\n",
       "    .dataframe tbody tr th:only-of-type {\n",
       "        vertical-align: middle;\n",
       "    }\n",
       "\n",
       "    .dataframe tbody tr th {\n",
       "        vertical-align: top;\n",
       "    }\n",
       "\n",
       "    .dataframe thead th {\n",
       "        text-align: right;\n",
       "    }\n",
       "</style>\n",
       "<table border=\"1\" class=\"dataframe\">\n",
       "  <thead>\n",
       "    <tr style=\"text-align: right;\">\n",
       "      <th></th>\n",
       "      <th>n_up</th>\n",
       "      <th>n_down</th>\n",
       "      <th>Δs</th>\n",
       "      <th>paths</th>\n",
       "      <th>price</th>\n",
       "      <th>prob</th>\n",
       "    </tr>\n",
       "    <tr>\n",
       "      <th>node</th>\n",
       "      <th></th>\n",
       "      <th></th>\n",
       "      <th></th>\n",
       "      <th></th>\n",
       "      <th></th>\n",
       "      <th></th>\n",
       "    </tr>\n",
       "  </thead>\n",
       "  <tbody>\n",
       "    <tr>\n",
       "      <th>0</th>\n",
       "      <td>0</td>\n",
       "      <td>3</td>\n",
       "      <td>-3</td>\n",
       "      <td>1</td>\n",
       "      <td>48.5</td>\n",
       "      <td>0.125</td>\n",
       "    </tr>\n",
       "    <tr>\n",
       "      <th>1</th>\n",
       "      <td>1</td>\n",
       "      <td>2</td>\n",
       "      <td>-1</td>\n",
       "      <td>3</td>\n",
       "      <td>49.5</td>\n",
       "      <td>0.375</td>\n",
       "    </tr>\n",
       "    <tr>\n",
       "      <th>2</th>\n",
       "      <td>2</td>\n",
       "      <td>1</td>\n",
       "      <td>1</td>\n",
       "      <td>3</td>\n",
       "      <td>50.5</td>\n",
       "      <td>0.375</td>\n",
       "    </tr>\n",
       "    <tr>\n",
       "      <th>3</th>\n",
       "      <td>3</td>\n",
       "      <td>0</td>\n",
       "      <td>3</td>\n",
       "      <td>1</td>\n",
       "      <td>51.5</td>\n",
       "      <td>0.125</td>\n",
       "    </tr>\n",
       "  </tbody>\n",
       "</table>\n",
       "</div>"
      ],
      "text/plain": [
       "      n_up  n_down  Δs  paths  price   prob\n",
       "node                                       \n",
       "0        0       3  -3      1   48.5  0.125\n",
       "1        1       2  -1      3   49.5  0.375\n",
       "2        2       1   1      3   50.5  0.375\n",
       "3        3       0   3      1   51.5  0.125"
      ]
     },
     "execution_count": 13,
     "metadata": {},
     "output_type": "execute_result"
    }
   ],
   "source": [
    "P0 = 50\n",
    "\n",
    "def make_paths(n, π=0.5):\n",
    "    Δ = np.sqrt(π*(1-π))\n",
    "    k = np.arange(n+1)\n",
    "    \n",
    "    paths = pd.DataFrame({'n_up': k,\n",
    "                          'n_down': n - k,\n",
    "                          'Δs': 2*k - n,\n",
    "                          'paths': binom(n, np.arange(0,n+1))})\n",
    "    paths['price'] = P0 + Δ * paths['Δs'] \n",
    "    paths['prob'] = scs.binom.pmf(np.arange(0,n+1), n, π)\n",
    "    \n",
    "    paths['paths'] = pd.to_numeric(paths['paths'], downcast='integer')\n",
    "    paths.index.name = 'node'\n",
    "    return(paths)\n",
    "\n",
    "make_paths(3)"
   ]
  },
  {
   "cell_type": "markdown",
   "id": "f9b4b3c8-59d6-46fd-a985-650329bf96ce",
   "metadata": {},
   "source": [
    "Extending the model to 15 steps, we have:"
   ]
  },
  {
   "cell_type": "code",
   "execution_count": 16,
   "id": "517960d6-74d3-4aca-a981-7d7245b46633",
   "metadata": {
    "tags": [
     "hide-input"
    ]
   },
   "outputs": [
    {
     "data": {
      "text/html": [
       "<div>\n",
       "<style scoped>\n",
       "    .dataframe tbody tr th:only-of-type {\n",
       "        vertical-align: middle;\n",
       "    }\n",
       "\n",
       "    .dataframe tbody tr th {\n",
       "        vertical-align: top;\n",
       "    }\n",
       "\n",
       "    .dataframe thead th {\n",
       "        text-align: right;\n",
       "    }\n",
       "</style>\n",
       "<table border=\"1\" class=\"dataframe\">\n",
       "  <thead>\n",
       "    <tr style=\"text-align: right;\">\n",
       "      <th></th>\n",
       "      <th>n_up</th>\n",
       "      <th>n_down</th>\n",
       "      <th>Δs</th>\n",
       "      <th>paths</th>\n",
       "      <th>price</th>\n",
       "      <th>prob</th>\n",
       "    </tr>\n",
       "    <tr>\n",
       "      <th>node</th>\n",
       "      <th></th>\n",
       "      <th></th>\n",
       "      <th></th>\n",
       "      <th></th>\n",
       "      <th></th>\n",
       "      <th></th>\n",
       "    </tr>\n",
       "  </thead>\n",
       "  <tbody>\n",
       "    <tr>\n",
       "      <th>0</th>\n",
       "      <td>0</td>\n",
       "      <td>15</td>\n",
       "      <td>-15</td>\n",
       "      <td>1</td>\n",
       "      <td>42.5</td>\n",
       "      <td>0.000031</td>\n",
       "    </tr>\n",
       "    <tr>\n",
       "      <th>1</th>\n",
       "      <td>1</td>\n",
       "      <td>14</td>\n",
       "      <td>-13</td>\n",
       "      <td>15</td>\n",
       "      <td>43.5</td>\n",
       "      <td>0.000458</td>\n",
       "    </tr>\n",
       "    <tr>\n",
       "      <th>2</th>\n",
       "      <td>2</td>\n",
       "      <td>13</td>\n",
       "      <td>-11</td>\n",
       "      <td>105</td>\n",
       "      <td>44.5</td>\n",
       "      <td>0.003204</td>\n",
       "    </tr>\n",
       "    <tr>\n",
       "      <th>3</th>\n",
       "      <td>3</td>\n",
       "      <td>12</td>\n",
       "      <td>-9</td>\n",
       "      <td>455</td>\n",
       "      <td>45.5</td>\n",
       "      <td>0.013885</td>\n",
       "    </tr>\n",
       "    <tr>\n",
       "      <th>4</th>\n",
       "      <td>4</td>\n",
       "      <td>11</td>\n",
       "      <td>-7</td>\n",
       "      <td>1365</td>\n",
       "      <td>46.5</td>\n",
       "      <td>0.041656</td>\n",
       "    </tr>\n",
       "    <tr>\n",
       "      <th>5</th>\n",
       "      <td>5</td>\n",
       "      <td>10</td>\n",
       "      <td>-5</td>\n",
       "      <td>3003</td>\n",
       "      <td>47.5</td>\n",
       "      <td>0.091644</td>\n",
       "    </tr>\n",
       "    <tr>\n",
       "      <th>6</th>\n",
       "      <td>6</td>\n",
       "      <td>9</td>\n",
       "      <td>-3</td>\n",
       "      <td>5005</td>\n",
       "      <td>48.5</td>\n",
       "      <td>0.152740</td>\n",
       "    </tr>\n",
       "    <tr>\n",
       "      <th>7</th>\n",
       "      <td>7</td>\n",
       "      <td>8</td>\n",
       "      <td>-1</td>\n",
       "      <td>6435</td>\n",
       "      <td>49.5</td>\n",
       "      <td>0.196381</td>\n",
       "    </tr>\n",
       "    <tr>\n",
       "      <th>8</th>\n",
       "      <td>8</td>\n",
       "      <td>7</td>\n",
       "      <td>1</td>\n",
       "      <td>6435</td>\n",
       "      <td>50.5</td>\n",
       "      <td>0.196381</td>\n",
       "    </tr>\n",
       "    <tr>\n",
       "      <th>9</th>\n",
       "      <td>9</td>\n",
       "      <td>6</td>\n",
       "      <td>3</td>\n",
       "      <td>5005</td>\n",
       "      <td>51.5</td>\n",
       "      <td>0.152740</td>\n",
       "    </tr>\n",
       "    <tr>\n",
       "      <th>10</th>\n",
       "      <td>10</td>\n",
       "      <td>5</td>\n",
       "      <td>5</td>\n",
       "      <td>3003</td>\n",
       "      <td>52.5</td>\n",
       "      <td>0.091644</td>\n",
       "    </tr>\n",
       "    <tr>\n",
       "      <th>11</th>\n",
       "      <td>11</td>\n",
       "      <td>4</td>\n",
       "      <td>7</td>\n",
       "      <td>1365</td>\n",
       "      <td>53.5</td>\n",
       "      <td>0.041656</td>\n",
       "    </tr>\n",
       "    <tr>\n",
       "      <th>12</th>\n",
       "      <td>12</td>\n",
       "      <td>3</td>\n",
       "      <td>9</td>\n",
       "      <td>455</td>\n",
       "      <td>54.5</td>\n",
       "      <td>0.013885</td>\n",
       "    </tr>\n",
       "    <tr>\n",
       "      <th>13</th>\n",
       "      <td>13</td>\n",
       "      <td>2</td>\n",
       "      <td>11</td>\n",
       "      <td>105</td>\n",
       "      <td>55.5</td>\n",
       "      <td>0.003204</td>\n",
       "    </tr>\n",
       "    <tr>\n",
       "      <th>14</th>\n",
       "      <td>14</td>\n",
       "      <td>1</td>\n",
       "      <td>13</td>\n",
       "      <td>15</td>\n",
       "      <td>56.5</td>\n",
       "      <td>0.000458</td>\n",
       "    </tr>\n",
       "    <tr>\n",
       "      <th>15</th>\n",
       "      <td>15</td>\n",
       "      <td>0</td>\n",
       "      <td>15</td>\n",
       "      <td>1</td>\n",
       "      <td>57.5</td>\n",
       "      <td>0.000031</td>\n",
       "    </tr>\n",
       "  </tbody>\n",
       "</table>\n",
       "</div>"
      ],
      "text/plain": [
       "      n_up  n_down  Δs  paths  price      prob\n",
       "node                                          \n",
       "0        0      15 -15      1   42.5  0.000031\n",
       "1        1      14 -13     15   43.5  0.000458\n",
       "2        2      13 -11    105   44.5  0.003204\n",
       "3        3      12  -9    455   45.5  0.013885\n",
       "4        4      11  -7   1365   46.5  0.041656\n",
       "5        5      10  -5   3003   47.5  0.091644\n",
       "6        6       9  -3   5005   48.5  0.152740\n",
       "7        7       8  -1   6435   49.5  0.196381\n",
       "8        8       7   1   6435   50.5  0.196381\n",
       "9        9       6   3   5005   51.5  0.152740\n",
       "10      10       5   5   3003   52.5  0.091644\n",
       "11      11       4   7   1365   53.5  0.041656\n",
       "12      12       3   9    455   54.5  0.013885\n",
       "13      13       2  11    105   55.5  0.003204\n",
       "14      14       1  13     15   56.5  0.000458\n",
       "15      15       0  15      1   57.5  0.000031"
      ]
     },
     "execution_count": 16,
     "metadata": {},
     "output_type": "execute_result"
    }
   ],
   "source": [
    "paths = make_paths(15)\n",
    "paths"
   ]
  },
  {
   "cell_type": "markdown",
   "id": "686fb1d1-ff06-4250-a014-5424c2361c02",
   "metadata": {},
   "source": [
    "The *expected value* of $P_n$ is the probability-weighted sum of all possible prices at time $n$,\n",
    "\n",
    "$$\\E(P_n) = \\sum_{k=0}^n \\pi_k P^{(k)},$$\n",
    "\n",
    "where $P^{(k)}$ gives the price at terminal node $k$. The expected value is often denoted by the Greek letter $\\mu$ (“mu”)."
   ]
  },
  {
   "cell_type": "code",
   "execution_count": 6,
   "id": "5303aa2d-14e0-479c-8e2e-5f26c485da45",
   "metadata": {},
   "outputs": [
    {
     "data": {
      "text/plain": [
       "50.000000000000014"
      ]
     },
     "execution_count": 6,
     "metadata": {},
     "output_type": "execute_result"
    }
   ],
   "source": [
    "μ = (paths['prob'] * paths['price']).sum()\n",
    "\n",
    "μ"
   ]
  },
  {
   "cell_type": "markdown",
   "id": "5c5d2fcb-4b24-44a3-b662-83b3736a4ff0",
   "metadata": {},
   "source": [
    "Notice that the expected value is not a possible outcome: there is no path that ends with a price of 50. So while the mean might be one of the possible outcomes, there's not guarantee that it will be."
   ]
  },
  {
   "cell_type": "markdown",
   "id": "ca06629c-598a-41b8-b1ff-83a253907cb0",
   "metadata": {},
   "source": [
    "Closely related to the expected value is the *variance* of $P_n$. This is the probability-weighted sum of the squares of the difference between the price at each node and the expected value of $P_n$:\n",
    "\n",
    "$$\\var(P_n) = \\sum_{k=0}^n \\pi_k \\left(P^{(k)}-\\E(P_n)\\right)^2.$$\n",
    "\n",
    "Variance is often denoted by $\\sigma^2$ (\"sigma-squared\")."
   ]
  },
  {
   "cell_type": "code",
   "execution_count": 7,
   "id": "a89d545a-e85e-4526-82de-11d29632bfe0",
   "metadata": {},
   "outputs": [
    {
     "data": {
      "text/plain": [
       "3.749999999999999"
      ]
     },
     "execution_count": 7,
     "metadata": {},
     "output_type": "execute_result"
    }
   ],
   "source": [
    "(paths['prob'] * (paths['price'] - μ)**2).sum()"
   ]
  },
  {
   "cell_type": "markdown",
   "id": "95499273-43ad-4b8c-a498-9974a5bffda6",
   "metadata": {},
   "source": [
    "The *standard deviation* is the square root of the variance, and therefore denoted by $\\sigma$."
   ]
  },
  {
   "cell_type": "code",
   "execution_count": 8,
   "id": "84bbb5fe-003a-4aca-8f52-44cbf81a07e8",
   "metadata": {},
   "outputs": [],
   "source": [
    "def ms(paths):\n",
    "    '''Calculate the mean and standard deviation of the terminal price'''\n",
    "    μ = (paths['prob'] * paths['price']).sum()\n",
    "    return μ, np.sqrt((paths['prob'] * (paths['price'] - μ)**2).sum())"
   ]
  },
  {
   "cell_type": "code",
   "execution_count": 9,
   "id": "74b39eeb-9052-481c-9dfb-5236ef49cb6d",
   "metadata": {},
   "outputs": [
    {
     "data": {
      "text/plain": [
       "(50.000000000000014, 1.9364916731037083)"
      ]
     },
     "execution_count": 9,
     "metadata": {},
     "output_type": "execute_result"
    }
   ],
   "source": [
    "ms(paths)"
   ]
  },
  {
   "cell_type": "markdown",
   "id": "8f436ed2-4396-4c7f-8552-10dbccb52bd7",
   "metadata": {},
   "source": [
    "Consider how the distribution of possible outcomes changes as we increase the number of time steps."
   ]
  },
  {
   "cell_type": "code",
   "execution_count": 10,
   "id": "832993cc-90db-46bc-9d4e-81ce83682185",
   "metadata": {
    "tags": [
     "hide-input"
    ]
   },
   "outputs": [
    {
     "data": {
      "image/png": "[encoded data removed]",
      "text/plain": [
       "<Figure size 3200x1600 with 2 Axes>"
      ]
     },
     "metadata": {
      "filenames": {
       "image/png": "/Users/nstoffma/Dropbox/Teaching/QF Book/_build/jupyter_execute/01c prices_32_0.png"
      },
      "needs_background": "light"
     },
     "output_type": "display_data"
    }
   ],
   "source": [
    "def paths_dist(n, ax):\n",
    "    paths = make_paths(n)\n",
    "    ax.bar(paths['price'], paths['prob'], align='center')\n",
    "    ax.set_title('{} time steps: $\\mu$={:.0f}, $\\sigma$={:.2f}'.format(n, *ms(paths)))\n",
    "    return ax\n",
    "\n",
    "fig, (ax1, ax2) = plt.subplots(1, 2, figsize=(16,8))\n",
    "\n",
    "paths_dist(15, ax1)\n",
    "paths_dist(40, ax2)\n",
    "\n",
    "ax1.set_xlim(ax2.get_xlim())\n",
    "ax2.set_ylim(ax1.get_ylim())\n",
    "\n",
    "ax1.grid(alpha=0.3)\n",
    "ax2.grid(alpha=0.3)\n",
    "\n",
    "plt.show()"
   ]
  },
  {
   "cell_type": "markdown",
   "id": "1a7f632b-10bd-4901-84f2-99ad27600b1b",
   "metadata": {},
   "source": [
    ":::{admonition} Exercise\n",
    "\n",
    "What happens to this distribution when we change the probability, $\\pi$?\n",
    ":::"
   ]
  },
  {
   "cell_type": "markdown",
   "id": "377f0693-0518-49a8-9d74-ba06da5b1dd6",
   "metadata": {},
   "source": [
    "There are $2^n$ paths that a price can take over $n$ time steps. For example, with $n=25$ there are over 33.5 million paths."
   ]
  },
  {
   "cell_type": "code",
   "execution_count": 29,
   "id": "a3555a4d-350b-457c-87e6-dea0957223df",
   "metadata": {},
   "outputs": [
    {
     "name": "stdout",
     "output_type": "stream",
     "text": [
      "33,554,432\n"
     ]
    }
   ],
   "source": [
    "n = 25\n",
    "npaths = sum(binom(n, np.arange(n+1)))\n",
    "print('{:,.0f}'.format(npaths))"
   ]
  },
  {
   "cell_type": "markdown",
   "id": "532dec08-8ca0-4df2-bb6c-905bfdcbbf13",
   "metadata": {},
   "source": [
    "While the code below isn't a formal proof, it should convince you that\n",
    "\n",
    "$$\\sum_{k=0}^n \\binom{n}{k} = 2^n.$$"
   ]
  },
  {
   "cell_type": "code",
   "execution_count": 18,
   "id": "a3a1306f-44a6-40dc-9518-c5100ab964f5",
   "metadata": {},
   "outputs": [],
   "source": [
    "for n in [5, 10, 25, 50, 100]:\n",
    "    assert 2**n == sum(binom(n, np.arange(n+1)))"
   ]
  },
  {
   "cell_type": "markdown",
   "id": "c9181e46-e872-47b2-939b-d4b825357fb0",
   "metadata": {},
   "source": [
    ":::{admonition} Exercise\n",
    "\n",
    "Suppose we model each week of a year as being a single time step. How many possible paths are there to the terminal nodes?\n",
    ":::"
   ]
  },
  {
   "cell_type": "markdown",
   "id": "b6db1140-4369-4275-82a1-50c347d93183",
   "metadata": {},
   "source": [
    ":::{admonition} Solution\n",
    ":class: admonition-solution, dropdown\n",
    "\n",
    "\n",
    "With $n=52$ there are over 4.5 quadrillion paths:\n",
    "\n",
    "```python\n",
    "n = 52\n",
    "print('{:,.0f}'.format(2**n))\n",
    "```\n",
    "\n",
    "```md\n",
    "4,503,599,627,370,496\n",
    "```\n",
    "\n",
    ":::"
   ]
  }
 ],
 "metadata": {
  "kernelspec": {
   "display_name": "Python 3 (ipykernel)",
   "language": "python",
   "name": "python3"
  },
  "language_info": {
   "codemirror_mode": {
    "name": "ipython",
    "version": 3
   },
   "file_extension": ".py",
   "mimetype": "text/x-python",
   "name": "python",
   "nbconvert_exporter": "python",
   "pygments_lexer": "ipython3",
   "version": "3.9.12"
  }
 },
 "nbformat": 4,
 "nbformat_minor": 5
}