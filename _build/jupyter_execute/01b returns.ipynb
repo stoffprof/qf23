{
 "cells": [
  {
   "cell_type": "markdown",
   "metadata": {
    "slideshow": {
     "slide_type": "slide"
    }
   },
   "source": [
    "# Asset returns"
   ]
  },
  {
   "cell_type": "markdown",
   "metadata": {},
   "source": [
    "Let $P_t$ be the price of an asset at time $t$. We'll define the *gross return* on the asset over one period as\n",
    "\n",
    "$$1+R_t = \\frac{P_t + D_t}{P_{t-1}},$$\n",
    "\n",
    "where $D_t$ denotes the value of any dividends paid during the period.\n",
    "\n",
    "The *net return* is simply\n",
    "\n",
    "$$R_t = \\frac{P_t + D_t}{P_{t-1}} - 1 = \\frac{P_t - P_{t-1}}{P_{t-1}} + \\frac{D_t}{P_{t-1}}.$$\n",
    "\n",
    "The first term is the *capital gains yield* and the second is the *dividend yield*."
   ]
  },
  {
   "cell_type": "code",
   "execution_count": 3,
   "metadata": {
    "slideshow": {
     "slide_type": "fragment"
    },
    "tags": [
     "remove-cell"
    ]
   },
   "outputs": [],
   "source": [
    "import numpy as np\n",
    "import pandas as pd"
   ]
  },
  {
   "cell_type": "code",
   "execution_count": 10,
   "metadata": {
    "tags": [
     "remove-cell"
    ]
   },
   "outputs": [],
   "source": [
    "pd.options.display.max_rows = None"
   ]
  },
  {
   "cell_type": "markdown",
   "metadata": {},
   "source": [
    "As an example, we'll work with some historical price data for Apple, which we'll get from Yahoo! finance using [pandas-datareader](https://pydata.github.io/pandas-datareader/)."
   ]
  },
  {
   "cell_type": "code",
   "execution_count": 2,
   "metadata": {},
   "outputs": [],
   "source": [
    "import pandas_datareader as pdr\n",
    "\n",
    "# require version 10 or higher\n",
    "assert int(pdr.__version__.split('.')[1]) >= 10"
   ]
  },
  {
   "cell_type": "code",
   "execution_count": 93,
   "metadata": {
    "tags": []
   },
   "outputs": [],
   "source": [
    "prcs = pdr.get_data_yahoo('AAPL', 2019, 2021, get_actions=True)"
   ]
  },
  {
   "cell_type": "markdown",
   "metadata": {},
   "source": [
    "The data include the intraday high, low price, along with the opening and closing price as well as volume of shares traded. We can also see when a dividend was paid or a stock split occurred."
   ]
  },
  {
   "cell_type": "code",
   "execution_count": 95,
   "metadata": {
    "tags": [
     "output_scroll",
     "hide-input"
    ]
   },
   "outputs": [
    {
     "data": {
      "text/html": [
       "<style type=\"text/css\">\n",
       "#T_e26b8_row4_col6, #T_e26b8_row20_col7 {\n",
       "  background-color: lightgreen;\n",
       "}\n",
       "</style>\n",
       "<table id=\"T_e26b8\">\n",
       "  <thead>\n",
       "    <tr>\n",
       "      <th class=\"blank level0\" >&nbsp;</th>\n",
       "      <th id=\"T_e26b8_level0_col0\" class=\"col_heading level0 col0\" >High</th>\n",
       "      <th id=\"T_e26b8_level0_col1\" class=\"col_heading level0 col1\" >Low</th>\n",
       "      <th id=\"T_e26b8_level0_col2\" class=\"col_heading level0 col2\" >Open</th>\n",
       "      <th id=\"T_e26b8_level0_col3\" class=\"col_heading level0 col3\" >Close</th>\n",
       "      <th id=\"T_e26b8_level0_col4\" class=\"col_heading level0 col4\" >Volume</th>\n",
       "      <th id=\"T_e26b8_level0_col5\" class=\"col_heading level0 col5\" >Adj Close</th>\n",
       "      <th id=\"T_e26b8_level0_col6\" class=\"col_heading level0 col6\" >Dividends</th>\n",
       "      <th id=\"T_e26b8_level0_col7\" class=\"col_heading level0 col7\" >Splits</th>\n",
       "    </tr>\n",
       "    <tr>\n",
       "      <th class=\"index_name level0\" >Date</th>\n",
       "      <th class=\"blank col0\" >&nbsp;</th>\n",
       "      <th class=\"blank col1\" >&nbsp;</th>\n",
       "      <th class=\"blank col2\" >&nbsp;</th>\n",
       "      <th class=\"blank col3\" >&nbsp;</th>\n",
       "      <th class=\"blank col4\" >&nbsp;</th>\n",
       "      <th class=\"blank col5\" >&nbsp;</th>\n",
       "      <th class=\"blank col6\" >&nbsp;</th>\n",
       "      <th class=\"blank col7\" >&nbsp;</th>\n",
       "    </tr>\n",
       "  </thead>\n",
       "  <tbody>\n",
       "    <tr>\n",
       "      <th id=\"T_e26b8_level0_row0\" class=\"row_heading level0 row0\" >2020-08-03</th>\n",
       "      <td id=\"T_e26b8_row0_col0\" class=\"data row0 col0\" >111.64</td>\n",
       "      <td id=\"T_e26b8_row0_col1\" class=\"data row0 col1\" >107.89</td>\n",
       "      <td id=\"T_e26b8_row0_col2\" class=\"data row0 col2\" >108.20</td>\n",
       "      <td id=\"T_e26b8_row0_col3\" class=\"data row0 col3\" >108.94</td>\n",
       "      <td id=\"T_e26b8_row0_col4\" class=\"data row0 col4\" >308,151,200</td>\n",
       "      <td id=\"T_e26b8_row0_col5\" class=\"data row0 col5\" >107.44</td>\n",
       "      <td id=\"T_e26b8_row0_col6\" class=\"data row0 col6\" >–</td>\n",
       "      <td id=\"T_e26b8_row0_col7\" class=\"data row0 col7\" >–</td>\n",
       "    </tr>\n",
       "    <tr>\n",
       "      <th id=\"T_e26b8_level0_row1\" class=\"row_heading level0 row1\" >2020-08-04</th>\n",
       "      <td id=\"T_e26b8_row1_col0\" class=\"data row1 col0\" >110.79</td>\n",
       "      <td id=\"T_e26b8_row1_col1\" class=\"data row1 col1\" >108.39</td>\n",
       "      <td id=\"T_e26b8_row1_col2\" class=\"data row1 col2\" >109.13</td>\n",
       "      <td id=\"T_e26b8_row1_col3\" class=\"data row1 col3\" >109.67</td>\n",
       "      <td id=\"T_e26b8_row1_col4\" class=\"data row1 col4\" >173,071,600</td>\n",
       "      <td id=\"T_e26b8_row1_col5\" class=\"data row1 col5\" >108.16</td>\n",
       "      <td id=\"T_e26b8_row1_col6\" class=\"data row1 col6\" >–</td>\n",
       "      <td id=\"T_e26b8_row1_col7\" class=\"data row1 col7\" >–</td>\n",
       "    </tr>\n",
       "    <tr>\n",
       "      <th id=\"T_e26b8_level0_row2\" class=\"row_heading level0 row2\" >2020-08-05</th>\n",
       "      <td id=\"T_e26b8_row2_col0\" class=\"data row2 col0\" >110.39</td>\n",
       "      <td id=\"T_e26b8_row2_col1\" class=\"data row2 col1\" >108.90</td>\n",
       "      <td id=\"T_e26b8_row2_col2\" class=\"data row2 col2\" >109.38</td>\n",
       "      <td id=\"T_e26b8_row2_col3\" class=\"data row2 col3\" >110.06</td>\n",
       "      <td id=\"T_e26b8_row2_col4\" class=\"data row2 col4\" >121,776,800</td>\n",
       "      <td id=\"T_e26b8_row2_col5\" class=\"data row2 col5\" >108.55</td>\n",
       "      <td id=\"T_e26b8_row2_col6\" class=\"data row2 col6\" >–</td>\n",
       "      <td id=\"T_e26b8_row2_col7\" class=\"data row2 col7\" >–</td>\n",
       "    </tr>\n",
       "    <tr>\n",
       "      <th id=\"T_e26b8_level0_row3\" class=\"row_heading level0 row3\" >2020-08-06</th>\n",
       "      <td id=\"T_e26b8_row3_col0\" class=\"data row3 col0\" >114.41</td>\n",
       "      <td id=\"T_e26b8_row3_col1\" class=\"data row3 col1\" >109.80</td>\n",
       "      <td id=\"T_e26b8_row3_col2\" class=\"data row3 col2\" >110.40</td>\n",
       "      <td id=\"T_e26b8_row3_col3\" class=\"data row3 col3\" >113.90</td>\n",
       "      <td id=\"T_e26b8_row3_col4\" class=\"data row3 col4\" >202,428,800</td>\n",
       "      <td id=\"T_e26b8_row3_col5\" class=\"data row3 col5\" >112.34</td>\n",
       "      <td id=\"T_e26b8_row3_col6\" class=\"data row3 col6\" >–</td>\n",
       "      <td id=\"T_e26b8_row3_col7\" class=\"data row3 col7\" >–</td>\n",
       "    </tr>\n",
       "    <tr>\n",
       "      <th id=\"T_e26b8_level0_row4\" class=\"row_heading level0 row4\" >2020-08-07</th>\n",
       "      <td id=\"T_e26b8_row4_col0\" class=\"data row4 col0\" >113.68</td>\n",
       "      <td id=\"T_e26b8_row4_col1\" class=\"data row4 col1\" >110.29</td>\n",
       "      <td id=\"T_e26b8_row4_col2\" class=\"data row4 col2\" >113.21</td>\n",
       "      <td id=\"T_e26b8_row4_col3\" class=\"data row4 col3\" >111.11</td>\n",
       "      <td id=\"T_e26b8_row4_col4\" class=\"data row4 col4\" >198,045,600</td>\n",
       "      <td id=\"T_e26b8_row4_col5\" class=\"data row4 col5\" >109.79</td>\n",
       "      <td id=\"T_e26b8_row4_col6\" class=\"data row4 col6\" >0.20</td>\n",
       "      <td id=\"T_e26b8_row4_col7\" class=\"data row4 col7\" >–</td>\n",
       "    </tr>\n",
       "    <tr>\n",
       "      <th id=\"T_e26b8_level0_row5\" class=\"row_heading level0 row5\" >2020-08-10</th>\n",
       "      <td id=\"T_e26b8_row5_col0\" class=\"data row5 col0\" >113.78</td>\n",
       "      <td id=\"T_e26b8_row5_col1\" class=\"data row5 col1\" >110.00</td>\n",
       "      <td id=\"T_e26b8_row5_col2\" class=\"data row5 col2\" >112.60</td>\n",
       "      <td id=\"T_e26b8_row5_col3\" class=\"data row5 col3\" >112.73</td>\n",
       "      <td id=\"T_e26b8_row5_col4\" class=\"data row5 col4\" >212,403,600</td>\n",
       "      <td id=\"T_e26b8_row5_col5\" class=\"data row5 col5\" >111.38</td>\n",
       "      <td id=\"T_e26b8_row5_col6\" class=\"data row5 col6\" >–</td>\n",
       "      <td id=\"T_e26b8_row5_col7\" class=\"data row5 col7\" >–</td>\n",
       "    </tr>\n",
       "    <tr>\n",
       "      <th id=\"T_e26b8_level0_row6\" class=\"row_heading level0 row6\" >2020-08-11</th>\n",
       "      <td id=\"T_e26b8_row6_col0\" class=\"data row6 col0\" >112.48</td>\n",
       "      <td id=\"T_e26b8_row6_col1\" class=\"data row6 col1\" >109.11</td>\n",
       "      <td id=\"T_e26b8_row6_col2\" class=\"data row6 col2\" >111.97</td>\n",
       "      <td id=\"T_e26b8_row6_col3\" class=\"data row6 col3\" >109.38</td>\n",
       "      <td id=\"T_e26b8_row6_col4\" class=\"data row6 col4\" >187,902,400</td>\n",
       "      <td id=\"T_e26b8_row6_col5\" class=\"data row6 col5\" >108.07</td>\n",
       "      <td id=\"T_e26b8_row6_col6\" class=\"data row6 col6\" >–</td>\n",
       "      <td id=\"T_e26b8_row6_col7\" class=\"data row6 col7\" >–</td>\n",
       "    </tr>\n",
       "    <tr>\n",
       "      <th id=\"T_e26b8_level0_row7\" class=\"row_heading level0 row7\" >2020-08-12</th>\n",
       "      <td id=\"T_e26b8_row7_col0\" class=\"data row7 col0\" >113.28</td>\n",
       "      <td id=\"T_e26b8_row7_col1\" class=\"data row7 col1\" >110.30</td>\n",
       "      <td id=\"T_e26b8_row7_col2\" class=\"data row7 col2\" >110.50</td>\n",
       "      <td id=\"T_e26b8_row7_col3\" class=\"data row7 col3\" >113.01</td>\n",
       "      <td id=\"T_e26b8_row7_col4\" class=\"data row7 col4\" >165,598,000</td>\n",
       "      <td id=\"T_e26b8_row7_col5\" class=\"data row7 col5\" >111.66</td>\n",
       "      <td id=\"T_e26b8_row7_col6\" class=\"data row7 col6\" >–</td>\n",
       "      <td id=\"T_e26b8_row7_col7\" class=\"data row7 col7\" >–</td>\n",
       "    </tr>\n",
       "    <tr>\n",
       "      <th id=\"T_e26b8_level0_row8\" class=\"row_heading level0 row8\" >2020-08-13</th>\n",
       "      <td id=\"T_e26b8_row8_col0\" class=\"data row8 col0\" >116.04</td>\n",
       "      <td id=\"T_e26b8_row8_col1\" class=\"data row8 col1\" >113.93</td>\n",
       "      <td id=\"T_e26b8_row8_col2\" class=\"data row8 col2\" >114.43</td>\n",
       "      <td id=\"T_e26b8_row8_col3\" class=\"data row8 col3\" >115.01</td>\n",
       "      <td id=\"T_e26b8_row8_col4\" class=\"data row8 col4\" >210,082,000</td>\n",
       "      <td id=\"T_e26b8_row8_col5\" class=\"data row8 col5\" >113.64</td>\n",
       "      <td id=\"T_e26b8_row8_col6\" class=\"data row8 col6\" >–</td>\n",
       "      <td id=\"T_e26b8_row8_col7\" class=\"data row8 col7\" >–</td>\n",
       "    </tr>\n",
       "    <tr>\n",
       "      <th id=\"T_e26b8_level0_row9\" class=\"row_heading level0 row9\" >2020-08-14</th>\n",
       "      <td id=\"T_e26b8_row9_col0\" class=\"data row9 col0\" >115.00</td>\n",
       "      <td id=\"T_e26b8_row9_col1\" class=\"data row9 col1\" >113.04</td>\n",
       "      <td id=\"T_e26b8_row9_col2\" class=\"data row9 col2\" >114.83</td>\n",
       "      <td id=\"T_e26b8_row9_col3\" class=\"data row9 col3\" >114.91</td>\n",
       "      <td id=\"T_e26b8_row9_col4\" class=\"data row9 col4\" >165,565,200</td>\n",
       "      <td id=\"T_e26b8_row9_col5\" class=\"data row9 col5\" >113.54</td>\n",
       "      <td id=\"T_e26b8_row9_col6\" class=\"data row9 col6\" >–</td>\n",
       "      <td id=\"T_e26b8_row9_col7\" class=\"data row9 col7\" >–</td>\n",
       "    </tr>\n",
       "    <tr>\n",
       "      <th id=\"T_e26b8_level0_row10\" class=\"row_heading level0 row10\" >2020-08-17</th>\n",
       "      <td id=\"T_e26b8_row10_col0\" class=\"data row10 col0\" >116.09</td>\n",
       "      <td id=\"T_e26b8_row10_col1\" class=\"data row10 col1\" >113.96</td>\n",
       "      <td id=\"T_e26b8_row10_col2\" class=\"data row10 col2\" >116.06</td>\n",
       "      <td id=\"T_e26b8_row10_col3\" class=\"data row10 col3\" >114.61</td>\n",
       "      <td id=\"T_e26b8_row10_col4\" class=\"data row10 col4\" >119,561,600</td>\n",
       "      <td id=\"T_e26b8_row10_col5\" class=\"data row10 col5\" >113.24</td>\n",
       "      <td id=\"T_e26b8_row10_col6\" class=\"data row10 col6\" >–</td>\n",
       "      <td id=\"T_e26b8_row10_col7\" class=\"data row10 col7\" >–</td>\n",
       "    </tr>\n",
       "    <tr>\n",
       "      <th id=\"T_e26b8_level0_row11\" class=\"row_heading level0 row11\" >2020-08-18</th>\n",
       "      <td id=\"T_e26b8_row11_col0\" class=\"data row11 col0\" >116.00</td>\n",
       "      <td id=\"T_e26b8_row11_col1\" class=\"data row11 col1\" >114.01</td>\n",
       "      <td id=\"T_e26b8_row11_col2\" class=\"data row11 col2\" >114.35</td>\n",
       "      <td id=\"T_e26b8_row11_col3\" class=\"data row11 col3\" >115.56</td>\n",
       "      <td id=\"T_e26b8_row11_col4\" class=\"data row11 col4\" >105,633,600</td>\n",
       "      <td id=\"T_e26b8_row11_col5\" class=\"data row11 col5\" >114.18</td>\n",
       "      <td id=\"T_e26b8_row11_col6\" class=\"data row11 col6\" >–</td>\n",
       "      <td id=\"T_e26b8_row11_col7\" class=\"data row11 col7\" >–</td>\n",
       "    </tr>\n",
       "    <tr>\n",
       "      <th id=\"T_e26b8_level0_row12\" class=\"row_heading level0 row12\" >2020-08-19</th>\n",
       "      <td id=\"T_e26b8_row12_col0\" class=\"data row12 col0\" >117.16</td>\n",
       "      <td id=\"T_e26b8_row12_col1\" class=\"data row12 col1\" >115.61</td>\n",
       "      <td id=\"T_e26b8_row12_col2\" class=\"data row12 col2\" >115.98</td>\n",
       "      <td id=\"T_e26b8_row12_col3\" class=\"data row12 col3\" >115.71</td>\n",
       "      <td id=\"T_e26b8_row12_col4\" class=\"data row12 col4\" >145,538,000</td>\n",
       "      <td id=\"T_e26b8_row12_col5\" class=\"data row12 col5\" >114.33</td>\n",
       "      <td id=\"T_e26b8_row12_col6\" class=\"data row12 col6\" >–</td>\n",
       "      <td id=\"T_e26b8_row12_col7\" class=\"data row12 col7\" >–</td>\n",
       "    </tr>\n",
       "    <tr>\n",
       "      <th id=\"T_e26b8_level0_row13\" class=\"row_heading level0 row13\" >2020-08-20</th>\n",
       "      <td id=\"T_e26b8_row13_col0\" class=\"data row13 col0\" >118.39</td>\n",
       "      <td id=\"T_e26b8_row13_col1\" class=\"data row13 col1\" >115.73</td>\n",
       "      <td id=\"T_e26b8_row13_col2\" class=\"data row13 col2\" >115.75</td>\n",
       "      <td id=\"T_e26b8_row13_col3\" class=\"data row13 col3\" >118.28</td>\n",
       "      <td id=\"T_e26b8_row13_col4\" class=\"data row13 col4\" >126,907,200</td>\n",
       "      <td id=\"T_e26b8_row13_col5\" class=\"data row13 col5\" >116.86</td>\n",
       "      <td id=\"T_e26b8_row13_col6\" class=\"data row13 col6\" >–</td>\n",
       "      <td id=\"T_e26b8_row13_col7\" class=\"data row13 col7\" >–</td>\n",
       "    </tr>\n",
       "    <tr>\n",
       "      <th id=\"T_e26b8_level0_row14\" class=\"row_heading level0 row14\" >2020-08-21</th>\n",
       "      <td id=\"T_e26b8_row14_col0\" class=\"data row14 col0\" >124.87</td>\n",
       "      <td id=\"T_e26b8_row14_col1\" class=\"data row14 col1\" >119.25</td>\n",
       "      <td id=\"T_e26b8_row14_col2\" class=\"data row14 col2\" >119.26</td>\n",
       "      <td id=\"T_e26b8_row14_col3\" class=\"data row14 col3\" >124.37</td>\n",
       "      <td id=\"T_e26b8_row14_col4\" class=\"data row14 col4\" >338,054,800</td>\n",
       "      <td id=\"T_e26b8_row14_col5\" class=\"data row14 col5\" >122.89</td>\n",
       "      <td id=\"T_e26b8_row14_col6\" class=\"data row14 col6\" >–</td>\n",
       "      <td id=\"T_e26b8_row14_col7\" class=\"data row14 col7\" >–</td>\n",
       "    </tr>\n",
       "    <tr>\n",
       "      <th id=\"T_e26b8_level0_row15\" class=\"row_heading level0 row15\" >2020-08-24</th>\n",
       "      <td id=\"T_e26b8_row15_col0\" class=\"data row15 col0\" >128.79</td>\n",
       "      <td id=\"T_e26b8_row15_col1\" class=\"data row15 col1\" >123.94</td>\n",
       "      <td id=\"T_e26b8_row15_col2\" class=\"data row15 col2\" >128.70</td>\n",
       "      <td id=\"T_e26b8_row15_col3\" class=\"data row15 col3\" >125.86</td>\n",
       "      <td id=\"T_e26b8_row15_col4\" class=\"data row15 col4\" >345,937,600</td>\n",
       "      <td id=\"T_e26b8_row15_col5\" class=\"data row15 col5\" >124.36</td>\n",
       "      <td id=\"T_e26b8_row15_col6\" class=\"data row15 col6\" >–</td>\n",
       "      <td id=\"T_e26b8_row15_col7\" class=\"data row15 col7\" >–</td>\n",
       "    </tr>\n",
       "    <tr>\n",
       "      <th id=\"T_e26b8_level0_row16\" class=\"row_heading level0 row16\" >2020-08-25</th>\n",
       "      <td id=\"T_e26b8_row16_col0\" class=\"data row16 col0\" >125.18</td>\n",
       "      <td id=\"T_e26b8_row16_col1\" class=\"data row16 col1\" >123.05</td>\n",
       "      <td id=\"T_e26b8_row16_col2\" class=\"data row16 col2\" >124.70</td>\n",
       "      <td id=\"T_e26b8_row16_col3\" class=\"data row16 col3\" >124.82</td>\n",
       "      <td id=\"T_e26b8_row16_col4\" class=\"data row16 col4\" >211,495,600</td>\n",
       "      <td id=\"T_e26b8_row16_col5\" class=\"data row16 col5\" >123.34</td>\n",
       "      <td id=\"T_e26b8_row16_col6\" class=\"data row16 col6\" >–</td>\n",
       "      <td id=\"T_e26b8_row16_col7\" class=\"data row16 col7\" >–</td>\n",
       "    </tr>\n",
       "    <tr>\n",
       "      <th id=\"T_e26b8_level0_row17\" class=\"row_heading level0 row17\" >2020-08-26</th>\n",
       "      <td id=\"T_e26b8_row17_col0\" class=\"data row17 col0\" >126.99</td>\n",
       "      <td id=\"T_e26b8_row17_col1\" class=\"data row17 col1\" >125.08</td>\n",
       "      <td id=\"T_e26b8_row17_col2\" class=\"data row17 col2\" >126.18</td>\n",
       "      <td id=\"T_e26b8_row17_col3\" class=\"data row17 col3\" >126.52</td>\n",
       "      <td id=\"T_e26b8_row17_col4\" class=\"data row17 col4\" >163,022,400</td>\n",
       "      <td id=\"T_e26b8_row17_col5\" class=\"data row17 col5\" >125.01</td>\n",
       "      <td id=\"T_e26b8_row17_col6\" class=\"data row17 col6\" >–</td>\n",
       "      <td id=\"T_e26b8_row17_col7\" class=\"data row17 col7\" >–</td>\n",
       "    </tr>\n",
       "    <tr>\n",
       "      <th id=\"T_e26b8_level0_row18\" class=\"row_heading level0 row18\" >2020-08-27</th>\n",
       "      <td id=\"T_e26b8_row18_col0\" class=\"data row18 col0\" >127.49</td>\n",
       "      <td id=\"T_e26b8_row18_col1\" class=\"data row18 col1\" >123.83</td>\n",
       "      <td id=\"T_e26b8_row18_col2\" class=\"data row18 col2\" >127.14</td>\n",
       "      <td id=\"T_e26b8_row18_col3\" class=\"data row18 col3\" >125.01</td>\n",
       "      <td id=\"T_e26b8_row18_col4\" class=\"data row18 col4\" >155,552,400</td>\n",
       "      <td id=\"T_e26b8_row18_col5\" class=\"data row18 col5\" >123.52</td>\n",
       "      <td id=\"T_e26b8_row18_col6\" class=\"data row18 col6\" >–</td>\n",
       "      <td id=\"T_e26b8_row18_col7\" class=\"data row18 col7\" >–</td>\n",
       "    </tr>\n",
       "    <tr>\n",
       "      <th id=\"T_e26b8_level0_row19\" class=\"row_heading level0 row19\" >2020-08-28</th>\n",
       "      <td id=\"T_e26b8_row19_col0\" class=\"data row19 col0\" >126.44</td>\n",
       "      <td id=\"T_e26b8_row19_col1\" class=\"data row19 col1\" >124.58</td>\n",
       "      <td id=\"T_e26b8_row19_col2\" class=\"data row19 col2\" >126.01</td>\n",
       "      <td id=\"T_e26b8_row19_col3\" class=\"data row19 col3\" >124.81</td>\n",
       "      <td id=\"T_e26b8_row19_col4\" class=\"data row19 col4\" >187,630,000</td>\n",
       "      <td id=\"T_e26b8_row19_col5\" class=\"data row19 col5\" >123.32</td>\n",
       "      <td id=\"T_e26b8_row19_col6\" class=\"data row19 col6\" >–</td>\n",
       "      <td id=\"T_e26b8_row19_col7\" class=\"data row19 col7\" >–</td>\n",
       "    </tr>\n",
       "    <tr>\n",
       "      <th id=\"T_e26b8_level0_row20\" class=\"row_heading level0 row20\" >2020-08-31</th>\n",
       "      <td id=\"T_e26b8_row20_col0\" class=\"data row20 col0\" >131.00</td>\n",
       "      <td id=\"T_e26b8_row20_col1\" class=\"data row20 col1\" >126.00</td>\n",
       "      <td id=\"T_e26b8_row20_col2\" class=\"data row20 col2\" >127.58</td>\n",
       "      <td id=\"T_e26b8_row20_col3\" class=\"data row20 col3\" >129.04</td>\n",
       "      <td id=\"T_e26b8_row20_col4\" class=\"data row20 col4\" >225,702,700</td>\n",
       "      <td id=\"T_e26b8_row20_col5\" class=\"data row20 col5\" >127.50</td>\n",
       "      <td id=\"T_e26b8_row20_col6\" class=\"data row20 col6\" >–</td>\n",
       "      <td id=\"T_e26b8_row20_col7\" class=\"data row20 col7\" >0.25</td>\n",
       "    </tr>\n",
       "    <tr>\n",
       "      <th id=\"T_e26b8_level0_row21\" class=\"row_heading level0 row21\" >2020-09-01</th>\n",
       "      <td id=\"T_e26b8_row21_col0\" class=\"data row21 col0\" >134.80</td>\n",
       "      <td id=\"T_e26b8_row21_col1\" class=\"data row21 col1\" >130.53</td>\n",
       "      <td id=\"T_e26b8_row21_col2\" class=\"data row21 col2\" >132.76</td>\n",
       "      <td id=\"T_e26b8_row21_col3\" class=\"data row21 col3\" >134.18</td>\n",
       "      <td id=\"T_e26b8_row21_col4\" class=\"data row21 col4\" >151,948,100</td>\n",
       "      <td id=\"T_e26b8_row21_col5\" class=\"data row21 col5\" >132.58</td>\n",
       "      <td id=\"T_e26b8_row21_col6\" class=\"data row21 col6\" >–</td>\n",
       "      <td id=\"T_e26b8_row21_col7\" class=\"data row21 col7\" >–</td>\n",
       "    </tr>\n",
       "    <tr>\n",
       "      <th id=\"T_e26b8_level0_row22\" class=\"row_heading level0 row22\" >2020-09-02</th>\n",
       "      <td id=\"T_e26b8_row22_col0\" class=\"data row22 col0\" >137.98</td>\n",
       "      <td id=\"T_e26b8_row22_col1\" class=\"data row22 col1\" >127.00</td>\n",
       "      <td id=\"T_e26b8_row22_col2\" class=\"data row22 col2\" >137.59</td>\n",
       "      <td id=\"T_e26b8_row22_col3\" class=\"data row22 col3\" >131.40</td>\n",
       "      <td id=\"T_e26b8_row22_col4\" class=\"data row22 col4\" >200,119,000</td>\n",
       "      <td id=\"T_e26b8_row22_col5\" class=\"data row22 col5\" >129.83</td>\n",
       "      <td id=\"T_e26b8_row22_col6\" class=\"data row22 col6\" >–</td>\n",
       "      <td id=\"T_e26b8_row22_col7\" class=\"data row22 col7\" >–</td>\n",
       "    </tr>\n",
       "    <tr>\n",
       "      <th id=\"T_e26b8_level0_row23\" class=\"row_heading level0 row23\" >2020-09-03</th>\n",
       "      <td id=\"T_e26b8_row23_col0\" class=\"data row23 col0\" >128.84</td>\n",
       "      <td id=\"T_e26b8_row23_col1\" class=\"data row23 col1\" >120.50</td>\n",
       "      <td id=\"T_e26b8_row23_col2\" class=\"data row23 col2\" >126.91</td>\n",
       "      <td id=\"T_e26b8_row23_col3\" class=\"data row23 col3\" >120.88</td>\n",
       "      <td id=\"T_e26b8_row23_col4\" class=\"data row23 col4\" >257,599,600</td>\n",
       "      <td id=\"T_e26b8_row23_col5\" class=\"data row23 col5\" >119.44</td>\n",
       "      <td id=\"T_e26b8_row23_col6\" class=\"data row23 col6\" >–</td>\n",
       "      <td id=\"T_e26b8_row23_col7\" class=\"data row23 col7\" >–</td>\n",
       "    </tr>\n",
       "    <tr>\n",
       "      <th id=\"T_e26b8_level0_row24\" class=\"row_heading level0 row24\" >2020-09-04</th>\n",
       "      <td id=\"T_e26b8_row24_col0\" class=\"data row24 col0\" >123.70</td>\n",
       "      <td id=\"T_e26b8_row24_col1\" class=\"data row24 col1\" >110.89</td>\n",
       "      <td id=\"T_e26b8_row24_col2\" class=\"data row24 col2\" >120.07</td>\n",
       "      <td id=\"T_e26b8_row24_col3\" class=\"data row24 col3\" >120.96</td>\n",
       "      <td id=\"T_e26b8_row24_col4\" class=\"data row24 col4\" >332,607,200</td>\n",
       "      <td id=\"T_e26b8_row24_col5\" class=\"data row24 col5\" >119.52</td>\n",
       "      <td id=\"T_e26b8_row24_col6\" class=\"data row24 col6\" >–</td>\n",
       "      <td id=\"T_e26b8_row24_col7\" class=\"data row24 col7\" >–</td>\n",
       "    </tr>\n",
       "    <tr>\n",
       "      <th id=\"T_e26b8_level0_row25\" class=\"row_heading level0 row25\" >2020-09-08</th>\n",
       "      <td id=\"T_e26b8_row25_col0\" class=\"data row25 col0\" >118.99</td>\n",
       "      <td id=\"T_e26b8_row25_col1\" class=\"data row25 col1\" >112.68</td>\n",
       "      <td id=\"T_e26b8_row25_col2\" class=\"data row25 col2\" >113.95</td>\n",
       "      <td id=\"T_e26b8_row25_col3\" class=\"data row25 col3\" >112.82</td>\n",
       "      <td id=\"T_e26b8_row25_col4\" class=\"data row25 col4\" >231,366,600</td>\n",
       "      <td id=\"T_e26b8_row25_col5\" class=\"data row25 col5\" >111.47</td>\n",
       "      <td id=\"T_e26b8_row25_col6\" class=\"data row25 col6\" >–</td>\n",
       "      <td id=\"T_e26b8_row25_col7\" class=\"data row25 col7\" >–</td>\n",
       "    </tr>\n",
       "    <tr>\n",
       "      <th id=\"T_e26b8_level0_row26\" class=\"row_heading level0 row26\" >2020-09-09</th>\n",
       "      <td id=\"T_e26b8_row26_col0\" class=\"data row26 col0\" >119.14</td>\n",
       "      <td id=\"T_e26b8_row26_col1\" class=\"data row26 col1\" >115.26</td>\n",
       "      <td id=\"T_e26b8_row26_col2\" class=\"data row26 col2\" >117.26</td>\n",
       "      <td id=\"T_e26b8_row26_col3\" class=\"data row26 col3\" >117.32</td>\n",
       "      <td id=\"T_e26b8_row26_col4\" class=\"data row26 col4\" >176,940,500</td>\n",
       "      <td id=\"T_e26b8_row26_col5\" class=\"data row26 col5\" >115.92</td>\n",
       "      <td id=\"T_e26b8_row26_col6\" class=\"data row26 col6\" >–</td>\n",
       "      <td id=\"T_e26b8_row26_col7\" class=\"data row26 col7\" >–</td>\n",
       "    </tr>\n",
       "    <tr>\n",
       "      <th id=\"T_e26b8_level0_row27\" class=\"row_heading level0 row27\" >2020-09-10</th>\n",
       "      <td id=\"T_e26b8_row27_col0\" class=\"data row27 col0\" >120.50</td>\n",
       "      <td id=\"T_e26b8_row27_col1\" class=\"data row27 col1\" >112.50</td>\n",
       "      <td id=\"T_e26b8_row27_col2\" class=\"data row27 col2\" >120.36</td>\n",
       "      <td id=\"T_e26b8_row27_col3\" class=\"data row27 col3\" >113.49</td>\n",
       "      <td id=\"T_e26b8_row27_col4\" class=\"data row27 col4\" >182,274,400</td>\n",
       "      <td id=\"T_e26b8_row27_col5\" class=\"data row27 col5\" >112.14</td>\n",
       "      <td id=\"T_e26b8_row27_col6\" class=\"data row27 col6\" >–</td>\n",
       "      <td id=\"T_e26b8_row27_col7\" class=\"data row27 col7\" >–</td>\n",
       "    </tr>\n",
       "    <tr>\n",
       "      <th id=\"T_e26b8_level0_row28\" class=\"row_heading level0 row28\" >2020-09-11</th>\n",
       "      <td id=\"T_e26b8_row28_col0\" class=\"data row28 col0\" >115.23</td>\n",
       "      <td id=\"T_e26b8_row28_col1\" class=\"data row28 col1\" >110.00</td>\n",
       "      <td id=\"T_e26b8_row28_col2\" class=\"data row28 col2\" >114.57</td>\n",
       "      <td id=\"T_e26b8_row28_col3\" class=\"data row28 col3\" >112.00</td>\n",
       "      <td id=\"T_e26b8_row28_col4\" class=\"data row28 col4\" >180,860,300</td>\n",
       "      <td id=\"T_e26b8_row28_col5\" class=\"data row28 col5\" >110.66</td>\n",
       "      <td id=\"T_e26b8_row28_col6\" class=\"data row28 col6\" >–</td>\n",
       "      <td id=\"T_e26b8_row28_col7\" class=\"data row28 col7\" >–</td>\n",
       "    </tr>\n",
       "    <tr>\n",
       "      <th id=\"T_e26b8_level0_row29\" class=\"row_heading level0 row29\" >2020-09-14</th>\n",
       "      <td id=\"T_e26b8_row29_col0\" class=\"data row29 col0\" >115.93</td>\n",
       "      <td id=\"T_e26b8_row29_col1\" class=\"data row29 col1\" >112.80</td>\n",
       "      <td id=\"T_e26b8_row29_col2\" class=\"data row29 col2\" >114.72</td>\n",
       "      <td id=\"T_e26b8_row29_col3\" class=\"data row29 col3\" >115.36</td>\n",
       "      <td id=\"T_e26b8_row29_col4\" class=\"data row29 col4\" >140,150,100</td>\n",
       "      <td id=\"T_e26b8_row29_col5\" class=\"data row29 col5\" >113.98</td>\n",
       "      <td id=\"T_e26b8_row29_col6\" class=\"data row29 col6\" >–</td>\n",
       "      <td id=\"T_e26b8_row29_col7\" class=\"data row29 col7\" >–</td>\n",
       "    </tr>\n",
       "    <tr>\n",
       "      <th id=\"T_e26b8_level0_row30\" class=\"row_heading level0 row30\" >2020-09-15</th>\n",
       "      <td id=\"T_e26b8_row30_col0\" class=\"data row30 col0\" >118.83</td>\n",
       "      <td id=\"T_e26b8_row30_col1\" class=\"data row30 col1\" >113.61</td>\n",
       "      <td id=\"T_e26b8_row30_col2\" class=\"data row30 col2\" >118.33</td>\n",
       "      <td id=\"T_e26b8_row30_col3\" class=\"data row30 col3\" >115.54</td>\n",
       "      <td id=\"T_e26b8_row30_col4\" class=\"data row30 col4\" >184,642,000</td>\n",
       "      <td id=\"T_e26b8_row30_col5\" class=\"data row30 col5\" >114.16</td>\n",
       "      <td id=\"T_e26b8_row30_col6\" class=\"data row30 col6\" >–</td>\n",
       "      <td id=\"T_e26b8_row30_col7\" class=\"data row30 col7\" >–</td>\n",
       "    </tr>\n",
       "    <tr>\n",
       "      <th id=\"T_e26b8_level0_row31\" class=\"row_heading level0 row31\" >2020-09-16</th>\n",
       "      <td id=\"T_e26b8_row31_col0\" class=\"data row31 col0\" >116.00</td>\n",
       "      <td id=\"T_e26b8_row31_col1\" class=\"data row31 col1\" >112.04</td>\n",
       "      <td id=\"T_e26b8_row31_col2\" class=\"data row31 col2\" >115.23</td>\n",
       "      <td id=\"T_e26b8_row31_col3\" class=\"data row31 col3\" >112.13</td>\n",
       "      <td id=\"T_e26b8_row31_col4\" class=\"data row31 col4\" >154,679,000</td>\n",
       "      <td id=\"T_e26b8_row31_col5\" class=\"data row31 col5\" >110.79</td>\n",
       "      <td id=\"T_e26b8_row31_col6\" class=\"data row31 col6\" >–</td>\n",
       "      <td id=\"T_e26b8_row31_col7\" class=\"data row31 col7\" >–</td>\n",
       "    </tr>\n",
       "    <tr>\n",
       "      <th id=\"T_e26b8_level0_row32\" class=\"row_heading level0 row32\" >2020-09-17</th>\n",
       "      <td id=\"T_e26b8_row32_col0\" class=\"data row32 col0\" >112.20</td>\n",
       "      <td id=\"T_e26b8_row32_col1\" class=\"data row32 col1\" >108.71</td>\n",
       "      <td id=\"T_e26b8_row32_col2\" class=\"data row32 col2\" >109.72</td>\n",
       "      <td id=\"T_e26b8_row32_col3\" class=\"data row32 col3\" >110.34</td>\n",
       "      <td id=\"T_e26b8_row32_col4\" class=\"data row32 col4\" >178,011,000</td>\n",
       "      <td id=\"T_e26b8_row32_col5\" class=\"data row32 col5\" >109.02</td>\n",
       "      <td id=\"T_e26b8_row32_col6\" class=\"data row32 col6\" >–</td>\n",
       "      <td id=\"T_e26b8_row32_col7\" class=\"data row32 col7\" >–</td>\n",
       "    </tr>\n",
       "    <tr>\n",
       "      <th id=\"T_e26b8_level0_row33\" class=\"row_heading level0 row33\" >2020-09-18</th>\n",
       "      <td id=\"T_e26b8_row33_col0\" class=\"data row33 col0\" >110.88</td>\n",
       "      <td id=\"T_e26b8_row33_col1\" class=\"data row33 col1\" >106.09</td>\n",
       "      <td id=\"T_e26b8_row33_col2\" class=\"data row33 col2\" >110.40</td>\n",
       "      <td id=\"T_e26b8_row33_col3\" class=\"data row33 col3\" >106.84</td>\n",
       "      <td id=\"T_e26b8_row33_col4\" class=\"data row33 col4\" >287,104,900</td>\n",
       "      <td id=\"T_e26b8_row33_col5\" class=\"data row33 col5\" >105.57</td>\n",
       "      <td id=\"T_e26b8_row33_col6\" class=\"data row33 col6\" >–</td>\n",
       "      <td id=\"T_e26b8_row33_col7\" class=\"data row33 col7\" >–</td>\n",
       "    </tr>\n",
       "    <tr>\n",
       "      <th id=\"T_e26b8_level0_row34\" class=\"row_heading level0 row34\" >2020-09-21</th>\n",
       "      <td id=\"T_e26b8_row34_col0\" class=\"data row34 col0\" >110.19</td>\n",
       "      <td id=\"T_e26b8_row34_col1\" class=\"data row34 col1\" >103.10</td>\n",
       "      <td id=\"T_e26b8_row34_col2\" class=\"data row34 col2\" >104.54</td>\n",
       "      <td id=\"T_e26b8_row34_col3\" class=\"data row34 col3\" >110.08</td>\n",
       "      <td id=\"T_e26b8_row34_col4\" class=\"data row34 col4\" >195,713,800</td>\n",
       "      <td id=\"T_e26b8_row34_col5\" class=\"data row34 col5\" >108.77</td>\n",
       "      <td id=\"T_e26b8_row34_col6\" class=\"data row34 col6\" >–</td>\n",
       "      <td id=\"T_e26b8_row34_col7\" class=\"data row34 col7\" >–</td>\n",
       "    </tr>\n",
       "    <tr>\n",
       "      <th id=\"T_e26b8_level0_row35\" class=\"row_heading level0 row35\" >2020-09-22</th>\n",
       "      <td id=\"T_e26b8_row35_col0\" class=\"data row35 col0\" >112.86</td>\n",
       "      <td id=\"T_e26b8_row35_col1\" class=\"data row35 col1\" >109.16</td>\n",
       "      <td id=\"T_e26b8_row35_col2\" class=\"data row35 col2\" >112.68</td>\n",
       "      <td id=\"T_e26b8_row35_col3\" class=\"data row35 col3\" >111.81</td>\n",
       "      <td id=\"T_e26b8_row35_col4\" class=\"data row35 col4\" >183,055,400</td>\n",
       "      <td id=\"T_e26b8_row35_col5\" class=\"data row35 col5\" >110.48</td>\n",
       "      <td id=\"T_e26b8_row35_col6\" class=\"data row35 col6\" >–</td>\n",
       "      <td id=\"T_e26b8_row35_col7\" class=\"data row35 col7\" >–</td>\n",
       "    </tr>\n",
       "    <tr>\n",
       "      <th id=\"T_e26b8_level0_row36\" class=\"row_heading level0 row36\" >2020-09-23</th>\n",
       "      <td id=\"T_e26b8_row36_col0\" class=\"data row36 col0\" >112.11</td>\n",
       "      <td id=\"T_e26b8_row36_col1\" class=\"data row36 col1\" >106.77</td>\n",
       "      <td id=\"T_e26b8_row36_col2\" class=\"data row36 col2\" >111.62</td>\n",
       "      <td id=\"T_e26b8_row36_col3\" class=\"data row36 col3\" >107.12</td>\n",
       "      <td id=\"T_e26b8_row36_col4\" class=\"data row36 col4\" >150,718,700</td>\n",
       "      <td id=\"T_e26b8_row36_col5\" class=\"data row36 col5\" >105.84</td>\n",
       "      <td id=\"T_e26b8_row36_col6\" class=\"data row36 col6\" >–</td>\n",
       "      <td id=\"T_e26b8_row36_col7\" class=\"data row36 col7\" >–</td>\n",
       "    </tr>\n",
       "    <tr>\n",
       "      <th id=\"T_e26b8_level0_row37\" class=\"row_heading level0 row37\" >2020-09-24</th>\n",
       "      <td id=\"T_e26b8_row37_col0\" class=\"data row37 col0\" >110.25</td>\n",
       "      <td id=\"T_e26b8_row37_col1\" class=\"data row37 col1\" >105.00</td>\n",
       "      <td id=\"T_e26b8_row37_col2\" class=\"data row37 col2\" >105.17</td>\n",
       "      <td id=\"T_e26b8_row37_col3\" class=\"data row37 col3\" >108.22</td>\n",
       "      <td id=\"T_e26b8_row37_col4\" class=\"data row37 col4\" >167,743,300</td>\n",
       "      <td id=\"T_e26b8_row37_col5\" class=\"data row37 col5\" >106.93</td>\n",
       "      <td id=\"T_e26b8_row37_col6\" class=\"data row37 col6\" >–</td>\n",
       "      <td id=\"T_e26b8_row37_col7\" class=\"data row37 col7\" >–</td>\n",
       "    </tr>\n",
       "    <tr>\n",
       "      <th id=\"T_e26b8_level0_row38\" class=\"row_heading level0 row38\" >2020-09-25</th>\n",
       "      <td id=\"T_e26b8_row38_col0\" class=\"data row38 col0\" >112.44</td>\n",
       "      <td id=\"T_e26b8_row38_col1\" class=\"data row38 col1\" >107.67</td>\n",
       "      <td id=\"T_e26b8_row38_col2\" class=\"data row38 col2\" >108.43</td>\n",
       "      <td id=\"T_e26b8_row38_col3\" class=\"data row38 col3\" >112.28</td>\n",
       "      <td id=\"T_e26b8_row38_col4\" class=\"data row38 col4\" >149,981,400</td>\n",
       "      <td id=\"T_e26b8_row38_col5\" class=\"data row38 col5\" >110.94</td>\n",
       "      <td id=\"T_e26b8_row38_col6\" class=\"data row38 col6\" >–</td>\n",
       "      <td id=\"T_e26b8_row38_col7\" class=\"data row38 col7\" >–</td>\n",
       "    </tr>\n",
       "    <tr>\n",
       "      <th id=\"T_e26b8_level0_row39\" class=\"row_heading level0 row39\" >2020-09-28</th>\n",
       "      <td id=\"T_e26b8_row39_col0\" class=\"data row39 col0\" >115.32</td>\n",
       "      <td id=\"T_e26b8_row39_col1\" class=\"data row39 col1\" >112.78</td>\n",
       "      <td id=\"T_e26b8_row39_col2\" class=\"data row39 col2\" >115.01</td>\n",
       "      <td id=\"T_e26b8_row39_col3\" class=\"data row39 col3\" >114.96</td>\n",
       "      <td id=\"T_e26b8_row39_col4\" class=\"data row39 col4\" >137,672,400</td>\n",
       "      <td id=\"T_e26b8_row39_col5\" class=\"data row39 col5\" >113.59</td>\n",
       "      <td id=\"T_e26b8_row39_col6\" class=\"data row39 col6\" >–</td>\n",
       "      <td id=\"T_e26b8_row39_col7\" class=\"data row39 col7\" >–</td>\n",
       "    </tr>\n",
       "    <tr>\n",
       "      <th id=\"T_e26b8_level0_row40\" class=\"row_heading level0 row40\" >2020-09-29</th>\n",
       "      <td id=\"T_e26b8_row40_col0\" class=\"data row40 col0\" >115.31</td>\n",
       "      <td id=\"T_e26b8_row40_col1\" class=\"data row40 col1\" >113.57</td>\n",
       "      <td id=\"T_e26b8_row40_col2\" class=\"data row40 col2\" >114.55</td>\n",
       "      <td id=\"T_e26b8_row40_col3\" class=\"data row40 col3\" >114.09</td>\n",
       "      <td id=\"T_e26b8_row40_col4\" class=\"data row40 col4\" >99,382,200</td>\n",
       "      <td id=\"T_e26b8_row40_col5\" class=\"data row40 col5\" >112.73</td>\n",
       "      <td id=\"T_e26b8_row40_col6\" class=\"data row40 col6\" >–</td>\n",
       "      <td id=\"T_e26b8_row40_col7\" class=\"data row40 col7\" >–</td>\n",
       "    </tr>\n",
       "    <tr>\n",
       "      <th id=\"T_e26b8_level0_row41\" class=\"row_heading level0 row41\" >2020-09-30</th>\n",
       "      <td id=\"T_e26b8_row41_col0\" class=\"data row41 col0\" >117.26</td>\n",
       "      <td id=\"T_e26b8_row41_col1\" class=\"data row41 col1\" >113.62</td>\n",
       "      <td id=\"T_e26b8_row41_col2\" class=\"data row41 col2\" >113.79</td>\n",
       "      <td id=\"T_e26b8_row41_col3\" class=\"data row41 col3\" >115.81</td>\n",
       "      <td id=\"T_e26b8_row41_col4\" class=\"data row41 col4\" >142,675,200</td>\n",
       "      <td id=\"T_e26b8_row41_col5\" class=\"data row41 col5\" >114.43</td>\n",
       "      <td id=\"T_e26b8_row41_col6\" class=\"data row41 col6\" >–</td>\n",
       "      <td id=\"T_e26b8_row41_col7\" class=\"data row41 col7\" >–</td>\n",
       "    </tr>\n",
       "  </tbody>\n",
       "</table>\n"
      ],
      "text/plain": [
       "<pandas.io.formats.style.Styler at 0x7f918ffb5280>"
      ]
     },
     "execution_count": 95,
     "metadata": {},
     "output_type": "execute_result"
    }
   ],
   "source": [
    "(prcs.loc['2020-08':'2020-09']\n",
    "    .style.format_index(lambda s: s.strftime(\"%Y-%m-%d\"))\n",
    "    .format(precision=2, na_rep='–')\n",
    "    .format(formatter='{:,.0f}', subset=['Volume'])\n",
    "    .applymap(lambda x: 'background-color: lightgreen' if x>0 else '', subset=['Dividends', 'Splits'])\n",
    ")"
   ]
  },
  {
   "cell_type": "markdown",
   "metadata": {},
   "source": [
    "<span class=\"tex2jax_ignore\">All of the price data are adjusted for stock splits, meaning that they reflect the number of shares outstanding after the split. For example, we can see that Apple had a 4-for-1 split on August 31, 2020. So while the closing price the day before shows &#36;124.81, in reality the closing price that day was &#36;499.23.</span>"
   ]
  },
  {
   "cell_type": "markdown",
   "metadata": {},
   "source": [
    ":::{Note}\n",
    "\n",
    "The *adjusted close* [also adjusts](https://help.yahoo.com/kb/SLN28256.html) for dividend payments, but does so in a way that a nonstandard way, so we will not use this series.\n",
    "\n",
    ":::"
   ]
  },
  {
   "cell_type": "markdown",
   "metadata": {},
   "source": [
    "We can calculate two return series:\n",
    "\n",
    "- The capital gains yield, which is simply the percent change in the price series. We'll call this `retx` since this return excludes any dividend payments.\n",
    "- The total return, which includes dividends. We'll call this `ret`.\n",
    "\n",
    "The two returns will be the same whenever no dividend is paid."
   ]
  },
  {
   "cell_type": "code",
   "execution_count": 134,
   "metadata": {},
   "outputs": [
    {
     "data": {
      "text/html": [
       "<div>\n",
       "<style scoped>\n",
       "    .dataframe tbody tr th:only-of-type {\n",
       "        vertical-align: middle;\n",
       "    }\n",
       "\n",
       "    .dataframe tbody tr th {\n",
       "        vertical-align: top;\n",
       "    }\n",
       "\n",
       "    .dataframe thead th {\n",
       "        text-align: right;\n",
       "    }\n",
       "</style>\n",
       "<table border=\"1\" class=\"dataframe\">\n",
       "  <thead>\n",
       "    <tr style=\"text-align: right;\">\n",
       "      <th></th>\n",
       "      <th>Dividends</th>\n",
       "      <th>retx</th>\n",
       "      <th>ret</th>\n",
       "    </tr>\n",
       "    <tr>\n",
       "      <th>Date</th>\n",
       "      <th></th>\n",
       "      <th></th>\n",
       "      <th></th>\n",
       "    </tr>\n",
       "  </thead>\n",
       "  <tbody>\n",
       "    <tr>\n",
       "      <th>2020-08-03</th>\n",
       "      <td>NaN</td>\n",
       "      <td>0.025198</td>\n",
       "      <td>0.025198</td>\n",
       "    </tr>\n",
       "    <tr>\n",
       "      <th>2020-08-04</th>\n",
       "      <td>NaN</td>\n",
       "      <td>0.006678</td>\n",
       "      <td>0.006678</td>\n",
       "    </tr>\n",
       "    <tr>\n",
       "      <th>2020-08-05</th>\n",
       "      <td>NaN</td>\n",
       "      <td>0.003625</td>\n",
       "      <td>0.003625</td>\n",
       "    </tr>\n",
       "    <tr>\n",
       "      <th>2020-08-06</th>\n",
       "      <td>NaN</td>\n",
       "      <td>0.034889</td>\n",
       "      <td>0.034889</td>\n",
       "    </tr>\n",
       "    <tr>\n",
       "      <th>2020-08-07</th>\n",
       "      <td>0.205</td>\n",
       "      <td>-0.024495</td>\n",
       "      <td>-0.022695</td>\n",
       "    </tr>\n",
       "    <tr>\n",
       "      <th>2020-08-10</th>\n",
       "      <td>NaN</td>\n",
       "      <td>0.014535</td>\n",
       "      <td>0.014535</td>\n",
       "    </tr>\n",
       "  </tbody>\n",
       "</table>\n",
       "</div>"
      ],
      "text/plain": [
       "            Dividends      retx       ret\n",
       "Date                                     \n",
       "2020-08-03        NaN  0.025198  0.025198\n",
       "2020-08-04        NaN  0.006678  0.006678\n",
       "2020-08-05        NaN  0.003625  0.003625\n",
       "2020-08-06        NaN  0.034889  0.034889\n",
       "2020-08-07      0.205 -0.024495 -0.022695\n",
       "2020-08-10        NaN  0.014535  0.014535"
      ]
     },
     "execution_count": 134,
     "metadata": {},
     "output_type": "execute_result"
    }
   ],
   "source": [
    "prcs['retx'] = prcs['Close'].pct_change()\n",
    "\n",
    "prcs['ret'] = (prcs['Close'] + prcs['Dividends'].fillna(0)) / prcs['Close'].shift() - 1\n",
    "\n",
    "prcs.loc['2020-08-01':'2020-08-10', ['Dividends', 'retx', 'ret']]"
   ]
  },
  {
   "cell_type": "markdown",
   "metadata": {},
   "source": [
    "Note that\n",
    "\n",
    "$$\\text{ret} - \\text{retx} = \\frac{D_t}{P_{t-1}},$$\n",
    "\n",
    "so we can recover the dividend from the difference in these two series by multiplying by the lagged price."
   ]
  },
  {
   "cell_type": "code",
   "execution_count": 133,
   "metadata": {},
   "outputs": [
    {
     "data": {
      "text/plain": [
       "Date\n",
       "2019-02-08    0.1825\n",
       "2019-05-10    0.1925\n",
       "2019-08-09    0.1925\n",
       "2019-11-07    0.1925\n",
       "2020-02-07    0.1925\n",
       "2020-05-08    0.2050\n",
       "2020-08-07    0.2050\n",
       "2020-11-06    0.2050\n",
       "dtype: float64"
      ]
     },
     "execution_count": 133,
     "metadata": {},
     "output_type": "execute_result"
    }
   ],
   "source": [
    "divs = (prcs['ret'] - prcs['retx']) * prcs['Close'].shift()\n",
    "\n",
    "divs[divs>0]"
   ]
  },
  {
   "cell_type": "code",
   "execution_count": 126,
   "metadata": {
    "tags": [
     "remove-cell"
    ]
   },
   "outputs": [],
   "source": [
    "import wrds\n",
    "\n",
    "conn = wrds.Connection()\n",
    "\n",
    "q = \"\"\"\n",
    "        select date, prc, ret, retx, shrout, vol, bidlo, askhi, openprc\n",
    "        from crsp.dsf \n",
    "        where permno = 14593\n",
    "        and date>='08/01/2020' and date<'09/15/2020'\n",
    "\"\"\"\n",
    "\n",
    "apple = conn.raw_sql(q, date_cols=['date']).set_index('date')\n",
    "\n",
    "apple.loc['2020-08-01':'2020-08-10']"
   ]
  },
  {
   "cell_type": "markdown",
   "metadata": {},
   "source": [
    "## Compound returns"
   ]
  },
  {
   "cell_type": "markdown",
   "metadata": {},
   "source": [
    "Holding the asset for $k$ periods would earn a gross return of\n",
    "\n",
    "\\begin{align*}\n",
    "1+R_t[k] = \\frac{P_t}{P_{t-k}} &= \\frac{P_t}{P_{t-1}} \\times \\frac{P_{t-1}}{P_{t-2}} \\times \\cdots \\times \\frac{P_{t-k+1}}{P_{t-k}} \\\\\n",
    "&= (1+R_t)(1+R_{t-1})\\cdots(1+R_{t-k+1}) \\\\\n",
    "&= \\prod_{j=0}^{k-1}(1+R_{t-j}).\n",
    "\\end{align*}\n",
    "\n",
    "That is, the $k$-period return is simply the product of the $k$ one-period returns; for this reason it is also called the *compound return*."
   ]
  },
  {
   "cell_type": "markdown",
   "metadata": {
    "slideshow": {
     "slide_type": "subslide"
    }
   },
   "source": [
    "Assets may generate a return that is compounded over varying intervals. For example, an asset generating a return per year of $R$ but compouning $n$ times per year will have a total return of\n",
    "\n",
    "$$\\left(1+\\frac{R}{n}\\right)^n.$$"
   ]
  },
  {
   "cell_type": "code",
   "execution_count": 20,
   "metadata": {},
   "outputs": [
    {
     "data": {
      "text/html": [
       "<div>\n",
       "<style scoped>\n",
       "    .dataframe tbody tr th:only-of-type {\n",
       "        vertical-align: middle;\n",
       "    }\n",
       "\n",
       "    .dataframe tbody tr th {\n",
       "        vertical-align: top;\n",
       "    }\n",
       "\n",
       "    .dataframe thead th {\n",
       "        text-align: right;\n",
       "    }\n",
       "</style>\n",
       "<table border=\"1\" class=\"dataframe\">\n",
       "  <thead>\n",
       "    <tr style=\"text-align: right;\">\n",
       "      <th></th>\n",
       "      <th>Gross return</th>\n",
       "    </tr>\n",
       "    <tr>\n",
       "      <th>Frequency</th>\n",
       "      <th></th>\n",
       "    </tr>\n",
       "  </thead>\n",
       "  <tbody>\n",
       "    <tr>\n",
       "      <th>1</th>\n",
       "      <td>1.100000</td>\n",
       "    </tr>\n",
       "    <tr>\n",
       "      <th>2</th>\n",
       "      <td>1.102500</td>\n",
       "    </tr>\n",
       "    <tr>\n",
       "      <th>4</th>\n",
       "      <td>1.103813</td>\n",
       "    </tr>\n",
       "    <tr>\n",
       "      <th>12</th>\n",
       "      <td>1.104713</td>\n",
       "    </tr>\n",
       "    <tr>\n",
       "      <th>52</th>\n",
       "      <td>1.105065</td>\n",
       "    </tr>\n",
       "    <tr>\n",
       "      <th>365</th>\n",
       "      <td>1.105156</td>\n",
       "    </tr>\n",
       "    <tr>\n",
       "      <th>8760</th>\n",
       "      <td>1.105170</td>\n",
       "    </tr>\n",
       "  </tbody>\n",
       "</table>\n",
       "</div>"
      ],
      "text/plain": [
       "           Gross return\n",
       "Frequency              \n",
       "1              1.100000\n",
       "2              1.102500\n",
       "4              1.103813\n",
       "12             1.104713\n",
       "52             1.105065\n",
       "365            1.105156\n",
       "8760           1.105170"
      ]
     },
     "execution_count": 20,
     "metadata": {},
     "output_type": "execute_result"
    }
   ],
   "source": [
    "R = 0.1\n",
    "\n",
    "prds = [1, 2, 4, 12, 52, 365, 24*365]\n",
    "vals = [(1+R/n)**n for n in prds]\n",
    "tbl = pd.DataFrame(vals, index=prds, columns=['Gross return'])\n",
    "tbl.index.name = 'Frequency'\n",
    "\n",
    "tbl"
   ]
  },
  {
   "cell_type": "markdown",
   "metadata": {},
   "source": [
    "In the limit $n\\to\\infty$ this leads to a *continuous compounding*,\n",
    "\n",
    "$$\\lim _{n\\to \\infty }\\left(1+{\\frac {R}{n}}\\right)^{n} = e^R.$$\n",
    "\n",
    "With continuous compounding, the asset value after one year is\n",
    "\n",
    "$$e^{0.1} \\approx 1.10517.$$"
   ]
  },
  {
   "cell_type": "code",
   "execution_count": 21,
   "metadata": {},
   "outputs": [
    {
     "data": {
      "text/plain": [
       "1.1051709180756477"
      ]
     },
     "execution_count": 21,
     "metadata": {},
     "output_type": "execute_result"
    }
   ],
   "source": [
    "np.exp(0.1)"
   ]
  },
  {
   "cell_type": "markdown",
   "metadata": {
    "slideshow": {
     "slide_type": "slide"
    }
   },
   "source": [
    "## Log returns"
   ]
  },
  {
   "cell_type": "markdown",
   "metadata": {},
   "source": [
    "The *log return*, or *continuously compounded return* is\n",
    "\n",
    "$$r_t = \\ln(1+R_t) = \\ln\\left(\\frac{P_t}{P_{t-1}}\\right) = \\Delta \\ln(P_t),$$\n",
    "\n",
    "where $\\Delta x_t := x_t - x_{t-1}$ is the *difference operator*."
   ]
  },
  {
   "cell_type": "markdown",
   "metadata": {},
   "source": [
    "The multiperiod log return is simply the sum of the continuously compounded one-period returns.\n",
    "\n",
    "\\begin{align*}\n",
    "r_t[k] &= \\ln(1+R_t[k]) \\\\\n",
    "& = \\ln[(1+R_t)(1+R_{t-1}\\cdots(1+R_{t-k+1})] \\\\\n",
    "&= \\ln(1+R_t) + \\ln(1+R_{t-1}) + \\cdots + \\ln(1+R_{t-k+1}) \\\\\n",
    "&= r_t + r_{t-1} + \\cdots + r_{t-k+1}.\n",
    "\\end{align*}"
   ]
  },
  {
   "cell_type": "markdown",
   "metadata": {},
   "source": [
    "Recall that the first-order [Taylor expansion](TaylorSeries) of\n",
    "\n",
    "$$\\ln(1+R) \\approx R,$$\n",
    "\n",
    "which implies that, for small returns, the log return will be close to the net return; this similarity breaks down as price changes become larger."
   ]
  },
  {
   "cell_type": "markdown",
   "metadata": {},
   "source": [
    ":::{admonition} Exercise\n",
    "\n",
    "Calculate the log return using the `ret` series. On what dates is the difference between the log return and the standard return greater than 0.005?\n",
    "\n",
    ":::"
   ]
  },
  {
   "cell_type": "code",
   "execution_count": 148,
   "metadata": {
    "tags": [
     "remove-cell"
    ]
   },
   "outputs": [],
   "source": [
    "prcs['logret'] = np.log(1+prcs['ret'])\n",
    "\n",
    "mask = (prcs['logret'] - prcs['ret']).abs() > 0.005\n",
    "\n",
    "prcs[mask]"
   ]
  },
  {
   "cell_type": "markdown",
   "metadata": {},
   "source": [
    "## Aggregating returns"
   ]
  },
  {
   "cell_type": "code",
   "execution_count": 159,
   "metadata": {},
   "outputs": [
    {
     "data": {
      "text/plain": [
       "Date\n",
       "2019-01-31    0.052546\n",
       "2019-02-28    0.043798\n",
       "2019-03-31    0.092603\n",
       "2019-04-30    0.054901\n",
       "2019-05-31   -0.132578\n",
       "2019-06-30    0.122677\n",
       "2019-07-31    0.073617\n",
       "2019-08-31   -0.016567\n",
       "2019-09-30    0.070423\n",
       "2019-10-31    0.104976\n",
       "2019-11-30    0.074660\n",
       "2019-12-31    0.094204\n",
       "2020-01-31    0.052602\n",
       "2020-02-29   -0.121798\n",
       "2020-03-31   -0.072314\n",
       "2020-04-30    0.144424\n",
       "2020-05-31    0.081604\n",
       "2020-06-30    0.137487\n",
       "2020-07-31    0.152834\n",
       "2020-08-31    0.196077\n",
       "2020-09-30   -0.108171\n",
       "2020-10-31   -0.061888\n",
       "2020-11-30    0.091207\n",
       "2020-12-31    0.108472\n",
       "Freq: M, Name: logret, dtype: float64"
      ]
     },
     "execution_count": 159,
     "metadata": {},
     "output_type": "execute_result"
    }
   ],
   "source": [
    "prcs.resample('M')['logret'].sum()"
   ]
  },
  {
   "cell_type": "code",
   "execution_count": 153,
   "metadata": {},
   "outputs": [
    {
     "data": {
      "text/plain": [
       "Date\n",
       "2019-01-31    0.053951\n",
       "2019-02-28    0.044771\n",
       "2019-03-31    0.097026\n",
       "2019-04-30    0.056436\n",
       "2019-05-31   -0.124166\n",
       "2019-06-30    0.130519\n",
       "2019-07-31    0.076394\n",
       "2019-08-31   -0.016430\n",
       "2019-09-30    0.072962\n",
       "2019-10-31    0.110684\n",
       "2019-11-30    0.077517\n",
       "2019-12-31    0.098784\n",
       "2020-01-31    0.054010\n",
       "2020-02-29   -0.114673\n",
       "2020-03-31   -0.069761\n",
       "2020-04-30    0.155374\n",
       "2020-05-31    0.085026\n",
       "2020-06-30    0.147386\n",
       "2020-07-31    0.165132\n",
       "2020-08-31    0.216620\n",
       "2020-09-30   -0.102526\n",
       "2020-10-31   -0.060012\n",
       "2020-11-30    0.095495\n",
       "2020-12-31    0.114574\n",
       "Freq: M, Name: ret, dtype: float64"
      ]
     },
     "execution_count": 153,
     "metadata": {},
     "output_type": "execute_result"
    }
   ],
   "source": [
    "prcs.resample('M')['ret'].apply(lambda x: (1+x).product()-1)"
   ]
  },
  {
   "cell_type": "markdown",
   "metadata": {},
   "source": [
    "## Constructing a price index"
   ]
  },
  {
   "cell_type": "code",
   "execution_count": 272,
   "metadata": {},
   "outputs": [
    {
     "data": {
      "image/png": "[encoded data removed]",
      "text/plain": [
       "<Figure size 640x480 with 1 Axes>"
      ]
     },
     "metadata": {
      "filenames": {
       "image/png": "/Users/nstoffma/Dropbox/Teaching/QF Book/_build/jupyter_execute/01b returns_32_0.png"
      }
     },
     "output_type": "display_data"
    }
   ],
   "source": [
    "ax = (1+prcs['ret'].fillna(0)).cumprod().plot(xlabel='')\n",
    "ax.grid(alpha=0.3)\n",
    "ax.set_xlim(prcs.index[0],None)\n",
    "plt.show()"
   ]
  },
  {
   "cell_type": "markdown",
   "metadata": {},
   "source": [
    "## Day and night returns"
   ]
  },
  {
   "cell_type": "markdown",
   "metadata": {},
   "source": [
    ":::{admonition} Exercise\n",
    "\n",
    "The [SPDR S&P 500 Trust ETF](https://finance.yahoo.com/quote/SPY?p=SPY), introduced in 1993, is an [exchange-traded fund](https://www.investopedia.com/terms/e/etf.asp) that tracks the performance of the S&P 500 Index.\n",
    "\n",
    "1. Download the complete history of price data for this ETF.\n",
    "\n",
    "2. Calculate the return earned while the market is open (Open-to-Close) and the overnight return (Close-to-Open).\n",
    "\n",
    "3. Confirm that the total day-time and overnight return equals close-to-close return.\n",
    "\n",
    "4. Calculate the volatility of each return. Interpret your finding.\n",
    "\n",
    "5. Calculate and plot the cumulative return of the day and night returns. What do you learn from the graph?\n",
    "\n",
    "6. Calculate the day and night returns for each year. Create a bar chart showing the returns by year.\n",
    "\n",
    ":::"
   ]
  },
  {
   "cell_type": "code",
   "execution_count": 13,
   "metadata": {
    "tags": [
     "remove-cell"
    ]
   },
   "outputs": [],
   "source": [
    "sp500 = pdr.get_data_yahoo('SPY', 1993)\n",
    "\n",
    "sp500['ret'] = sp500['Close'].pct_change()\n",
    "sp500['otc'] = sp500['Close'] / sp500['Open'] - 1\n",
    "sp500['cto'] = sp500['Open'] / sp500['Close'].shift() - 1\n",
    "\n",
    "sp500 = sp500.dropna()\n",
    "\n",
    "np.allclose(\n",
    "    (1+sp500['otc'])*(1+sp500['cto']) - 1,\n",
    "    sp500['ret']\n",
    ")"
   ]
  },
  {
   "cell_type": "code",
   "execution_count": 14,
   "metadata": {
    "tags": [
     "remove-cell"
    ]
   },
   "outputs": [
    {
     "data": {
      "text/plain": [
       "otc    0.009711\n",
       "cto    0.006737\n",
       "dtype: float64"
      ]
     },
     "execution_count": 14,
     "metadata": {},
     "output_type": "execute_result"
    }
   ],
   "source": [
    "sp500[['otc', 'cto']].std()"
   ]
  },
  {
   "cell_type": "code",
   "execution_count": 18,
   "metadata": {
    "tags": [
     "remove-cell"
    ]
   },
   "outputs": [],
   "source": [
    "import matplotlib.pyplot as plt\n",
    "\n",
    "from matplotlib.ticker import StrMethodFormatter\n",
    "from matplotlib.dates import YearLocator, DateFormatter"
   ]
  },
  {
   "cell_type": "code",
   "execution_count": 15,
   "metadata": {
    "tags": [
     "remove-cell"
    ]
   },
   "outputs": [
    {
     "data": {
      "image/png": "[encoded data removed]",
      "text/plain": [
       "<Figure size 640x480 with 1 Axes>"
      ]
     },
     "metadata": {
      "filenames": {
       "image/png": "/Users/nstoffma/Dropbox/Teaching/QF Book/_build/jupyter_execute/01b returns_38_0.png"
      }
     },
     "output_type": "display_data"
    }
   ],
   "source": [
    "ax = ((1 + sp500[['otc', 'cto']]).cumprod() - 1).plot(xlabel='')\n",
    "\n",
    "ax.grid(alpha=0.3, axis='y')\n",
    "for s in ['right', 'top']:\n",
    "    ax.spines[s].set_visible(False)\n",
    "ax.set_xlim(sp500.index[0], None)\n",
    "ax.yaxis.set_major_formatter(StrMethodFormatter('{x:.0%}'))\n",
    "ax.xaxis.set_major_locator(YearLocator(10))\n",
    "ax.legend(['day', 'night'])\n",
    "plt.show()"
   ]
  },
  {
   "cell_type": "markdown",
   "metadata": {
    "tags": [
     "remove-cell"
    ]
   },
   "source": [
    "https://www.nytimes.com/2018/02/02/your-money/stock-market-after-hours-trading.html"
   ]
  },
  {
   "cell_type": "code",
   "execution_count": 19,
   "metadata": {
    "tags": [
     "remove-cell"
    ]
   },
   "outputs": [
    {
     "data": {
      "image/png": "[encoded data removed]",
      "text/plain": [
       "<Figure size 640x480 with 1 Axes>"
      ]
     },
     "metadata": {
      "filenames": {
       "image/png": "/Users/nstoffma/Dropbox/Teaching/QF Book/_build/jupyter_execute/01b returns_40_0.png"
      }
     },
     "output_type": "display_data"
    }
   ],
   "source": [
    "annrets = sp500.resample('A')[['ret', 'otc', 'cto']].apply(lambda x: (1+x).product()) - 1\n",
    "# annrets.index = annrets.index.year\n",
    "\n",
    "ax = annrets[['otc', 'cto']].plot.bar()\n",
    "ax.xaxis.set_major_formatter(DateFormatter('%Y'))"
   ]
  }
 ],
 "metadata": {
  "celltoolbar": "Slideshow",
  "kernelspec": {
   "display_name": "Python 3 (ipykernel)",
   "language": "python",
   "name": "python3"
  },
  "language_info": {
   "codemirror_mode": {
    "name": "ipython",
    "version": 3
   },
   "file_extension": ".py",
   "mimetype": "text/x-python",
   "name": "python",
   "nbconvert_exporter": "python",
   "pygments_lexer": "ipython3",
   "version": "3.9.13"
  },
  "toc": {
   "base_numbering": 1,
   "nav_menu": {},
   "number_sections": false,
   "sideBar": true,
   "skip_h1_title": false,
   "title_cell": "Table of Contents",
   "title_sidebar": "Contents",
   "toc_cell": false,
   "toc_position": {},
   "toc_section_display": true,
   "toc_window_display": false
  }
 },
 "nbformat": 4,
 "nbformat_minor": 4
}